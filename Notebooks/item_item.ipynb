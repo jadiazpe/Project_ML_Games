{
 "cells": [
  {
   "cell_type": "markdown",
   "id": "f24d6f09",
   "metadata": {},
   "source": [
    "# ---- RECOMMENDATION MODEL: ITEM TO ITEM ----"
   ]
  },
  {
   "cell_type": "code",
   "execution_count": 1,
   "id": "e1b7c73d",
   "metadata": {},
   "outputs": [],
   "source": [
    "import pandas as pd                                             # ---> Libraries to be used\n",
    "from sklearn.feature_extraction.text import CountVectorizer     \n",
    "from sklearn.metrics.pairwise import cosine_similarity"
   ]
  },
  {
   "cell_type": "code",
   "execution_count": 2,
   "id": "bc81b7df",
   "metadata": {},
   "outputs": [],
   "source": [
    "df_games = pd.read_csv('./Datasets/processing/games_raw.csv')       # ---> Reading of csv files previously processed with ETL techniques"
   ]
  },
  {
   "cell_type": "markdown",
   "id": "b4de27a1",
   "metadata": {},
   "source": [
    "## 1. Handling of relevant information"
   ]
  },
  {
   "cell_type": "code",
   "execution_count": 3,
   "id": "d36003d5",
   "metadata": {},
   "outputs": [
    {
     "data": {
      "text/html": [
       "<div>\n",
       "<style scoped>\n",
       "    .dataframe tbody tr th:only-of-type {\n",
       "        vertical-align: middle;\n",
       "    }\n",
       "\n",
       "    .dataframe tbody tr th {\n",
       "        vertical-align: top;\n",
       "    }\n",
       "\n",
       "    .dataframe thead th {\n",
       "        text-align: right;\n",
       "    }\n",
       "</style>\n",
       "<table border=\"1\" class=\"dataframe\">\n",
       "  <thead>\n",
       "    <tr style=\"text-align: right;\">\n",
       "      <th></th>\n",
       "      <th>app_name</th>\n",
       "      <th>specs</th>\n",
       "      <th>item_id</th>\n",
       "    </tr>\n",
       "  </thead>\n",
       "  <tbody>\n",
       "    <tr>\n",
       "      <th>0</th>\n",
       "      <td>Lost Summoner Kitty</td>\n",
       "      <td>['Single-player']</td>\n",
       "      <td>761140</td>\n",
       "    </tr>\n",
       "    <tr>\n",
       "      <th>1</th>\n",
       "      <td>Ironbound</td>\n",
       "      <td>['Single-player', 'Multi-player', 'Online Mult...</td>\n",
       "      <td>643980</td>\n",
       "    </tr>\n",
       "    <tr>\n",
       "      <th>2</th>\n",
       "      <td>Real Pool 3D - Poolians</td>\n",
       "      <td>['Single-player', 'Multi-player', 'Online Mult...</td>\n",
       "      <td>670290</td>\n",
       "    </tr>\n",
       "    <tr>\n",
       "      <th>3</th>\n",
       "      <td>弹炸人2222</td>\n",
       "      <td>['Single-player']</td>\n",
       "      <td>767400</td>\n",
       "    </tr>\n",
       "    <tr>\n",
       "      <th>4</th>\n",
       "      <td>Log Challenge</td>\n",
       "      <td>['Single-player', 'Full controller support', '...</td>\n",
       "      <td>773570</td>\n",
       "    </tr>\n",
       "  </tbody>\n",
       "</table>\n",
       "</div>"
      ],
      "text/plain": [
       "                  app_name                                              specs  \\\n",
       "0      Lost Summoner Kitty                                  ['Single-player']   \n",
       "1                Ironbound  ['Single-player', 'Multi-player', 'Online Mult...   \n",
       "2  Real Pool 3D - Poolians  ['Single-player', 'Multi-player', 'Online Mult...   \n",
       "3                  弹炸人2222                                  ['Single-player']   \n",
       "4            Log Challenge  ['Single-player', 'Full controller support', '...   \n",
       "\n",
       "   item_id  \n",
       "0   761140  \n",
       "1   643980  \n",
       "2   670290  \n",
       "3   767400  \n",
       "4   773570  "
      ]
     },
     "execution_count": 3,
     "metadata": {},
     "output_type": "execute_result"
    }
   ],
   "source": [
    "df_games = df_games.rename(columns={'id':'item_id'})        # ---> In order to keep consistency 'id' column is renamed to 'item_id'\n",
    "df_games.head()"
   ]
  },
  {
   "cell_type": "code",
   "execution_count": 4,
   "id": "ad78f60d",
   "metadata": {},
   "outputs": [],
   "source": [
    "df_games = df_games.iloc[:4000]                             # ---> A sample of 4000 records is picked for running the ML model"
   ]
  },
  {
   "cell_type": "code",
   "execution_count": 5,
   "id": "e0dd2dbb",
   "metadata": {},
   "outputs": [
    {
     "name": "stdout",
     "output_type": "stream",
     "text": [
      "<class 'pandas.core.frame.DataFrame'>\n",
      "RangeIndex: 4000 entries, 0 to 3999\n",
      "Data columns (total 3 columns):\n",
      " #   Column    Non-Null Count  Dtype \n",
      "---  ------    --------------  ----- \n",
      " 0   app_name  4000 non-null   object\n",
      " 1   specs     4000 non-null   object\n",
      " 2   item_id   4000 non-null   int64 \n",
      "dtypes: int64(1), object(2)\n",
      "memory usage: 93.9+ KB\n"
     ]
    }
   ],
   "source": [
    "df_games.info()"
   ]
  },
  {
   "cell_type": "code",
   "execution_count": 6,
   "id": "5c5ee28f",
   "metadata": {},
   "outputs": [
    {
     "data": {
      "text/html": [
       "<div>\n",
       "<style scoped>\n",
       "    .dataframe tbody tr th:only-of-type {\n",
       "        vertical-align: middle;\n",
       "    }\n",
       "\n",
       "    .dataframe tbody tr th {\n",
       "        vertical-align: top;\n",
       "    }\n",
       "\n",
       "    .dataframe thead th {\n",
       "        text-align: right;\n",
       "    }\n",
       "</style>\n",
       "<table border=\"1\" class=\"dataframe\">\n",
       "  <thead>\n",
       "    <tr style=\"text-align: right;\">\n",
       "      <th></th>\n",
       "      <th>app_name</th>\n",
       "      <th>specs</th>\n",
       "      <th>item_id</th>\n",
       "    </tr>\n",
       "  </thead>\n",
       "  <tbody>\n",
       "    <tr>\n",
       "      <th>0</th>\n",
       "      <td>Lost Summoner Kitty</td>\n",
       "      <td>['Single-player']</td>\n",
       "      <td>761140</td>\n",
       "    </tr>\n",
       "    <tr>\n",
       "      <th>1</th>\n",
       "      <td>Ironbound</td>\n",
       "      <td>['Single-player', 'Multi-player', 'Online Mult...</td>\n",
       "      <td>643980</td>\n",
       "    </tr>\n",
       "    <tr>\n",
       "      <th>2</th>\n",
       "      <td>Real Pool 3D - Poolians</td>\n",
       "      <td>['Single-player', 'Multi-player', 'Online Mult...</td>\n",
       "      <td>670290</td>\n",
       "    </tr>\n",
       "    <tr>\n",
       "      <th>3</th>\n",
       "      <td>弹炸人2222</td>\n",
       "      <td>['Single-player']</td>\n",
       "      <td>767400</td>\n",
       "    </tr>\n",
       "    <tr>\n",
       "      <th>4</th>\n",
       "      <td>Log Challenge</td>\n",
       "      <td>['Single-player', 'Full controller support', '...</td>\n",
       "      <td>773570</td>\n",
       "    </tr>\n",
       "  </tbody>\n",
       "</table>\n",
       "</div>"
      ],
      "text/plain": [
       "                  app_name                                              specs  \\\n",
       "0      Lost Summoner Kitty                                  ['Single-player']   \n",
       "1                Ironbound  ['Single-player', 'Multi-player', 'Online Mult...   \n",
       "2  Real Pool 3D - Poolians  ['Single-player', 'Multi-player', 'Online Mult...   \n",
       "3                  弹炸人2222                                  ['Single-player']   \n",
       "4            Log Challenge  ['Single-player', 'Full controller support', '...   \n",
       "\n",
       "   item_id  \n",
       "0   761140  \n",
       "1   643980  \n",
       "2   670290  \n",
       "3   767400  \n",
       "4   773570  "
      ]
     },
     "execution_count": 6,
     "metadata": {},
     "output_type": "execute_result"
    }
   ],
   "source": [
    "df_games1 = df_games.loc[:, ['app_name','specs', 'item_id']]   # ---> filter DataFrame with the columns used for development\n",
    "df_games1.head()"
   ]
  },
  {
   "cell_type": "code",
   "execution_count": 7,
   "id": "14635850",
   "metadata": {},
   "outputs": [],
   "source": [
    "# ---> Certain special characters are removed from the 'specs' column\n",
    "df_games1['specs'] = df_games1['specs'].apply(lambda x: str(x).replace('[', '').replace(']', '').replace(\"'\", ''))"
   ]
  },
  {
   "cell_type": "code",
   "execution_count": 8,
   "id": "00b51261",
   "metadata": {},
   "outputs": [
    {
     "data": {
      "text/html": [
       "<div>\n",
       "<style scoped>\n",
       "    .dataframe tbody tr th:only-of-type {\n",
       "        vertical-align: middle;\n",
       "    }\n",
       "\n",
       "    .dataframe tbody tr th {\n",
       "        vertical-align: top;\n",
       "    }\n",
       "\n",
       "    .dataframe thead th {\n",
       "        text-align: right;\n",
       "    }\n",
       "</style>\n",
       "<table border=\"1\" class=\"dataframe\">\n",
       "  <thead>\n",
       "    <tr style=\"text-align: right;\">\n",
       "      <th></th>\n",
       "      <th>app_name</th>\n",
       "      <th>specs</th>\n",
       "      <th>item_id</th>\n",
       "    </tr>\n",
       "  </thead>\n",
       "  <tbody>\n",
       "    <tr>\n",
       "      <th>0</th>\n",
       "      <td>Lost Summoner Kitty</td>\n",
       "      <td>Single-player</td>\n",
       "      <td>761140</td>\n",
       "    </tr>\n",
       "    <tr>\n",
       "      <th>1</th>\n",
       "      <td>Ironbound</td>\n",
       "      <td>Single-player, Multi-player, Online Multi-Play...</td>\n",
       "      <td>643980</td>\n",
       "    </tr>\n",
       "    <tr>\n",
       "      <th>2</th>\n",
       "      <td>Real Pool 3D - Poolians</td>\n",
       "      <td>Single-player, Multi-player, Online Multi-Play...</td>\n",
       "      <td>670290</td>\n",
       "    </tr>\n",
       "    <tr>\n",
       "      <th>3</th>\n",
       "      <td>弹炸人2222</td>\n",
       "      <td>Single-player</td>\n",
       "      <td>767400</td>\n",
       "    </tr>\n",
       "    <tr>\n",
       "      <th>4</th>\n",
       "      <td>Log Challenge</td>\n",
       "      <td>Single-player, Full controller support, HTC Vi...</td>\n",
       "      <td>773570</td>\n",
       "    </tr>\n",
       "  </tbody>\n",
       "</table>\n",
       "</div>"
      ],
      "text/plain": [
       "                  app_name                                              specs  \\\n",
       "0      Lost Summoner Kitty                                      Single-player   \n",
       "1                Ironbound  Single-player, Multi-player, Online Multi-Play...   \n",
       "2  Real Pool 3D - Poolians  Single-player, Multi-player, Online Multi-Play...   \n",
       "3                  弹炸人2222                                      Single-player   \n",
       "4            Log Challenge  Single-player, Full controller support, HTC Vi...   \n",
       "\n",
       "   item_id  \n",
       "0   761140  \n",
       "1   643980  \n",
       "2   670290  \n",
       "3   767400  \n",
       "4   773570  "
      ]
     },
     "execution_count": 8,
     "metadata": {},
     "output_type": "execute_result"
    }
   ],
   "source": [
    "df_games1.head()"
   ]
  },
  {
   "cell_type": "code",
   "execution_count": 9,
   "id": "63ce3712",
   "metadata": {},
   "outputs": [
    {
     "name": "stdout",
     "output_type": "stream",
     "text": [
      "<class 'pandas.core.frame.DataFrame'>\n",
      "RangeIndex: 4000 entries, 0 to 3999\n",
      "Data columns (total 3 columns):\n",
      " #   Column    Non-Null Count  Dtype \n",
      "---  ------    --------------  ----- \n",
      " 0   app_name  4000 non-null   object\n",
      " 1   specs     4000 non-null   object\n",
      " 2   item_id   4000 non-null   int64 \n",
      "dtypes: int64(1), object(2)\n",
      "memory usage: 93.9+ KB\n"
     ]
    }
   ],
   "source": [
    "df_games1.info()"
   ]
  },
  {
   "cell_type": "markdown",
   "id": "ce03c779",
   "metadata": {},
   "source": [
    "## 2. Model Development"
   ]
  },
  {
   "cell_type": "markdown",
   "id": "4d1bd648",
   "metadata": {},
   "source": [
    "---> Precepts: The model recommendation to be developed is ITEM by ITEM. The measure to be used to develop the model is the \"cosine similarity\"."
   ]
  },
  {
   "cell_type": "markdown",
   "id": "943634f0",
   "metadata": {},
   "source": [
    "### 2.1 CountVectorizer"
   ]
  },
  {
   "cell_type": "markdown",
   "id": "160098ed",
   "metadata": {},
   "source": [
    "---> Objective: Creation of a text vectorizer (CountVectorizer) to convert the text in the 'specs' column into numeric elements (vectors).\n",
    "\n",
    "---> Process: The vectorizer assigns a number to each unique word present in the text and counts its frequency. Each document (in this case, each set) is represented as a vector where each position corresponds to the frequency of a word."
   ]
  },
  {
   "cell_type": "code",
   "execution_count": 10,
   "id": "5d7d5fb8",
   "metadata": {},
   "outputs": [],
   "source": [
    "cv = CountVectorizer()                              # ---> Creation of the text vectorizer\n",
    "vectors = cv.fit_transform(df_games1['specs']).toarray()"
   ]
  },
  {
   "cell_type": "markdown",
   "id": "c327923f",
   "metadata": {},
   "source": [
    "### 2.2 Cosine Similarity"
   ]
  },
  {
   "cell_type": "markdown",
   "id": "66a423e5",
   "metadata": {},
   "source": [
    "---> Objective: To evaluate the similarity between numerical vectors of different sets.\n",
    "\n",
    "---> Process: The cosine similarity metric, which measures the cosine of the angle between two vectors, is used. The closer to 1, the more similar the vectors are."
   ]
  },
  {
   "cell_type": "code",
   "execution_count": 11,
   "id": "8b9d2082",
   "metadata": {},
   "outputs": [],
   "source": [
    "similar = cosine_similarity(vectors)"
   ]
  },
  {
   "cell_type": "code",
   "execution_count": 12,
   "id": "7c14e3c2",
   "metadata": {},
   "outputs": [
    {
     "name": "stdout",
     "output_type": "stream",
     "text": [
      "4000\n"
     ]
    }
   ],
   "source": [
    "print(len(similar))"
   ]
  },
  {
   "cell_type": "markdown",
   "id": "154730ad",
   "metadata": {},
   "source": [
    "### 2.3 Recommendation Function"
   ]
  },
  {
   "cell_type": "markdown",
   "id": "116b5b8a",
   "metadata": {},
   "source": [
    "Creation of the 'recommendation' function that takes as input the ID of a game, and returns a list of the five (5) most recommended games based on the cosine similarity between the vectors.The function returns the list of recommended titles."
   ]
  },
  {
   "cell_type": "code",
   "execution_count": 13,
   "id": "5f16a8f1",
   "metadata": {},
   "outputs": [],
   "source": [
    "def recommendation(game):\n",
    "    # ---> Location of the index of the set in the DataFrame. This index is used to access the corresponding row in the similarity matrix.\n",
    "    game_index = df_games1[df_games1['item_id'] == game].index[0]\n",
    "    \n",
    "    # ---> Similarity Calculation. The similarity distances between the input set and the other sets in the data set are calculated.\n",
    "    distances = similar[game_index]\n",
    "    \n",
    "   # ---> The distances are ordered in descending order, and the five (5) games with the highest similarity (excluding the entry game) are selected.\n",
    "    game_list = sorted(list(enumerate(distances)), reverse=True, key=lambda x: x[1])[1:6]\n",
    "    \n",
    "    # ---> Recommendation: returns the recommended games list.\n",
    "    recommended_titles = [df_games1.iloc[i[0]]['app_name'] for i in game_list]\n",
    "    \n",
    "    return recommended_titles"
   ]
  },
  {
   "cell_type": "code",
   "execution_count": 14,
   "id": "63cd146c",
   "metadata": {},
   "outputs": [],
   "source": [
    "# ---> Apply the function to the column 'item_id' and create a new column named 'Recommendations'\n",
    "df_games1['recommendations'] = df_games1['item_id'].apply(recommendation)"
   ]
  },
  {
   "cell_type": "code",
   "execution_count": 15,
   "id": "ffa74882",
   "metadata": {},
   "outputs": [
    {
     "data": {
      "text/html": [
       "<div>\n",
       "<style scoped>\n",
       "    .dataframe tbody tr th:only-of-type {\n",
       "        vertical-align: middle;\n",
       "    }\n",
       "\n",
       "    .dataframe tbody tr th {\n",
       "        vertical-align: top;\n",
       "    }\n",
       "\n",
       "    .dataframe thead th {\n",
       "        text-align: right;\n",
       "    }\n",
       "</style>\n",
       "<table border=\"1\" class=\"dataframe\">\n",
       "  <thead>\n",
       "    <tr style=\"text-align: right;\">\n",
       "      <th></th>\n",
       "      <th>item_id</th>\n",
       "      <th>recommendations</th>\n",
       "    </tr>\n",
       "  </thead>\n",
       "  <tbody>\n",
       "    <tr>\n",
       "      <th>0</th>\n",
       "      <td>761140</td>\n",
       "      <td>[弹炸人2222, Uncanny Islands, Beach Rules, Planet...</td>\n",
       "    </tr>\n",
       "    <tr>\n",
       "      <th>1</th>\n",
       "      <td>643980</td>\n",
       "      <td>[SNOW, Space Hulk, BattleLore: Command, Interp...</td>\n",
       "    </tr>\n",
       "    <tr>\n",
       "      <th>2</th>\n",
       "      <td>670290</td>\n",
       "      <td>[Assassin’s Creed® IV Black Flag™, DEFCON, RAC...</td>\n",
       "    </tr>\n",
       "    <tr>\n",
       "      <th>3</th>\n",
       "      <td>767400</td>\n",
       "      <td>[弹炸人2222, Uncanny Islands, Beach Rules, Planet...</td>\n",
       "    </tr>\n",
       "    <tr>\n",
       "      <th>4</th>\n",
       "      <td>773570</td>\n",
       "      <td>[Icarus Six Sixty Six, InMind VR, Panoptic, Af...</td>\n",
       "    </tr>\n",
       "  </tbody>\n",
       "</table>\n",
       "</div>"
      ],
      "text/plain": [
       "   item_id                                    recommendations\n",
       "0   761140  [弹炸人2222, Uncanny Islands, Beach Rules, Planet...\n",
       "1   643980  [SNOW, Space Hulk, BattleLore: Command, Interp...\n",
       "2   670290  [Assassin’s Creed® IV Black Flag™, DEFCON, RAC...\n",
       "3   767400  [弹炸人2222, Uncanny Islands, Beach Rules, Planet...\n",
       "4   773570  [Icarus Six Sixty Six, InMind VR, Panoptic, Af..."
      ]
     },
     "execution_count": 15,
     "metadata": {},
     "output_type": "execute_result"
    }
   ],
   "source": [
    "# ---> Remove unnecessary columns\n",
    "df_games1.drop(columns=['app_name', 'specs'], inplace=True)\n",
    "df_games1.head()"
   ]
  },
  {
   "cell_type": "code",
   "execution_count": 16,
   "id": "a335437a",
   "metadata": {},
   "outputs": [
    {
     "name": "stdout",
     "output_type": "stream",
     "text": [
      "<class 'pandas.core.frame.DataFrame'>\n",
      "RangeIndex: 4000 entries, 0 to 3999\n",
      "Data columns (total 2 columns):\n",
      " #   Column           Non-Null Count  Dtype \n",
      "---  ------           --------------  ----- \n",
      " 0   item_id          4000 non-null   int64 \n",
      " 1   recommendations  4000 non-null   object\n",
      "dtypes: int64(1), object(1)\n",
      "memory usage: 62.6+ KB\n"
     ]
    }
   ],
   "source": [
    "df_games1.info()"
   ]
  },
  {
   "cell_type": "code",
   "execution_count": 17,
   "id": "02a50ad3",
   "metadata": {},
   "outputs": [],
   "source": [
    "df_games1.to_csv('./Datasets/ml/item_item_recommendation.csv', encoding='utf-8', index=False)"
   ]
  }
 ],
 "metadata": {
  "kernelspec": {
   "display_name": "Python 3 (ipykernel)",
   "language": "python",
   "name": "python3"
  },
  "language_info": {
   "codemirror_mode": {
    "name": "ipython",
    "version": 3
   },
   "file_extension": ".py",
   "mimetype": "text/x-python",
   "name": "python",
   "nbconvert_exporter": "python",
   "pygments_lexer": "ipython3",
   "version": "3.11.7"
  }
 },
 "nbformat": 4,
 "nbformat_minor": 5
}
