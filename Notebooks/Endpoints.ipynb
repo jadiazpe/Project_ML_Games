{
 "cells": [
  {
   "cell_type": "markdown",
   "id": "95cff253",
   "metadata": {},
   "source": [
    "# ---- PREPARATION OF CLEAN INFO FOR API APP ----"
   ]
  },
  {
   "cell_type": "markdown",
   "id": "972b041e",
   "metadata": {},
   "source": [
    "This notebook contains the necessary transformations on the information to be processed by the functions developed for the API. The data sources are the files: items.csv, reviews.csv, games.csv, and reviews_sa.csv"
   ]
  },
  {
   "cell_type": "code",
   "execution_count": 1,
   "id": "2b2d26c4",
   "metadata": {},
   "outputs": [],
   "source": [
    "import pandas as pd                                 # ---> Libraries to be used\n",
    "import ast"
   ]
  },
  {
   "cell_type": "code",
   "execution_count": 2,
   "id": "7840870b",
   "metadata": {},
   "outputs": [],
   "source": [
    "df_items = pd.read_csv('./Datasets/processing/items.csv')              # ---> Reading of csv files previously processed with ETL techniques\n",
    "df_games = pd.read_csv('./Datasets/processing/games.csv')             \n",
    "#df_user_reviews = pd.read_csv('user_reviews_cleaned.csv')\n"
   ]
  },
  {
   "cell_type": "markdown",
   "id": "f04870b1",
   "metadata": {},
   "source": [
    "### 1. Data preparation to answer 'Endpoint = PlayTimeGenre'"
   ]
  },
  {
   "cell_type": "code",
   "execution_count": 3,
   "id": "ab284295",
   "metadata": {},
   "outputs": [
    {
     "data": {
      "text/html": [
       "<div>\n",
       "<style scoped>\n",
       "    .dataframe tbody tr th:only-of-type {\n",
       "        vertical-align: middle;\n",
       "    }\n",
       "\n",
       "    .dataframe tbody tr th {\n",
       "        vertical-align: top;\n",
       "    }\n",
       "\n",
       "    .dataframe thead th {\n",
       "        text-align: right;\n",
       "    }\n",
       "</style>\n",
       "<table border=\"1\" class=\"dataframe\">\n",
       "  <thead>\n",
       "    <tr style=\"text-align: right;\">\n",
       "      <th></th>\n",
       "      <th>item_id</th>\n",
       "      <th>user_id</th>\n",
       "      <th>hours_game</th>\n",
       "      <th>released_year</th>\n",
       "      <th>genres</th>\n",
       "    </tr>\n",
       "  </thead>\n",
       "  <tbody>\n",
       "    <tr>\n",
       "      <th>0</th>\n",
       "      <td>10</td>\n",
       "      <td>76561197970982479</td>\n",
       "      <td>0.10</td>\n",
       "      <td>2000</td>\n",
       "      <td>Action</td>\n",
       "    </tr>\n",
       "    <tr>\n",
       "      <th>1</th>\n",
       "      <td>10</td>\n",
       "      <td>doctr</td>\n",
       "      <td>1.55</td>\n",
       "      <td>2000</td>\n",
       "      <td>Action</td>\n",
       "    </tr>\n",
       "    <tr>\n",
       "      <th>2</th>\n",
       "      <td>10</td>\n",
       "      <td>corrupted_soul</td>\n",
       "      <td>1.80</td>\n",
       "      <td>2000</td>\n",
       "      <td>Action</td>\n",
       "    </tr>\n",
       "    <tr>\n",
       "      <th>3</th>\n",
       "      <td>10</td>\n",
       "      <td>WeiEDKrSat</td>\n",
       "      <td>5.47</td>\n",
       "      <td>2000</td>\n",
       "      <td>Action</td>\n",
       "    </tr>\n",
       "    <tr>\n",
       "      <th>4</th>\n",
       "      <td>10</td>\n",
       "      <td>death-hunter</td>\n",
       "      <td>104.58</td>\n",
       "      <td>2000</td>\n",
       "      <td>Action</td>\n",
       "    </tr>\n",
       "  </tbody>\n",
       "</table>\n",
       "</div>"
      ],
      "text/plain": [
       "   item_id            user_id  hours_game  released_year  genres\n",
       "0       10  76561197970982479        0.10           2000  Action\n",
       "1       10              doctr        1.55           2000  Action\n",
       "2       10     corrupted_soul        1.80           2000  Action\n",
       "3       10         WeiEDKrSat        5.47           2000  Action\n",
       "4       10       death-hunter      104.58           2000  Action"
      ]
     },
     "execution_count": 3,
     "metadata": {},
     "output_type": "execute_result"
    }
   ],
   "source": [
    "# ---> An Inner Merge of the DataFrames: df_items, df_games, on the column 'item_id' is performed\n",
    "df_items_games = pd.merge(df_items, df_games[['item_id', 'released_year', 'genres']], on='item_id', how='inner')\n",
    "df_items_games.head()"
   ]
  },
  {
   "cell_type": "code",
   "execution_count": 4,
   "id": "d37e8d70",
   "metadata": {},
   "outputs": [
    {
     "data": {
      "text/html": [
       "<div>\n",
       "<style scoped>\n",
       "    .dataframe tbody tr th:only-of-type {\n",
       "        vertical-align: middle;\n",
       "    }\n",
       "\n",
       "    .dataframe tbody tr th {\n",
       "        vertical-align: top;\n",
       "    }\n",
       "\n",
       "    .dataframe thead th {\n",
       "        text-align: right;\n",
       "    }\n",
       "</style>\n",
       "<table border=\"1\" class=\"dataframe\">\n",
       "  <thead>\n",
       "    <tr style=\"text-align: right;\">\n",
       "      <th></th>\n",
       "      <th>released_year</th>\n",
       "      <th>genres</th>\n",
       "      <th>hours_game</th>\n",
       "    </tr>\n",
       "  </thead>\n",
       "  <tbody>\n",
       "    <tr>\n",
       "      <th>0</th>\n",
       "      <td>1983</td>\n",
       "      <td>Action</td>\n",
       "      <td>57.92</td>\n",
       "    </tr>\n",
       "    <tr>\n",
       "      <th>1</th>\n",
       "      <td>1983</td>\n",
       "      <td>Adventure</td>\n",
       "      <td>57.92</td>\n",
       "    </tr>\n",
       "    <tr>\n",
       "      <th>2</th>\n",
       "      <td>1983</td>\n",
       "      <td>Casual</td>\n",
       "      <td>57.92</td>\n",
       "    </tr>\n",
       "    <tr>\n",
       "      <th>3</th>\n",
       "      <td>1984</td>\n",
       "      <td>Action</td>\n",
       "      <td>6.40</td>\n",
       "    </tr>\n",
       "    <tr>\n",
       "      <th>4</th>\n",
       "      <td>1984</td>\n",
       "      <td>Adventure</td>\n",
       "      <td>6.40</td>\n",
       "    </tr>\n",
       "  </tbody>\n",
       "</table>\n",
       "</div>"
      ],
      "text/plain": [
       "   released_year     genres  hours_game\n",
       "0           1983     Action       57.92\n",
       "1           1983  Adventure       57.92\n",
       "2           1983     Casual       57.92\n",
       "3           1984     Action        6.40\n",
       "4           1984  Adventure        6.40"
      ]
     },
     "execution_count": 4,
     "metadata": {},
     "output_type": "execute_result"
    }
   ],
   "source": [
    "# ---> It is grouped by genre and year of release, and the hours of play are added up (rounded to 2 decimal places)\n",
    "df_items_games = df_items_games.groupby(['released_year', 'genres'])['hours_game'].sum().reset_index()\n",
    "df_items_games['hours_game'] = round(df_items_games['hours_game'], 2)\n",
    "df_items_games.head()"
   ]
  },
  {
   "cell_type": "code",
   "execution_count": 5,
   "id": "347ed3ef",
   "metadata": {},
   "outputs": [],
   "source": [
    "# ---> Calculation to rank the genres with the most hours played per year \n",
    "df_genre_top_hoursgame = df_items_games.loc[df_items_games.groupby(['released_year', 'genres'])['hours_game'].idxmax()]"
   ]
  },
  {
   "cell_type": "code",
   "execution_count": 6,
   "id": "0f5fc172",
   "metadata": {},
   "outputs": [
    {
     "name": "stdout",
     "output_type": "stream",
     "text": [
      "     released_year        genres  hours_game\n",
      "0             1983        Action       57.92\n",
      "1             1983     Adventure       57.92\n",
      "2             1983        Casual       57.92\n",
      "3             1984        Action        6.40\n",
      "4             1984     Adventure        6.40\n",
      "..             ...           ...         ...\n",
      "335           2018     Adventure        0.35\n",
      "336           2018  Early Access      102.12\n",
      "337           2018         Indie       38.78\n",
      "338           2018           RPG       63.69\n",
      "339           2018    Simulation       36.71\n",
      "\n",
      "[340 rows x 3 columns]\n"
     ]
    }
   ],
   "source": [
    "print(df_genre_top_hoursgame)"
   ]
  },
  {
   "cell_type": "code",
   "execution_count": 7,
   "id": "c1ddae34",
   "metadata": {},
   "outputs": [
    {
     "name": "stdout",
     "output_type": "stream",
     "text": [
      "     released_year        genres  hours_game\n",
      "0             1983        Action       57.92\n",
      "1             1983     Adventure       57.92\n",
      "2             1983        Casual       57.92\n",
      "3             1984        Action        6.40\n",
      "4             1984     Adventure        6.40\n",
      "..             ...           ...         ...\n",
      "335           2018     Adventure        0.35\n",
      "336           2018  Early Access      102.12\n",
      "337           2018         Indie       38.78\n",
      "338           2018           RPG       63.69\n",
      "339           2018    Simulation       36.71\n",
      "\n",
      "[340 rows x 3 columns]\n"
     ]
    }
   ],
   "source": [
    "# ---> Routine to order the DataFrame: 'df_genre_top_hoursgame'\n",
    "genre_top_hoursgame = df_genre_top_hoursgame.sort_values(by=['genres', 'hours_game','released_year'], ascending=[True, False, True])\n",
    "print(df_genre_top_hoursgame)"
   ]
  },
  {
   "cell_type": "code",
   "execution_count": 8,
   "id": "21316432",
   "metadata": {},
   "outputs": [],
   "source": [
    "# ---> Upload results to a CSV file\n",
    "df_genre_top_hoursgame.to_csv('./Datasets/api/playtimegenre.csv', encoding='utf-8', index=False)"
   ]
  },
  {
   "cell_type": "markdown",
   "id": "56bcb30b",
   "metadata": {},
   "source": [
    "##### - 2. UserForGenre"
   ]
  },
  {
   "cell_type": "code",
   "execution_count": 9,
   "id": "8873b90d",
   "metadata": {},
   "outputs": [
    {
     "data": {
      "text/plain": [
       "\"\\ndf_game = df_steam_games.drop(['name', 'developer', 'price', 'tags','specs'],axis=1)\\n\\n# Merge de los DataFrames\\nmerged_data=pd.merge(df_user_items,df_game,left_on='item_id', right_on='item_id', how='right')\\n\\nmerged_data.drop(['item_id'], axis=1, inplace=True)\\nmerged_data.dropna(inplace=True)\\n\\nmerged_data['hours_game'] = merged_data['hours_game'].astype(int)\\nmerged_data['year'] = merged_data['year'].astype(int)\\n\\n#Convertimos la columna genres a tipo lista\\nmerged_data['genres'] = merged_data['genres'].apply(ast.literal_eval)\\n\\n#Expandimos las listas en columnas\\nmerged_data = merged_data.explode('genres').reset_index(drop=True)\\n\\n#Encontrar el jugador con más horas jugadas por género y año\\nmax_hours_df = merged_data.loc[merged_data.groupby(['genres', 'year'])['hours_game'].idxmax()]\\n\\n#Filtrar las columnas necesarias\\nmax_hours_df = max_hours_df[['genres', 'year', 'user_id', 'hours_game']]\\n\\n#Segunda agrupación para obtener las horas jugadas por año para el usuario seleccionado\\nmax_hours = max_hours_df.groupby(['genres', 'year', 'user_id'])['hours_game'].sum().reset_index()\\n\\nmax_hours.to_csv('UserForGenre.csv', index=False)\\n\""
      ]
     },
     "execution_count": 9,
     "metadata": {},
     "output_type": "execute_result"
    }
   ],
   "source": [
    "'''\n",
    "df_game = df_steam_games.drop(['name', 'developer', 'price', 'tags','specs'],axis=1)\n",
    "\n",
    "# Merge de los DataFrames\n",
    "merged_data=pd.merge(df_user_items,df_game,left_on='item_id', right_on='item_id', how='right')\n",
    "\n",
    "merged_data.drop(['item_id'], axis=1, inplace=True)\n",
    "merged_data.dropna(inplace=True)\n",
    "\n",
    "merged_data['hours_game'] = merged_data['hours_game'].astype(int)\n",
    "merged_data['year'] = merged_data['year'].astype(int)\n",
    "\n",
    "#Convertimos la columna genres a tipo lista\n",
    "merged_data['genres'] = merged_data['genres'].apply(ast.literal_eval)\n",
    "\n",
    "#Expandimos las listas en columnas\n",
    "merged_data = merged_data.explode('genres').reset_index(drop=True)\n",
    "\n",
    "#Encontrar el jugador con más horas jugadas por género y año\n",
    "max_hours_df = merged_data.loc[merged_data.groupby(['genres', 'year'])['hours_game'].idxmax()]\n",
    "\n",
    "#Filtrar las columnas necesarias\n",
    "max_hours_df = max_hours_df[['genres', 'year', 'user_id', 'hours_game']]\n",
    "\n",
    "#Segunda agrupación para obtener las horas jugadas por año para el usuario seleccionado\n",
    "max_hours = max_hours_df.groupby(['genres', 'year', 'user_id'])['hours_game'].sum().reset_index()\n",
    "\n",
    "max_hours.to_csv('UserForGenre.csv', index=False)\n",
    "'''"
   ]
  },
  {
   "cell_type": "markdown",
   "id": "2490122c",
   "metadata": {},
   "source": [
    "##### - 3. UsersRecommend"
   ]
  },
  {
   "cell_type": "code",
   "execution_count": 10,
   "id": "006aa3c2",
   "metadata": {},
   "outputs": [
    {
     "data": {
      "text/plain": [
       "\"\\n# Merge de los DataFrames\\ndf_merged = pd.merge(df_user_reviews, df_steam_games, on='item_id', how='left')\\n\\n# Filtrar las filas que cumplen con las condiciones\\nresult = df_merged.loc[(df_merged['recommend'] == True) & (df_merged['sentiment_analysis'].isin([1, 2])),\\n                           ['year_x', 'name']]\\n\\n# Renombrar la columna 'year_x' a 'year'\\nresult = result.rename(columns={'year_x': 'year'})\\n\\n# Agrupar por 'year' y 'name' y contar las ocurrencias\\ngrouped_result = result.groupby(['year', 'name']).size().reset_index(name='count')\\n\\n# Ordenar por 'year' y 'count' en orden descendente\\ngrouped_result = grouped_result.sort_values(by=['year', 'count'], ascending=[False, False])\\n\\n# Obtener el top 3 por año\\ntop3_by_year = grouped_result.groupby('year').head(3)\\n\\n# Guardar el resultado en un archivo CSV\\ntop3_by_year.to_csv('UsersRecommend.csv', index=False)\\n\""
      ]
     },
     "execution_count": 10,
     "metadata": {},
     "output_type": "execute_result"
    }
   ],
   "source": [
    "'''\n",
    "# Merge de los DataFrames\n",
    "df_merged = pd.merge(df_user_reviews, df_steam_games, on='item_id', how='left')\n",
    "\n",
    "# Filtrar las filas que cumplen con las condiciones\n",
    "result = df_merged.loc[(df_merged['recommend'] == True) & (df_merged['sentiment_analysis'].isin([1, 2])),\n",
    "                           ['year_x', 'name']]\n",
    "\n",
    "# Renombrar la columna 'year_x' a 'year'\n",
    "result = result.rename(columns={'year_x': 'year'})\n",
    "\n",
    "# Agrupar por 'year' y 'name' y contar las ocurrencias\n",
    "grouped_result = result.groupby(['year', 'name']).size().reset_index(name='count')\n",
    "\n",
    "# Ordenar por 'year' y 'count' en orden descendente\n",
    "grouped_result = grouped_result.sort_values(by=['year', 'count'], ascending=[False, False])\n",
    "\n",
    "# Obtener el top 3 por año\n",
    "top3_by_year = grouped_result.groupby('year').head(3)\n",
    "\n",
    "# Guardar el resultado en un archivo CSV\n",
    "top3_by_year.to_csv('UsersRecommend.csv', index=False)\n",
    "'''"
   ]
  },
  {
   "cell_type": "markdown",
   "id": "445bdcdc",
   "metadata": {},
   "source": [
    "##### - 4. UsersWorstDeveloper"
   ]
  },
  {
   "cell_type": "code",
   "execution_count": 11,
   "id": "dd80a85b",
   "metadata": {},
   "outputs": [
    {
     "data": {
      "text/plain": [
       "\"\\n# Unir los DataFrames\\ndf_merged = pd.merge(df_user_reviews, df_steam_games, on='item_id', how='left')\\n\\n# Filtrar las filas que cumplen con las condiciones\\ndf_filtered = df_merged.loc[(df_merged['recommend'] == False) & (df_merged['sentiment_analysis'] == 0),\\n                           ['year_x', 'developer']]\\n \\n# Renombrar la columna 'year_x' a 'year'\\ndf_filtered = df_filtered.rename(columns={'year_x': 'year'})\\n\\n# Contar las ocurrencias de cada desarrolladora por año\\ndeveloper_counts = df_filtered.groupby(['year', 'developer']).size().reset_index(name='count')\\n    \\n# Ordenar por 'year' y 'count' en orden descendente\\ngrouped_result = developer_counts.sort_values(by=['year', 'count'], ascending=[False, False])    \\n\\n# Obtener el top 3 por año\\nresult_df = grouped_result.groupby('year').head(3)    \\n\\n# Guardar el resultado en un archivo CSV\\nresult_df.to_csv('UsersWorstDeveloper.csv', index=False)\\n\""
      ]
     },
     "execution_count": 11,
     "metadata": {},
     "output_type": "execute_result"
    }
   ],
   "source": [
    "'''\n",
    "# Unir los DataFrames\n",
    "df_merged = pd.merge(df_user_reviews, df_steam_games, on='item_id', how='left')\n",
    "\n",
    "# Filtrar las filas que cumplen con las condiciones\n",
    "df_filtered = df_merged.loc[(df_merged['recommend'] == False) & (df_merged['sentiment_analysis'] == 0),\n",
    "                           ['year_x', 'developer']]\n",
    " \n",
    "# Renombrar la columna 'year_x' a 'year'\n",
    "df_filtered = df_filtered.rename(columns={'year_x': 'year'})\n",
    "\n",
    "# Contar las ocurrencias de cada desarrolladora por año\n",
    "developer_counts = df_filtered.groupby(['year', 'developer']).size().reset_index(name='count')\n",
    "    \n",
    "# Ordenar por 'year' y 'count' en orden descendente\n",
    "grouped_result = developer_counts.sort_values(by=['year', 'count'], ascending=[False, False])    \n",
    "\n",
    "# Obtener el top 3 por año\n",
    "result_df = grouped_result.groupby('year').head(3)    \n",
    "\n",
    "# Guardar el resultado en un archivo CSV\n",
    "result_df.to_csv('UsersWorstDeveloper.csv', index=False)\n",
    "'''"
   ]
  },
  {
   "cell_type": "markdown",
   "id": "8b993638",
   "metadata": {},
   "source": [
    "##### - 5. sentiment_analysis"
   ]
  },
  {
   "cell_type": "code",
   "execution_count": 12,
   "id": "fdadfba1",
   "metadata": {},
   "outputs": [
    {
     "data": {
      "text/plain": [
       "\"\\n# Merge de los DataFrames\\nmerged_df = pd.merge(df_steam_games, df_user_reviews, on='item_id', how='inner')\\n\\n# Agrupar por desarrolladora y sentimiento, y contar las ocurrencias\\nresult_df = merged_df.groupby(['developer', 'sentiment_analysis']).size().reset_index(name='count')\\n\\n# Pivoteando el DataFrame para tener sentimientos como columnas\\nresult_df = result_df.pivot(index='developer', columns='sentiment_analysis', values='count').reset_index()\\n\\n# Renombrar las columnas según el formato deseado\\nresult_df.columns = ['developer', 'Negative', 'Neutral', 'Positive']\\n\\n# Rellenar NaN con 0\\nresult_df = result_df.fillna(0)\\n\\n# Convertir las columnas a tipo int\\nresult_df[['Negative', 'Neutral', 'Positive']] = result_df[['Negative', 'Neutral', 'Positive']].astype(int)\\n\\n# Guardar el resultado en un archivo CSV\\nresult_df.to_csv('sentiment_analysis.csv', index=False)\\n\""
      ]
     },
     "execution_count": 12,
     "metadata": {},
     "output_type": "execute_result"
    }
   ],
   "source": [
    "'''\n",
    "# Merge de los DataFrames\n",
    "merged_df = pd.merge(df_steam_games, df_user_reviews, on='item_id', how='inner')\n",
    "\n",
    "# Agrupar por desarrolladora y sentimiento, y contar las ocurrencias\n",
    "result_df = merged_df.groupby(['developer', 'sentiment_analysis']).size().reset_index(name='count')\n",
    "\n",
    "# Pivoteando el DataFrame para tener sentimientos como columnas\n",
    "result_df = result_df.pivot(index='developer', columns='sentiment_analysis', values='count').reset_index()\n",
    "\n",
    "# Renombrar las columnas según el formato deseado\n",
    "result_df.columns = ['developer', 'Negative', 'Neutral', 'Positive']\n",
    "\n",
    "# Rellenar NaN con 0\n",
    "result_df = result_df.fillna(0)\n",
    "\n",
    "# Convertir las columnas a tipo int\n",
    "result_df[['Negative', 'Neutral', 'Positive']] = result_df[['Negative', 'Neutral', 'Positive']].astype(int)\n",
    "\n",
    "# Guardar el resultado en un archivo CSV\n",
    "result_df.to_csv('sentiment_analysis.csv', index=False)\n",
    "'''"
   ]
  }
 ],
 "metadata": {
  "kernelspec": {
   "display_name": "Python 3 (ipykernel)",
   "language": "python",
   "name": "python3"
  },
  "language_info": {
   "codemirror_mode": {
    "name": "ipython",
    "version": 3
   },
   "file_extension": ".py",
   "mimetype": "text/x-python",
   "name": "python",
   "nbconvert_exporter": "python",
   "pygments_lexer": "ipython3",
   "version": "3.11.7"
  }
 },
 "nbformat": 4,
 "nbformat_minor": 5
}
