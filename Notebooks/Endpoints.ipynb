{
 "cells": [
  {
   "cell_type": "markdown",
   "id": "95cff253",
   "metadata": {},
   "source": [
    "# ---- PREPARATION OF CLEAN INFO FOR FASTAPI ----"
   ]
  },
  {
   "cell_type": "markdown",
   "id": "972b041e",
   "metadata": {},
   "source": [
    "This notebook contains the necessary transformations on the information to be processed by the functions developed for the API. The data sources are the files: items.csv, reviews.csv, games.csv, and reviews_sa.csv"
   ]
  },
  {
   "cell_type": "code",
   "execution_count": null,
   "id": "2b2d26c4",
   "metadata": {},
   "outputs": [],
   "source": [
    "import pandas as pd                                         # ---> Libraries to be used\n",
    "import ast"
   ]
  },
  {
   "cell_type": "code",
   "execution_count": null,
   "id": "7840870b",
   "metadata": {},
   "outputs": [],
   "source": [
    "df_items = pd.read_csv('./Datasets/processing/items.csv')   # ---> Reading of csv files previously processed with ETL techniques\n",
    "df_games = pd.read_csv('./Datasets/processing/games.csv')             \n",
    "df_reviews = pd.read_csv('./Datasets/processing/reviews_sa.csv')"
   ]
  },
  {
   "cell_type": "markdown",
   "id": "f04870b1",
   "metadata": {},
   "source": [
    "### 1. Data preparation to answer 'Endpoint1 = PlayTimeGenre'"
   ]
  },
  {
   "cell_type": "code",
   "execution_count": null,
   "id": "ab284295",
   "metadata": {},
   "outputs": [],
   "source": [
    "# ---> An Inner Merge of the DataFrames: df_items, df_games, on the column 'item_id' is performed\n",
    "df_items_games = pd.merge(df_items, df_games[['item_id', 'released_year', 'genres']], on='item_id', how='inner')\n",
    "df_items_games.head()"
   ]
  },
  {
   "cell_type": "code",
   "execution_count": null,
   "id": "d37e8d70",
   "metadata": {},
   "outputs": [],
   "source": [
    "# ---> It is grouped by genre and year of release, and the hours of play are added up (rounded to 2 decimal places)\n",
    "df_items_games = df_items_games.groupby(['released_year', 'genres'])['hours_game'].sum().reset_index()\n",
    "df_items_games['hours_game'] = round(df_items_games['hours_game'], 2)\n",
    "df_items_games.head()"
   ]
  },
  {
   "cell_type": "code",
   "execution_count": null,
   "id": "347ed3ef",
   "metadata": {},
   "outputs": [],
   "source": [
    "# ---> Calculation to rank the genres with the most hours played per year \n",
    "df_genre_top_hoursgame = df_items_games.loc[df_items_games.groupby(['released_year', 'genres'])['hours_game'].idxmax()]"
   ]
  },
  {
   "cell_type": "code",
   "execution_count": null,
   "id": "0f5fc172",
   "metadata": {},
   "outputs": [],
   "source": [
    "print(df_genre_top_hoursgame)"
   ]
  },
  {
   "cell_type": "code",
   "execution_count": null,
   "id": "c1ddae34",
   "metadata": {},
   "outputs": [],
   "source": [
    "# ---> Routine to order the DataFrame: 'df_genre_top_hoursgame'\n",
    "genre_top_hoursgame = df_genre_top_hoursgame.sort_values(by=['genres', 'hours_game','released_year'], ascending=[True, False, True])\n",
    "print(df_genre_top_hoursgame)"
   ]
  },
  {
   "cell_type": "code",
   "execution_count": null,
   "id": "21316432",
   "metadata": {},
   "outputs": [],
   "source": [
    "# ---> Upload results to a CSV file\n",
    "df_genre_top_hoursgame.to_csv('./Datasets/api/playtimegenre.csv', encoding='utf-8', index=False)"
   ]
  },
  {
   "cell_type": "markdown",
   "id": "56bcb30b",
   "metadata": {},
   "source": [
    "### 2. Data preparation to answer 'Endpoint2 = UserForGenre'"
   ]
  },
  {
   "cell_type": "code",
   "execution_count": null,
   "id": "fa59fb6e",
   "metadata": {},
   "outputs": [],
   "source": [
    "# ---> A Merge of the DataFrames: df_items, df_games, on the column 'item_id' is performed\n",
    "df_items_games2 = pd.merge(df_items,df_games,left_on='item_id', right_on='item_id', how='right')\n",
    "df_items_games2.head()"
   ]
  },
  {
   "cell_type": "code",
   "execution_count": null,
   "id": "3c617f85",
   "metadata": {},
   "outputs": [],
   "source": [
    "df_items_games2.info()"
   ]
  },
  {
   "cell_type": "code",
   "execution_count": null,
   "id": "385b05fc",
   "metadata": {},
   "outputs": [],
   "source": [
    "df_items_games2.shape"
   ]
  },
  {
   "cell_type": "code",
   "execution_count": null,
   "id": "579b9fef",
   "metadata": {},
   "outputs": [],
   "source": [
    "# ---> Removal of non-relevant information\n",
    "df_items_games2.drop(['item_id'], axis=1, inplace=True)\n",
    "df_items_games2.dropna(inplace=True)\n",
    "df_items_games2.shape"
   ]
  },
  {
   "cell_type": "code",
   "execution_count": null,
   "id": "ac1c3179",
   "metadata": {},
   "outputs": [],
   "source": [
    "# ---> Conversion from Float to Integer\n",
    "df_items_games2['hours_game'] = df_items_games2['hours_game'].astype('int64')"
   ]
  },
  {
   "cell_type": "code",
   "execution_count": null,
   "id": "79d93ed8",
   "metadata": {},
   "outputs": [],
   "source": [
    "df_items_games2.info()"
   ]
  },
  {
   "cell_type": "code",
   "execution_count": null,
   "id": "4bdc1d81",
   "metadata": {},
   "outputs": [],
   "source": [
    "# ---> Calculation to rank users with the most hours played by gender and year\n",
    "df_topuser_genrehours = df_items_games2.loc[df_items_games2.groupby(['genres', 'released_year'])['hours_game'].idxmax()]\n",
    "df_topuser_genrehours.head()"
   ]
  },
  {
   "cell_type": "code",
   "execution_count": null,
   "id": "263401e5",
   "metadata": {},
   "outputs": [],
   "source": [
    "# ---> filter out columns that are not required\n",
    "df_topuser_genrehours = df_topuser_genrehours[['genres', 'released_year', 'user_id', 'hours_game']]\n",
    "df_topuser_genrehours.head()"
   ]
  },
  {
   "cell_type": "code",
   "execution_count": null,
   "id": "1fd3f822",
   "metadata": {},
   "outputs": [],
   "source": [
    "# ---> Calculation to obtain the hours played per year for the selected user\n",
    "df_topuser_genrehours2 = df_topuser_genrehours.groupby(['genres', 'released_year', 'user_id'])['hours_game'].sum().reset_index()\n",
    "df_topuser_genrehours2.head()"
   ]
  },
  {
   "cell_type": "code",
   "execution_count": null,
   "id": "cd802025",
   "metadata": {},
   "outputs": [],
   "source": [
    "# ---> Upload results to a CSV file\n",
    "df_topuser_genrehours2.to_csv('./Datasets/api/userforgenre.csv', encoding='utf-8', index=False)"
   ]
  },
  {
   "cell_type": "markdown",
   "id": "2490122c",
   "metadata": {},
   "source": [
    "### 3. Data preparation to answer 'Endpoint3 = UsersRecommend'"
   ]
  },
  {
   "cell_type": "code",
   "execution_count": null,
   "id": "d64dc5a7",
   "metadata": {},
   "outputs": [],
   "source": [
    "# ---> A Merge of the DataFrames: df_reviews, df_games, on the column 'item_id' is performed\n",
    "df_reviews_games = pd.merge(df_reviews, df_games, on='item_id', how='left')\n",
    "df_reviews_games.head()"
   ]
  },
  {
   "cell_type": "code",
   "execution_count": null,
   "id": "a9b86deb",
   "metadata": {},
   "outputs": [],
   "source": [
    "df_reviews_games.info()"
   ]
  },
  {
   "cell_type": "code",
   "execution_count": null,
   "id": "fe60265d",
   "metadata": {},
   "outputs": [],
   "source": [
    "# ---> Filter a new DataFrame by columns: 'recommend' and 'sentiment' (neutral and positive scores)\n",
    "df_conditions = df_reviews_games.loc[(df_reviews_games['recommend'] == True) & (df_reviews_games['sentiment'].isin([1, 2])), ['released_year', 'app_name']]\n",
    "print(df_conditions)"
   ]
  },
  {
   "cell_type": "code",
   "execution_count": null,
   "id": "c686af91",
   "metadata": {},
   "outputs": [],
   "source": [
    "# ---> Grouping by columns: 'released_year' and 'app_name' and counting occurrences\n",
    "df_conditions1 = df_conditions.groupby(['released_year', 'app_name']).size().reset_index(name='count')"
   ]
  },
  {
   "cell_type": "code",
   "execution_count": null,
   "id": "b001f64c",
   "metadata": {},
   "outputs": [],
   "source": [
    "# ---> Sort by columns: 'released_year' and 'count' in descending order\n",
    "df_conditions1 = df_conditions1.sort_values(by=['released_year', 'count'], ascending=[False, False])\n",
    "df_conditions1.head()"
   ]
  },
  {
   "cell_type": "code",
   "execution_count": null,
   "id": "30744592",
   "metadata": {},
   "outputs": [],
   "source": [
    "df_conditions1.info()"
   ]
  },
  {
   "cell_type": "code",
   "execution_count": null,
   "id": "aa450a67",
   "metadata": {},
   "outputs": [],
   "source": [
    "# ---> Conversion from Float to Integer\n",
    "df_conditions1['released_year'] = df_conditions1['released_year'].astype('int64')"
   ]
  },
  {
   "cell_type": "code",
   "execution_count": null,
   "id": "83915823",
   "metadata": {},
   "outputs": [],
   "source": [
    "df_conditions1.info()"
   ]
  },
  {
   "cell_type": "code",
   "execution_count": null,
   "id": "8ffe061f",
   "metadata": {},
   "outputs": [],
   "source": [
    "# ---> Top 3 of game recommendations by year\n",
    "df_top_year = df_conditions1.groupby('released_year').head(3)\n",
    "print(df_top_year)"
   ]
  },
  {
   "cell_type": "code",
   "execution_count": null,
   "id": "acec8fe3",
   "metadata": {},
   "outputs": [],
   "source": [
    "# ---> Upload results to a CSV file\n",
    "df_top_year.to_csv('./Datasets/api/usersrecommend.csv', encoding='utf-8', index=False)"
   ]
  },
  {
   "cell_type": "markdown",
   "id": "445bdcdc",
   "metadata": {},
   "source": [
    "##### - 4. UsersWorstDeveloper"
   ]
  },
  {
   "cell_type": "code",
   "execution_count": null,
   "id": "dd80a85b",
   "metadata": {},
   "outputs": [],
   "source": [
    "'''\n",
    "# Unir los DataFrames\n",
    "df_merged = pd.merge(df_user_reviews, df_steam_games, on='item_id', how='left')\n",
    "\n",
    "# Filtrar las filas que cumplen con las condiciones\n",
    "df_filtered = df_merged.loc[(df_merged['recommend'] == False) & (df_merged['sentiment_analysis'] == 0),\n",
    "                           ['year_x', 'developer']]\n",
    " \n",
    "# Renombrar la columna 'year_x' a 'year'\n",
    "df_filtered = df_filtered.rename(columns={'year_x': 'year'})\n",
    "\n",
    "# Contar las ocurrencias de cada desarrolladora por año\n",
    "developer_counts = df_filtered.groupby(['year', 'developer']).size().reset_index(name='count')\n",
    "    \n",
    "# Ordenar por 'year' y 'count' en orden descendente\n",
    "grouped_result = developer_counts.sort_values(by=['year', 'count'], ascending=[False, False])    \n",
    "\n",
    "# Obtener el top 3 por año\n",
    "result_df = grouped_result.groupby('year').head(3)    \n",
    "\n",
    "# Guardar el resultado en un archivo CSV\n",
    "result_df.to_csv('UsersWorstDeveloper.csv', index=False)\n",
    "'''"
   ]
  },
  {
   "cell_type": "markdown",
   "id": "8b993638",
   "metadata": {},
   "source": [
    "##### - 5. sentiment_analysis"
   ]
  },
  {
   "cell_type": "code",
   "execution_count": null,
   "id": "fdadfba1",
   "metadata": {},
   "outputs": [],
   "source": [
    "'''\n",
    "# Merge de los DataFrames\n",
    "merged_df = pd.merge(df_steam_games, df_user_reviews, on='item_id', how='inner')\n",
    "\n",
    "# Agrupar por desarrolladora y sentimiento, y contar las ocurrencias\n",
    "result_df = merged_df.groupby(['developer', 'sentiment_analysis']).size().reset_index(name='count')\n",
    "\n",
    "# Pivoteando el DataFrame para tener sentimientos como columnas\n",
    "result_df = result_df.pivot(index='developer', columns='sentiment_analysis', values='count').reset_index()\n",
    "\n",
    "# Renombrar las columnas según el formato deseado\n",
    "result_df.columns = ['developer', 'Negative', 'Neutral', 'Positive']\n",
    "\n",
    "# Rellenar NaN con 0\n",
    "result_df = result_df.fillna(0)\n",
    "\n",
    "# Convertir las columnas a tipo int\n",
    "result_df[['Negative', 'Neutral', 'Positive']] = result_df[['Negative', 'Neutral', 'Positive']].astype(int)\n",
    "\n",
    "# Guardar el resultado en un archivo CSV\n",
    "result_df.to_csv('sentiment_analysis.csv', index=False)\n",
    "'''"
   ]
  }
 ],
 "metadata": {
  "kernelspec": {
   "display_name": "Python 3 (ipykernel)",
   "language": "python",
   "name": "python3"
  },
  "language_info": {
   "codemirror_mode": {
    "name": "ipython",
    "version": 3
   },
   "file_extension": ".py",
   "mimetype": "text/x-python",
   "name": "python",
   "nbconvert_exporter": "python",
   "pygments_lexer": "ipython3",
   "version": "3.11.7"
  }
 },
 "nbformat": 4,
 "nbformat_minor": 5
}
