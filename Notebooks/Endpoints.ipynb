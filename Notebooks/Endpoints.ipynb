{
 "cells": [
  {
   "cell_type": "markdown",
   "id": "95cff253",
   "metadata": {},
   "source": [
    "# ---- PREPARING INFORMATION FOR FASTAPI ----"
   ]
  },
  {
   "cell_type": "markdown",
   "id": "972b041e",
   "metadata": {},
   "source": [
    "This notebook contains the necessary transformations on the information to be processed by the functions developed for the API. The data sources are the files: items.csv, reviews.csv, games.csv, and reviews_sa.csv"
   ]
  },
  {
   "cell_type": "code",
   "execution_count": 1,
   "id": "2b2d26c4",
   "metadata": {},
   "outputs": [],
   "source": [
    "import pandas as pd                                         # ---> Libraries to be used\n",
    "import ast"
   ]
  },
  {
   "cell_type": "code",
   "execution_count": 2,
   "id": "7840870b",
   "metadata": {},
   "outputs": [],
   "source": [
    "df_items = pd.read_csv('./Datasets/processing/items.csv')   # ---> Reading of csv files previously processed with ETL techniques\n",
    "df_games = pd.read_csv('./Datasets/processing/games.csv')             \n",
    "df_reviews = pd.read_csv('./Datasets/processing/reviews_sa.csv')"
   ]
  },
  {
   "cell_type": "markdown",
   "id": "f04870b1",
   "metadata": {},
   "source": [
    "### 1. Data preparation to answer 'Endpoint1 = PlayTimeGenre'"
   ]
  },
  {
   "cell_type": "code",
   "execution_count": 3,
   "id": "ab284295",
   "metadata": {},
   "outputs": [
    {
     "data": {
      "text/html": [
       "<div>\n",
       "<style scoped>\n",
       "    .dataframe tbody tr th:only-of-type {\n",
       "        vertical-align: middle;\n",
       "    }\n",
       "\n",
       "    .dataframe tbody tr th {\n",
       "        vertical-align: top;\n",
       "    }\n",
       "\n",
       "    .dataframe thead th {\n",
       "        text-align: right;\n",
       "    }\n",
       "</style>\n",
       "<table border=\"1\" class=\"dataframe\">\n",
       "  <thead>\n",
       "    <tr style=\"text-align: right;\">\n",
       "      <th></th>\n",
       "      <th>item_id</th>\n",
       "      <th>user_id</th>\n",
       "      <th>hours_game</th>\n",
       "      <th>released_year</th>\n",
       "      <th>genres</th>\n",
       "    </tr>\n",
       "  </thead>\n",
       "  <tbody>\n",
       "    <tr>\n",
       "      <th>0</th>\n",
       "      <td>10</td>\n",
       "      <td>76561197970982479</td>\n",
       "      <td>0.10</td>\n",
       "      <td>2000</td>\n",
       "      <td>Action</td>\n",
       "    </tr>\n",
       "    <tr>\n",
       "      <th>1</th>\n",
       "      <td>10</td>\n",
       "      <td>doctr</td>\n",
       "      <td>1.55</td>\n",
       "      <td>2000</td>\n",
       "      <td>Action</td>\n",
       "    </tr>\n",
       "    <tr>\n",
       "      <th>2</th>\n",
       "      <td>10</td>\n",
       "      <td>corrupted_soul</td>\n",
       "      <td>1.80</td>\n",
       "      <td>2000</td>\n",
       "      <td>Action</td>\n",
       "    </tr>\n",
       "    <tr>\n",
       "      <th>3</th>\n",
       "      <td>10</td>\n",
       "      <td>WeiEDKrSat</td>\n",
       "      <td>5.47</td>\n",
       "      <td>2000</td>\n",
       "      <td>Action</td>\n",
       "    </tr>\n",
       "    <tr>\n",
       "      <th>4</th>\n",
       "      <td>10</td>\n",
       "      <td>death-hunter</td>\n",
       "      <td>104.58</td>\n",
       "      <td>2000</td>\n",
       "      <td>Action</td>\n",
       "    </tr>\n",
       "  </tbody>\n",
       "</table>\n",
       "</div>"
      ],
      "text/plain": [
       "   item_id            user_id  hours_game  released_year  genres\n",
       "0       10  76561197970982479        0.10           2000  Action\n",
       "1       10              doctr        1.55           2000  Action\n",
       "2       10     corrupted_soul        1.80           2000  Action\n",
       "3       10         WeiEDKrSat        5.47           2000  Action\n",
       "4       10       death-hunter      104.58           2000  Action"
      ]
     },
     "execution_count": 3,
     "metadata": {},
     "output_type": "execute_result"
    }
   ],
   "source": [
    "# ---> An Inner Merge of the DataFrames: df_items, df_games, on the column 'item_id' is performed\n",
    "df_items_games = pd.merge(df_items, df_games[['item_id', 'released_year', 'genres']], on='item_id', how='inner')\n",
    "df_items_games.head()"
   ]
  },
  {
   "cell_type": "code",
   "execution_count": 4,
   "id": "d37e8d70",
   "metadata": {},
   "outputs": [
    {
     "data": {
      "text/html": [
       "<div>\n",
       "<style scoped>\n",
       "    .dataframe tbody tr th:only-of-type {\n",
       "        vertical-align: middle;\n",
       "    }\n",
       "\n",
       "    .dataframe tbody tr th {\n",
       "        vertical-align: top;\n",
       "    }\n",
       "\n",
       "    .dataframe thead th {\n",
       "        text-align: right;\n",
       "    }\n",
       "</style>\n",
       "<table border=\"1\" class=\"dataframe\">\n",
       "  <thead>\n",
       "    <tr style=\"text-align: right;\">\n",
       "      <th></th>\n",
       "      <th>released_year</th>\n",
       "      <th>genres</th>\n",
       "      <th>hours_game</th>\n",
       "    </tr>\n",
       "  </thead>\n",
       "  <tbody>\n",
       "    <tr>\n",
       "      <th>0</th>\n",
       "      <td>1983</td>\n",
       "      <td>Action</td>\n",
       "      <td>57.92</td>\n",
       "    </tr>\n",
       "    <tr>\n",
       "      <th>1</th>\n",
       "      <td>1983</td>\n",
       "      <td>Adventure</td>\n",
       "      <td>57.92</td>\n",
       "    </tr>\n",
       "    <tr>\n",
       "      <th>2</th>\n",
       "      <td>1983</td>\n",
       "      <td>Casual</td>\n",
       "      <td>57.92</td>\n",
       "    </tr>\n",
       "    <tr>\n",
       "      <th>3</th>\n",
       "      <td>1984</td>\n",
       "      <td>Action</td>\n",
       "      <td>6.40</td>\n",
       "    </tr>\n",
       "    <tr>\n",
       "      <th>4</th>\n",
       "      <td>1984</td>\n",
       "      <td>Adventure</td>\n",
       "      <td>6.40</td>\n",
       "    </tr>\n",
       "  </tbody>\n",
       "</table>\n",
       "</div>"
      ],
      "text/plain": [
       "   released_year     genres  hours_game\n",
       "0           1983     Action       57.92\n",
       "1           1983  Adventure       57.92\n",
       "2           1983     Casual       57.92\n",
       "3           1984     Action        6.40\n",
       "4           1984  Adventure        6.40"
      ]
     },
     "execution_count": 4,
     "metadata": {},
     "output_type": "execute_result"
    }
   ],
   "source": [
    "# ---> It is grouped by genre and year of release, and the hours of play are added up (rounded to 2 decimal places)\n",
    "df_items_games = df_items_games.groupby(['released_year', 'genres'])['hours_game'].sum().reset_index()\n",
    "df_items_games['hours_game'] = round(df_items_games['hours_game'], 2)\n",
    "df_items_games.head()"
   ]
  },
  {
   "cell_type": "code",
   "execution_count": 5,
   "id": "347ed3ef",
   "metadata": {},
   "outputs": [],
   "source": [
    "# ---> Calculation to rank the genres with the most hours played per year \n",
    "df_genre_top_hoursgame = df_items_games.loc[df_items_games.groupby(['released_year', 'genres'])['hours_game'].idxmax()]"
   ]
  },
  {
   "cell_type": "code",
   "execution_count": 6,
   "id": "0f5fc172",
   "metadata": {},
   "outputs": [
    {
     "name": "stdout",
     "output_type": "stream",
     "text": [
      "     released_year        genres  hours_game\n",
      "0             1983        Action       57.92\n",
      "1             1983     Adventure       57.92\n",
      "2             1983        Casual       57.92\n",
      "3             1984        Action        6.40\n",
      "4             1984     Adventure        6.40\n",
      "..             ...           ...         ...\n",
      "335           2018     Adventure        0.35\n",
      "336           2018  Early Access      102.12\n",
      "337           2018         Indie       38.78\n",
      "338           2018           RPG       63.69\n",
      "339           2018    Simulation       36.71\n",
      "\n",
      "[340 rows x 3 columns]\n"
     ]
    }
   ],
   "source": [
    "print(df_genre_top_hoursgame)"
   ]
  },
  {
   "cell_type": "code",
   "execution_count": 7,
   "id": "c1ddae34",
   "metadata": {},
   "outputs": [
    {
     "name": "stdout",
     "output_type": "stream",
     "text": [
      "     released_year        genres  hours_game\n",
      "0             1983        Action       57.92\n",
      "1             1983     Adventure       57.92\n",
      "2             1983        Casual       57.92\n",
      "3             1984        Action        6.40\n",
      "4             1984     Adventure        6.40\n",
      "..             ...           ...         ...\n",
      "335           2018     Adventure        0.35\n",
      "336           2018  Early Access      102.12\n",
      "337           2018         Indie       38.78\n",
      "338           2018           RPG       63.69\n",
      "339           2018    Simulation       36.71\n",
      "\n",
      "[340 rows x 3 columns]\n"
     ]
    }
   ],
   "source": [
    "# ---> Routine to order the DataFrame: 'df_genre_top_hoursgame'\n",
    "genre_top_hoursgame = df_genre_top_hoursgame.sort_values(by=['genres', 'hours_game','released_year'], ascending=[True, False, True])\n",
    "print(df_genre_top_hoursgame)"
   ]
  },
  {
   "cell_type": "code",
   "execution_count": 8,
   "id": "be8a91e4",
   "metadata": {},
   "outputs": [
    {
     "name": "stdout",
     "output_type": "stream",
     "text": [
      "<class 'pandas.core.frame.DataFrame'>\n",
      "Index: 340 entries, 216 to 316\n",
      "Data columns (total 3 columns):\n",
      " #   Column         Non-Null Count  Dtype  \n",
      "---  ------         --------------  -----  \n",
      " 0   released_year  340 non-null    int64  \n",
      " 1   genres         340 non-null    object \n",
      " 2   hours_game     340 non-null    float64\n",
      "dtypes: float64(1), int64(1), object(1)\n",
      "memory usage: 10.6+ KB\n"
     ]
    }
   ],
   "source": [
    "genre_top_hoursgame.info()"
   ]
  },
  {
   "cell_type": "code",
   "execution_count": 9,
   "id": "21316432",
   "metadata": {},
   "outputs": [],
   "source": [
    "# ---> Upload results to a CSV file\n",
    "df_genre_top_hoursgame.to_csv('./Datasets/api/playtimegenre.csv', encoding='utf-8', index=False)"
   ]
  },
  {
   "cell_type": "markdown",
   "id": "56bcb30b",
   "metadata": {},
   "source": [
    "### 2. Data preparation to answer 'Endpoint2 = UserForGenre'"
   ]
  },
  {
   "cell_type": "code",
   "execution_count": 10,
   "id": "fa59fb6e",
   "metadata": {},
   "outputs": [
    {
     "data": {
      "text/html": [
       "<div>\n",
       "<style scoped>\n",
       "    .dataframe tbody tr th:only-of-type {\n",
       "        vertical-align: middle;\n",
       "    }\n",
       "\n",
       "    .dataframe tbody tr th {\n",
       "        vertical-align: top;\n",
       "    }\n",
       "\n",
       "    .dataframe thead th {\n",
       "        text-align: right;\n",
       "    }\n",
       "</style>\n",
       "<table border=\"1\" class=\"dataframe\">\n",
       "  <thead>\n",
       "    <tr style=\"text-align: right;\">\n",
       "      <th></th>\n",
       "      <th>item_id</th>\n",
       "      <th>user_id</th>\n",
       "      <th>hours_game</th>\n",
       "      <th>genres</th>\n",
       "      <th>app_name</th>\n",
       "      <th>specs</th>\n",
       "      <th>developer</th>\n",
       "      <th>released_year</th>\n",
       "    </tr>\n",
       "  </thead>\n",
       "  <tbody>\n",
       "    <tr>\n",
       "      <th>0</th>\n",
       "      <td>761140</td>\n",
       "      <td>NaN</td>\n",
       "      <td>NaN</td>\n",
       "      <td>Action</td>\n",
       "      <td>Lost Summoner Kitty</td>\n",
       "      <td>['Single-player']</td>\n",
       "      <td>Kotoshiro</td>\n",
       "      <td>2018</td>\n",
       "    </tr>\n",
       "    <tr>\n",
       "      <th>1</th>\n",
       "      <td>761140</td>\n",
       "      <td>NaN</td>\n",
       "      <td>NaN</td>\n",
       "      <td>Casual</td>\n",
       "      <td>Lost Summoner Kitty</td>\n",
       "      <td>['Single-player']</td>\n",
       "      <td>Kotoshiro</td>\n",
       "      <td>2018</td>\n",
       "    </tr>\n",
       "    <tr>\n",
       "      <th>2</th>\n",
       "      <td>761140</td>\n",
       "      <td>NaN</td>\n",
       "      <td>NaN</td>\n",
       "      <td>Indie</td>\n",
       "      <td>Lost Summoner Kitty</td>\n",
       "      <td>['Single-player']</td>\n",
       "      <td>Kotoshiro</td>\n",
       "      <td>2018</td>\n",
       "    </tr>\n",
       "    <tr>\n",
       "      <th>3</th>\n",
       "      <td>761140</td>\n",
       "      <td>NaN</td>\n",
       "      <td>NaN</td>\n",
       "      <td>Simulation</td>\n",
       "      <td>Lost Summoner Kitty</td>\n",
       "      <td>['Single-player']</td>\n",
       "      <td>Kotoshiro</td>\n",
       "      <td>2018</td>\n",
       "    </tr>\n",
       "    <tr>\n",
       "      <th>4</th>\n",
       "      <td>761140</td>\n",
       "      <td>NaN</td>\n",
       "      <td>NaN</td>\n",
       "      <td>Strategy</td>\n",
       "      <td>Lost Summoner Kitty</td>\n",
       "      <td>['Single-player']</td>\n",
       "      <td>Kotoshiro</td>\n",
       "      <td>2018</td>\n",
       "    </tr>\n",
       "  </tbody>\n",
       "</table>\n",
       "</div>"
      ],
      "text/plain": [
       "   item_id user_id  hours_game      genres             app_name  \\\n",
       "0   761140     NaN         NaN      Action  Lost Summoner Kitty   \n",
       "1   761140     NaN         NaN      Casual  Lost Summoner Kitty   \n",
       "2   761140     NaN         NaN       Indie  Lost Summoner Kitty   \n",
       "3   761140     NaN         NaN  Simulation  Lost Summoner Kitty   \n",
       "4   761140     NaN         NaN    Strategy  Lost Summoner Kitty   \n",
       "\n",
       "               specs  developer  released_year  \n",
       "0  ['Single-player']  Kotoshiro           2018  \n",
       "1  ['Single-player']  Kotoshiro           2018  \n",
       "2  ['Single-player']  Kotoshiro           2018  \n",
       "3  ['Single-player']  Kotoshiro           2018  \n",
       "4  ['Single-player']  Kotoshiro           2018  "
      ]
     },
     "execution_count": 10,
     "metadata": {},
     "output_type": "execute_result"
    }
   ],
   "source": [
    "# ---> A Merge of the DataFrames: df_items, df_games, on the column 'item_id' is performed\n",
    "df_items_games2 = pd.merge(df_items,df_games,left_on='item_id', right_on='item_id', how='right')\n",
    "df_items_games2.head()"
   ]
  },
  {
   "cell_type": "code",
   "execution_count": 11,
   "id": "65932c88",
   "metadata": {},
   "outputs": [
    {
     "data": {
      "text/html": [
       "<div>\n",
       "<style scoped>\n",
       "    .dataframe tbody tr th:only-of-type {\n",
       "        vertical-align: middle;\n",
       "    }\n",
       "\n",
       "    .dataframe tbody tr th {\n",
       "        vertical-align: top;\n",
       "    }\n",
       "\n",
       "    .dataframe thead th {\n",
       "        text-align: right;\n",
       "    }\n",
       "</style>\n",
       "<table border=\"1\" class=\"dataframe\">\n",
       "  <thead>\n",
       "    <tr style=\"text-align: right;\">\n",
       "      <th></th>\n",
       "      <th>item_id</th>\n",
       "      <th>user_id</th>\n",
       "      <th>hours_game</th>\n",
       "      <th>genres</th>\n",
       "      <th>app_name</th>\n",
       "      <th>specs</th>\n",
       "      <th>developer</th>\n",
       "      <th>released_year</th>\n",
       "    </tr>\n",
       "  </thead>\n",
       "  <tbody>\n",
       "    <tr>\n",
       "      <th>0</th>\n",
       "      <td>761140</td>\n",
       "      <td>NaN</td>\n",
       "      <td>NaN</td>\n",
       "      <td>Action</td>\n",
       "      <td>Lost Summoner Kitty</td>\n",
       "      <td>['Single-player']</td>\n",
       "      <td>Kotoshiro</td>\n",
       "      <td>2018</td>\n",
       "    </tr>\n",
       "    <tr>\n",
       "      <th>1</th>\n",
       "      <td>761140</td>\n",
       "      <td>NaN</td>\n",
       "      <td>NaN</td>\n",
       "      <td>Casual</td>\n",
       "      <td>Lost Summoner Kitty</td>\n",
       "      <td>['Single-player']</td>\n",
       "      <td>Kotoshiro</td>\n",
       "      <td>2018</td>\n",
       "    </tr>\n",
       "    <tr>\n",
       "      <th>2</th>\n",
       "      <td>761140</td>\n",
       "      <td>NaN</td>\n",
       "      <td>NaN</td>\n",
       "      <td>Indie</td>\n",
       "      <td>Lost Summoner Kitty</td>\n",
       "      <td>['Single-player']</td>\n",
       "      <td>Kotoshiro</td>\n",
       "      <td>2018</td>\n",
       "    </tr>\n",
       "    <tr>\n",
       "      <th>3</th>\n",
       "      <td>761140</td>\n",
       "      <td>NaN</td>\n",
       "      <td>NaN</td>\n",
       "      <td>Simulation</td>\n",
       "      <td>Lost Summoner Kitty</td>\n",
       "      <td>['Single-player']</td>\n",
       "      <td>Kotoshiro</td>\n",
       "      <td>2018</td>\n",
       "    </tr>\n",
       "    <tr>\n",
       "      <th>4</th>\n",
       "      <td>761140</td>\n",
       "      <td>NaN</td>\n",
       "      <td>NaN</td>\n",
       "      <td>Strategy</td>\n",
       "      <td>Lost Summoner Kitty</td>\n",
       "      <td>['Single-player']</td>\n",
       "      <td>Kotoshiro</td>\n",
       "      <td>2018</td>\n",
       "    </tr>\n",
       "  </tbody>\n",
       "</table>\n",
       "</div>"
      ],
      "text/plain": [
       "   item_id user_id  hours_game      genres             app_name  \\\n",
       "0   761140     NaN         NaN      Action  Lost Summoner Kitty   \n",
       "1   761140     NaN         NaN      Casual  Lost Summoner Kitty   \n",
       "2   761140     NaN         NaN       Indie  Lost Summoner Kitty   \n",
       "3   761140     NaN         NaN  Simulation  Lost Summoner Kitty   \n",
       "4   761140     NaN         NaN    Strategy  Lost Summoner Kitty   \n",
       "\n",
       "               specs  developer  released_year  \n",
       "0  ['Single-player']  Kotoshiro           2018  \n",
       "1  ['Single-player']  Kotoshiro           2018  \n",
       "2  ['Single-player']  Kotoshiro           2018  \n",
       "3  ['Single-player']  Kotoshiro           2018  \n",
       "4  ['Single-player']  Kotoshiro           2018  "
      ]
     },
     "execution_count": 11,
     "metadata": {},
     "output_type": "execute_result"
    }
   ],
   "source": [
    "df_items_games2.head()"
   ]
  },
  {
   "cell_type": "code",
   "execution_count": 12,
   "id": "3c617f85",
   "metadata": {},
   "outputs": [
    {
     "name": "stdout",
     "output_type": "stream",
     "text": [
      "<class 'pandas.core.frame.DataFrame'>\n",
      "RangeIndex: 6862422 entries, 0 to 6862421\n",
      "Data columns (total 8 columns):\n",
      " #   Column         Dtype  \n",
      "---  ------         -----  \n",
      " 0   item_id        int64  \n",
      " 1   user_id        object \n",
      " 2   hours_game     float64\n",
      " 3   genres         object \n",
      " 4   app_name       object \n",
      " 5   specs          object \n",
      " 6   developer      object \n",
      " 7   released_year  int64  \n",
      "dtypes: float64(1), int64(2), object(5)\n",
      "memory usage: 418.8+ MB\n"
     ]
    }
   ],
   "source": [
    "df_items_games2.info()"
   ]
  },
  {
   "cell_type": "code",
   "execution_count": 13,
   "id": "385b05fc",
   "metadata": {},
   "outputs": [
    {
     "data": {
      "text/plain": [
       "(6862422, 8)"
      ]
     },
     "execution_count": 13,
     "metadata": {},
     "output_type": "execute_result"
    }
   ],
   "source": [
    "df_items_games2.shape"
   ]
  },
  {
   "cell_type": "code",
   "execution_count": 14,
   "id": "579b9fef",
   "metadata": {},
   "outputs": [
    {
     "data": {
      "text/plain": [
       "(6796445, 7)"
      ]
     },
     "execution_count": 14,
     "metadata": {},
     "output_type": "execute_result"
    }
   ],
   "source": [
    "# ---> Removal of non-relevant information\n",
    "df_items_games2.drop(['item_id'], axis=1, inplace=True)\n",
    "df_items_games2.dropna(inplace=True)\n",
    "df_items_games2.shape"
   ]
  },
  {
   "cell_type": "code",
   "execution_count": 15,
   "id": "ac1c3179",
   "metadata": {},
   "outputs": [],
   "source": [
    "# ---> Conversion from Float to Integer\n",
    "df_items_games2['hours_game'] = df_items_games2['hours_game'].astype('int64')"
   ]
  },
  {
   "cell_type": "code",
   "execution_count": 16,
   "id": "79d93ed8",
   "metadata": {},
   "outputs": [
    {
     "name": "stdout",
     "output_type": "stream",
     "text": [
      "<class 'pandas.core.frame.DataFrame'>\n",
      "Index: 6796445 entries, 75 to 6862388\n",
      "Data columns (total 7 columns):\n",
      " #   Column         Dtype \n",
      "---  ------         ----- \n",
      " 0   user_id        object\n",
      " 1   hours_game     int64 \n",
      " 2   genres         object\n",
      " 3   app_name       object\n",
      " 4   specs          object\n",
      " 5   developer      object\n",
      " 6   released_year  int64 \n",
      "dtypes: int64(2), object(5)\n",
      "memory usage: 414.8+ MB\n"
     ]
    }
   ],
   "source": [
    "df_items_games2.info()"
   ]
  },
  {
   "cell_type": "code",
   "execution_count": 17,
   "id": "4bdc1d81",
   "metadata": {},
   "outputs": [
    {
     "data": {
      "text/html": [
       "<div>\n",
       "<style scoped>\n",
       "    .dataframe tbody tr th:only-of-type {\n",
       "        vertical-align: middle;\n",
       "    }\n",
       "\n",
       "    .dataframe tbody tr th {\n",
       "        vertical-align: top;\n",
       "    }\n",
       "\n",
       "    .dataframe thead th {\n",
       "        text-align: right;\n",
       "    }\n",
       "</style>\n",
       "<table border=\"1\" class=\"dataframe\">\n",
       "  <thead>\n",
       "    <tr style=\"text-align: right;\">\n",
       "      <th></th>\n",
       "      <th>user_id</th>\n",
       "      <th>hours_game</th>\n",
       "      <th>genres</th>\n",
       "      <th>app_name</th>\n",
       "      <th>specs</th>\n",
       "      <th>developer</th>\n",
       "      <th>released_year</th>\n",
       "    </tr>\n",
       "  </thead>\n",
       "  <tbody>\n",
       "    <tr>\n",
       "      <th>1154691</th>\n",
       "      <td>76561197966936422</td>\n",
       "      <td>5</td>\n",
       "      <td>Action</td>\n",
       "      <td>Dragon's Lair</td>\n",
       "      <td>['Single-player', 'Steam Achievements', 'Parti...</td>\n",
       "      <td>Digital Leisure Inc.</td>\n",
       "      <td>1983</td>\n",
       "    </tr>\n",
       "    <tr>\n",
       "      <th>1194878</th>\n",
       "      <td>76561198064710856</td>\n",
       "      <td>1</td>\n",
       "      <td>Action</td>\n",
       "      <td>Space Ace</td>\n",
       "      <td>['Single-player', 'Steam Achievements', 'Parti...</td>\n",
       "      <td>Digital Leisure Inc.</td>\n",
       "      <td>1984</td>\n",
       "    </tr>\n",
       "    <tr>\n",
       "      <th>4243070</th>\n",
       "      <td>DownSyndromeKid</td>\n",
       "      <td>11</td>\n",
       "      <td>Action</td>\n",
       "      <td>Gold Rush! Classic</td>\n",
       "      <td>['Single-player', 'Steam Trading Cards']</td>\n",
       "      <td>The Software Farm,Sunlight Games,Sierra Entert...</td>\n",
       "      <td>1988</td>\n",
       "    </tr>\n",
       "    <tr>\n",
       "      <th>4298369</th>\n",
       "      <td>starfleetbrat</td>\n",
       "      <td>8</td>\n",
       "      <td>Action</td>\n",
       "      <td>Tex Murphy: Mean Streets</td>\n",
       "      <td>['Single-player']</td>\n",
       "      <td>Access Software</td>\n",
       "      <td>1989</td>\n",
       "    </tr>\n",
       "    <tr>\n",
       "      <th>6741393</th>\n",
       "      <td>76561198041356854</td>\n",
       "      <td>23</td>\n",
       "      <td>Action</td>\n",
       "      <td>Commander Keen</td>\n",
       "      <td>['Single-player', 'Steam Cloud']</td>\n",
       "      <td>id Software</td>\n",
       "      <td>1990</td>\n",
       "    </tr>\n",
       "  </tbody>\n",
       "</table>\n",
       "</div>"
      ],
      "text/plain": [
       "                   user_id  hours_game  genres                  app_name  \\\n",
       "1154691  76561197966936422           5  Action             Dragon's Lair   \n",
       "1194878  76561198064710856           1  Action                 Space Ace   \n",
       "4243070    DownSyndromeKid          11  Action        Gold Rush! Classic   \n",
       "4298369      starfleetbrat           8  Action  Tex Murphy: Mean Streets   \n",
       "6741393  76561198041356854          23  Action            Commander Keen   \n",
       "\n",
       "                                                     specs  \\\n",
       "1154691  ['Single-player', 'Steam Achievements', 'Parti...   \n",
       "1194878  ['Single-player', 'Steam Achievements', 'Parti...   \n",
       "4243070           ['Single-player', 'Steam Trading Cards']   \n",
       "4298369                                  ['Single-player']   \n",
       "6741393                   ['Single-player', 'Steam Cloud']   \n",
       "\n",
       "                                                 developer  released_year  \n",
       "1154691                               Digital Leisure Inc.           1983  \n",
       "1194878                               Digital Leisure Inc.           1984  \n",
       "4243070  The Software Farm,Sunlight Games,Sierra Entert...           1988  \n",
       "4298369                                    Access Software           1989  \n",
       "6741393                                        id Software           1990  "
      ]
     },
     "execution_count": 17,
     "metadata": {},
     "output_type": "execute_result"
    }
   ],
   "source": [
    "# ---> Calculation to rank users with the most hours played by gender and year\n",
    "df_topuser_genrehours = df_items_games2.loc[df_items_games2.groupby(['genres', 'released_year'])['hours_game'].idxmax()]\n",
    "df_topuser_genrehours.head()"
   ]
  },
  {
   "cell_type": "code",
   "execution_count": 18,
   "id": "263401e5",
   "metadata": {},
   "outputs": [
    {
     "data": {
      "text/html": [
       "<div>\n",
       "<style scoped>\n",
       "    .dataframe tbody tr th:only-of-type {\n",
       "        vertical-align: middle;\n",
       "    }\n",
       "\n",
       "    .dataframe tbody tr th {\n",
       "        vertical-align: top;\n",
       "    }\n",
       "\n",
       "    .dataframe thead th {\n",
       "        text-align: right;\n",
       "    }\n",
       "</style>\n",
       "<table border=\"1\" class=\"dataframe\">\n",
       "  <thead>\n",
       "    <tr style=\"text-align: right;\">\n",
       "      <th></th>\n",
       "      <th>genres</th>\n",
       "      <th>released_year</th>\n",
       "      <th>user_id</th>\n",
       "      <th>hours_game</th>\n",
       "    </tr>\n",
       "  </thead>\n",
       "  <tbody>\n",
       "    <tr>\n",
       "      <th>1154691</th>\n",
       "      <td>Action</td>\n",
       "      <td>1983</td>\n",
       "      <td>76561197966936422</td>\n",
       "      <td>5</td>\n",
       "    </tr>\n",
       "    <tr>\n",
       "      <th>1194878</th>\n",
       "      <td>Action</td>\n",
       "      <td>1984</td>\n",
       "      <td>76561198064710856</td>\n",
       "      <td>1</td>\n",
       "    </tr>\n",
       "    <tr>\n",
       "      <th>4243070</th>\n",
       "      <td>Action</td>\n",
       "      <td>1988</td>\n",
       "      <td>DownSyndromeKid</td>\n",
       "      <td>11</td>\n",
       "    </tr>\n",
       "    <tr>\n",
       "      <th>4298369</th>\n",
       "      <td>Action</td>\n",
       "      <td>1989</td>\n",
       "      <td>starfleetbrat</td>\n",
       "      <td>8</td>\n",
       "    </tr>\n",
       "    <tr>\n",
       "      <th>6741393</th>\n",
       "      <td>Action</td>\n",
       "      <td>1990</td>\n",
       "      <td>76561198041356854</td>\n",
       "      <td>23</td>\n",
       "    </tr>\n",
       "  </tbody>\n",
       "</table>\n",
       "</div>"
      ],
      "text/plain": [
       "         genres  released_year            user_id  hours_game\n",
       "1154691  Action           1983  76561197966936422           5\n",
       "1194878  Action           1984  76561198064710856           1\n",
       "4243070  Action           1988    DownSyndromeKid          11\n",
       "4298369  Action           1989      starfleetbrat           8\n",
       "6741393  Action           1990  76561198041356854          23"
      ]
     },
     "execution_count": 18,
     "metadata": {},
     "output_type": "execute_result"
    }
   ],
   "source": [
    "# ---> filter out columns that are not required\n",
    "df_topuser_genrehours = df_topuser_genrehours[['genres', 'released_year', 'user_id', 'hours_game']]\n",
    "df_topuser_genrehours.head()"
   ]
  },
  {
   "cell_type": "code",
   "execution_count": 19,
   "id": "1fd3f822",
   "metadata": {},
   "outputs": [
    {
     "data": {
      "text/html": [
       "<div>\n",
       "<style scoped>\n",
       "    .dataframe tbody tr th:only-of-type {\n",
       "        vertical-align: middle;\n",
       "    }\n",
       "\n",
       "    .dataframe tbody tr th {\n",
       "        vertical-align: top;\n",
       "    }\n",
       "\n",
       "    .dataframe thead th {\n",
       "        text-align: right;\n",
       "    }\n",
       "</style>\n",
       "<table border=\"1\" class=\"dataframe\">\n",
       "  <thead>\n",
       "    <tr style=\"text-align: right;\">\n",
       "      <th></th>\n",
       "      <th>genres</th>\n",
       "      <th>released_year</th>\n",
       "      <th>user_id</th>\n",
       "      <th>hours_game</th>\n",
       "    </tr>\n",
       "  </thead>\n",
       "  <tbody>\n",
       "    <tr>\n",
       "      <th>0</th>\n",
       "      <td>Action</td>\n",
       "      <td>1983</td>\n",
       "      <td>76561197966936422</td>\n",
       "      <td>5</td>\n",
       "    </tr>\n",
       "    <tr>\n",
       "      <th>1</th>\n",
       "      <td>Action</td>\n",
       "      <td>1984</td>\n",
       "      <td>76561198064710856</td>\n",
       "      <td>1</td>\n",
       "    </tr>\n",
       "    <tr>\n",
       "      <th>2</th>\n",
       "      <td>Action</td>\n",
       "      <td>1988</td>\n",
       "      <td>DownSyndromeKid</td>\n",
       "      <td>11</td>\n",
       "    </tr>\n",
       "    <tr>\n",
       "      <th>3</th>\n",
       "      <td>Action</td>\n",
       "      <td>1989</td>\n",
       "      <td>starfleetbrat</td>\n",
       "      <td>8</td>\n",
       "    </tr>\n",
       "    <tr>\n",
       "      <th>4</th>\n",
       "      <td>Action</td>\n",
       "      <td>1990</td>\n",
       "      <td>76561198041356854</td>\n",
       "      <td>23</td>\n",
       "    </tr>\n",
       "  </tbody>\n",
       "</table>\n",
       "</div>"
      ],
      "text/plain": [
       "   genres  released_year            user_id  hours_game\n",
       "0  Action           1983  76561197966936422           5\n",
       "1  Action           1984  76561198064710856           1\n",
       "2  Action           1988    DownSyndromeKid          11\n",
       "3  Action           1989      starfleetbrat           8\n",
       "4  Action           1990  76561198041356854          23"
      ]
     },
     "execution_count": 19,
     "metadata": {},
     "output_type": "execute_result"
    }
   ],
   "source": [
    "# ---> Calculation to obtain the hours played per year for the selected user\n",
    "df_topuser_genrehours2 = df_topuser_genrehours.groupby(['genres', 'released_year', 'user_id'])['hours_game'].sum().reset_index()\n",
    "df_topuser_genrehours2.head()"
   ]
  },
  {
   "cell_type": "code",
   "execution_count": 20,
   "id": "cd802025",
   "metadata": {},
   "outputs": [],
   "source": [
    "# ---> Upload results to a CSV file\n",
    "df_topuser_genrehours2.to_csv('./Datasets/api/userforgenre.csv', encoding='utf-8', index=False)"
   ]
  },
  {
   "cell_type": "markdown",
   "id": "2490122c",
   "metadata": {},
   "source": [
    "### 3. Data preparation to answer 'Endpoint3 = UsersRecommend'"
   ]
  },
  {
   "cell_type": "code",
   "execution_count": 21,
   "id": "d64dc5a7",
   "metadata": {},
   "outputs": [
    {
     "data": {
      "text/html": [
       "<div>\n",
       "<style scoped>\n",
       "    .dataframe tbody tr th:only-of-type {\n",
       "        vertical-align: middle;\n",
       "    }\n",
       "\n",
       "    .dataframe tbody tr th {\n",
       "        vertical-align: top;\n",
       "    }\n",
       "\n",
       "    .dataframe thead th {\n",
       "        text-align: right;\n",
       "    }\n",
       "</style>\n",
       "<table border=\"1\" class=\"dataframe\">\n",
       "  <thead>\n",
       "    <tr style=\"text-align: right;\">\n",
       "      <th></th>\n",
       "      <th>item_id</th>\n",
       "      <th>recommend</th>\n",
       "      <th>posted_year</th>\n",
       "      <th>sentiment</th>\n",
       "      <th>genres</th>\n",
       "      <th>app_name</th>\n",
       "      <th>specs</th>\n",
       "      <th>developer</th>\n",
       "      <th>released_year</th>\n",
       "    </tr>\n",
       "  </thead>\n",
       "  <tbody>\n",
       "    <tr>\n",
       "      <th>0</th>\n",
       "      <td>1250</td>\n",
       "      <td>True</td>\n",
       "      <td>2011</td>\n",
       "      <td>2</td>\n",
       "      <td>Action</td>\n",
       "      <td>Killing Floor</td>\n",
       "      <td>['Single-player', 'Multi-player', 'Co-op', 'Cr...</td>\n",
       "      <td>Tripwire Interactive</td>\n",
       "      <td>2009.0</td>\n",
       "    </tr>\n",
       "    <tr>\n",
       "      <th>1</th>\n",
       "      <td>22200</td>\n",
       "      <td>True</td>\n",
       "      <td>2011</td>\n",
       "      <td>2</td>\n",
       "      <td>Action</td>\n",
       "      <td>Zeno Clash</td>\n",
       "      <td>['Single-player', 'Steam Achievements', 'Steam...</td>\n",
       "      <td>ACE Team</td>\n",
       "      <td>2009.0</td>\n",
       "    </tr>\n",
       "    <tr>\n",
       "      <th>2</th>\n",
       "      <td>22200</td>\n",
       "      <td>True</td>\n",
       "      <td>2011</td>\n",
       "      <td>2</td>\n",
       "      <td>Indie</td>\n",
       "      <td>Zeno Clash</td>\n",
       "      <td>['Single-player', 'Steam Achievements', 'Steam...</td>\n",
       "      <td>ACE Team</td>\n",
       "      <td>2009.0</td>\n",
       "    </tr>\n",
       "    <tr>\n",
       "      <th>3</th>\n",
       "      <td>43110</td>\n",
       "      <td>True</td>\n",
       "      <td>2011</td>\n",
       "      <td>2</td>\n",
       "      <td>NaN</td>\n",
       "      <td>NaN</td>\n",
       "      <td>NaN</td>\n",
       "      <td>NaN</td>\n",
       "      <td>NaN</td>\n",
       "    </tr>\n",
       "    <tr>\n",
       "      <th>4</th>\n",
       "      <td>251610</td>\n",
       "      <td>True</td>\n",
       "      <td>2014</td>\n",
       "      <td>2</td>\n",
       "      <td>NaN</td>\n",
       "      <td>NaN</td>\n",
       "      <td>NaN</td>\n",
       "      <td>NaN</td>\n",
       "      <td>NaN</td>\n",
       "    </tr>\n",
       "  </tbody>\n",
       "</table>\n",
       "</div>"
      ],
      "text/plain": [
       "   item_id  recommend  posted_year  sentiment  genres       app_name  \\\n",
       "0     1250       True         2011          2  Action  Killing Floor   \n",
       "1    22200       True         2011          2  Action     Zeno Clash   \n",
       "2    22200       True         2011          2   Indie     Zeno Clash   \n",
       "3    43110       True         2011          2     NaN            NaN   \n",
       "4   251610       True         2014          2     NaN            NaN   \n",
       "\n",
       "                                               specs             developer  \\\n",
       "0  ['Single-player', 'Multi-player', 'Co-op', 'Cr...  Tripwire Interactive   \n",
       "1  ['Single-player', 'Steam Achievements', 'Steam...              ACE Team   \n",
       "2  ['Single-player', 'Steam Achievements', 'Steam...              ACE Team   \n",
       "3                                                NaN                   NaN   \n",
       "4                                                NaN                   NaN   \n",
       "\n",
       "   released_year  \n",
       "0         2009.0  \n",
       "1         2009.0  \n",
       "2         2009.0  \n",
       "3            NaN  \n",
       "4            NaN  "
      ]
     },
     "execution_count": 21,
     "metadata": {},
     "output_type": "execute_result"
    }
   ],
   "source": [
    "# ---> A Merge of the DataFrames: df_reviews, df_games, on the column 'item_id' is performed\n",
    "df_reviews_games = pd.merge(df_reviews, df_games, on='item_id', how='left')\n",
    "df_reviews_games.head()"
   ]
  },
  {
   "cell_type": "code",
   "execution_count": 22,
   "id": "a9b86deb",
   "metadata": {},
   "outputs": [
    {
     "name": "stdout",
     "output_type": "stream",
     "text": [
      "<class 'pandas.core.frame.DataFrame'>\n",
      "RangeIndex: 109403 entries, 0 to 109402\n",
      "Data columns (total 9 columns):\n",
      " #   Column         Non-Null Count   Dtype  \n",
      "---  ------         --------------   -----  \n",
      " 0   item_id        109403 non-null  int64  \n",
      " 1   recommend      109403 non-null  bool   \n",
      " 2   posted_year    109403 non-null  int64  \n",
      " 3   sentiment      109403 non-null  int64  \n",
      " 4   genres         101865 non-null  object \n",
      " 5   app_name       101865 non-null  object \n",
      " 6   specs          101821 non-null  object \n",
      " 7   developer      101865 non-null  object \n",
      " 8   released_year  101865 non-null  float64\n",
      "dtypes: bool(1), float64(1), int64(3), object(4)\n",
      "memory usage: 6.8+ MB\n"
     ]
    }
   ],
   "source": [
    "df_reviews_games.info()"
   ]
  },
  {
   "cell_type": "code",
   "execution_count": 23,
   "id": "fe60265d",
   "metadata": {},
   "outputs": [
    {
     "name": "stdout",
     "output_type": "stream",
     "text": [
      "        released_year                          app_name\n",
      "0              2009.0                     Killing Floor\n",
      "1              2009.0                        Zeno Clash\n",
      "2              2009.0                        Zeno Clash\n",
      "3                 NaN                               NaN\n",
      "4                 NaN                               NaN\n",
      "...               ...                               ...\n",
      "109397         2012.0  Counter-Strike: Global Offensive\n",
      "109398         2012.0  Counter-Strike: Global Offensive\n",
      "109399         2003.0                           Enclave\n",
      "109401         2012.0  Counter-Strike: Global Offensive\n",
      "109402            NaN                               NaN\n",
      "\n",
      "[85590 rows x 2 columns]\n"
     ]
    }
   ],
   "source": [
    "# ---> Filter a new DataFrame by columns: 'recommend' and 'sentiment' (neutral and positive scores)\n",
    "df_conditions = df_reviews_games.loc[(df_reviews_games['recommend'] == True) & (df_reviews_games['sentiment'].isin([1, 2])), ['released_year', 'app_name']]\n",
    "print(df_conditions)"
   ]
  },
  {
   "cell_type": "code",
   "execution_count": 24,
   "id": "c686af91",
   "metadata": {},
   "outputs": [],
   "source": [
    "# ---> Grouping by columns: 'released_year' and 'app_name' and counting occurrences\n",
    "df_conditions1 = df_conditions.groupby(['released_year', 'app_name']).size().reset_index(name='count')"
   ]
  },
  {
   "cell_type": "code",
   "execution_count": 25,
   "id": "b001f64c",
   "metadata": {},
   "outputs": [
    {
     "data": {
      "text/html": [
       "<div>\n",
       "<style scoped>\n",
       "    .dataframe tbody tr th:only-of-type {\n",
       "        vertical-align: middle;\n",
       "    }\n",
       "\n",
       "    .dataframe tbody tr th {\n",
       "        vertical-align: top;\n",
       "    }\n",
       "\n",
       "    .dataframe thead th {\n",
       "        text-align: right;\n",
       "    }\n",
       "</style>\n",
       "<table border=\"1\" class=\"dataframe\">\n",
       "  <thead>\n",
       "    <tr style=\"text-align: right;\">\n",
       "      <th></th>\n",
       "      <th>released_year</th>\n",
       "      <th>app_name</th>\n",
       "      <th>count</th>\n",
       "    </tr>\n",
       "  </thead>\n",
       "  <tbody>\n",
       "    <tr>\n",
       "      <th>2075</th>\n",
       "      <td>2017.0</td>\n",
       "      <td>Unturned</td>\n",
       "      <td>3630</td>\n",
       "    </tr>\n",
       "    <tr>\n",
       "      <th>2070</th>\n",
       "      <td>2017.0</td>\n",
       "      <td>Robocraft</td>\n",
       "      <td>1194</td>\n",
       "    </tr>\n",
       "    <tr>\n",
       "      <th>2050</th>\n",
       "      <td>2017.0</td>\n",
       "      <td>ARK: Survival Evolved</td>\n",
       "      <td>665</td>\n",
       "    </tr>\n",
       "    <tr>\n",
       "      <th>2058</th>\n",
       "      <td>2017.0</td>\n",
       "      <td>Dungeon Defenders II</td>\n",
       "      <td>140</td>\n",
       "    </tr>\n",
       "    <tr>\n",
       "      <th>2073</th>\n",
       "      <td>2017.0</td>\n",
       "      <td>The Long Dark</td>\n",
       "      <td>104</td>\n",
       "    </tr>\n",
       "  </tbody>\n",
       "</table>\n",
       "</div>"
      ],
      "text/plain": [
       "      released_year               app_name  count\n",
       "2075         2017.0               Unturned   3630\n",
       "2070         2017.0              Robocraft   1194\n",
       "2050         2017.0  ARK: Survival Evolved    665\n",
       "2058         2017.0   Dungeon Defenders II    140\n",
       "2073         2017.0          The Long Dark    104"
      ]
     },
     "execution_count": 25,
     "metadata": {},
     "output_type": "execute_result"
    }
   ],
   "source": [
    "# ---> Sort by columns: 'released_year' and 'count' in descending order\n",
    "df_conditions1 = df_conditions1.sort_values(by=['released_year', 'count'], ascending=[False, False])\n",
    "df_conditions1.head()"
   ]
  },
  {
   "cell_type": "code",
   "execution_count": 26,
   "id": "30744592",
   "metadata": {},
   "outputs": [
    {
     "name": "stdout",
     "output_type": "stream",
     "text": [
      "<class 'pandas.core.frame.DataFrame'>\n",
      "Index: 2077 entries, 2075 to 0\n",
      "Data columns (total 3 columns):\n",
      " #   Column         Non-Null Count  Dtype  \n",
      "---  ------         --------------  -----  \n",
      " 0   released_year  2077 non-null   float64\n",
      " 1   app_name       2077 non-null   object \n",
      " 2   count          2077 non-null   int64  \n",
      "dtypes: float64(1), int64(1), object(1)\n",
      "memory usage: 64.9+ KB\n"
     ]
    }
   ],
   "source": [
    "df_conditions1.info()"
   ]
  },
  {
   "cell_type": "code",
   "execution_count": 27,
   "id": "aa450a67",
   "metadata": {},
   "outputs": [],
   "source": [
    "# ---> Conversion from Float to Integer\n",
    "df_conditions1['released_year'] = df_conditions1['released_year'].astype('int64')"
   ]
  },
  {
   "cell_type": "code",
   "execution_count": 28,
   "id": "83915823",
   "metadata": {},
   "outputs": [
    {
     "name": "stdout",
     "output_type": "stream",
     "text": [
      "<class 'pandas.core.frame.DataFrame'>\n",
      "Index: 2077 entries, 2075 to 0\n",
      "Data columns (total 3 columns):\n",
      " #   Column         Non-Null Count  Dtype \n",
      "---  ------         --------------  ----- \n",
      " 0   released_year  2077 non-null   int64 \n",
      " 1   app_name       2077 non-null   object\n",
      " 2   count          2077 non-null   int64 \n",
      "dtypes: int64(2), object(1)\n",
      "memory usage: 64.9+ KB\n"
     ]
    }
   ],
   "source": [
    "df_conditions1.info()"
   ]
  },
  {
   "cell_type": "code",
   "execution_count": 29,
   "id": "8ffe061f",
   "metadata": {},
   "outputs": [
    {
     "name": "stdout",
     "output_type": "stream",
     "text": [
      "      released_year               app_name  count\n",
      "2075           2017               Unturned   3630\n",
      "2070           2017              Robocraft   1194\n",
      "2050           2017  ARK: Survival Evolved    665\n",
      "2040           2016              Starbound   1345\n",
      "2017           2016      Heroes & Generals    460\n",
      "...             ...                    ...    ...\n",
      "5              1992            Word Rescue      2\n",
      "3              1991          Crystal Caves      1\n",
      "1              1990         Commander Keen      3\n",
      "2              1990                  LOOM™      1\n",
      "0              1989   Sword of the Samurai      2\n",
      "\n",
      "[80 rows x 3 columns]\n"
     ]
    }
   ],
   "source": [
    "# ---> Top 3 of game recommendations by year\n",
    "df_top_year = df_conditions1.groupby('released_year').head(3)\n",
    "print(df_top_year)"
   ]
  },
  {
   "cell_type": "code",
   "execution_count": 30,
   "id": "acec8fe3",
   "metadata": {},
   "outputs": [],
   "source": [
    "# ---> Upload results to a CSV file\n",
    "df_top_year.to_csv('./Datasets/api/usersrecommend.csv', encoding='utf-8', index=False)"
   ]
  },
  {
   "cell_type": "markdown",
   "id": "445bdcdc",
   "metadata": {},
   "source": [
    "### 4. Data preparation to answer 'Endpoint4 = UsersWorstDeveloper'"
   ]
  },
  {
   "cell_type": "code",
   "execution_count": 31,
   "id": "4c604f22",
   "metadata": {},
   "outputs": [
    {
     "data": {
      "text/html": [
       "<div>\n",
       "<style scoped>\n",
       "    .dataframe tbody tr th:only-of-type {\n",
       "        vertical-align: middle;\n",
       "    }\n",
       "\n",
       "    .dataframe tbody tr th {\n",
       "        vertical-align: top;\n",
       "    }\n",
       "\n",
       "    .dataframe thead th {\n",
       "        text-align: right;\n",
       "    }\n",
       "</style>\n",
       "<table border=\"1\" class=\"dataframe\">\n",
       "  <thead>\n",
       "    <tr style=\"text-align: right;\">\n",
       "      <th></th>\n",
       "      <th>item_id</th>\n",
       "      <th>recommend</th>\n",
       "      <th>posted_year</th>\n",
       "      <th>sentiment</th>\n",
       "      <th>genres</th>\n",
       "      <th>app_name</th>\n",
       "      <th>specs</th>\n",
       "      <th>developer</th>\n",
       "      <th>released_year</th>\n",
       "    </tr>\n",
       "  </thead>\n",
       "  <tbody>\n",
       "    <tr>\n",
       "      <th>0</th>\n",
       "      <td>1250</td>\n",
       "      <td>True</td>\n",
       "      <td>2011</td>\n",
       "      <td>2</td>\n",
       "      <td>Action</td>\n",
       "      <td>Killing Floor</td>\n",
       "      <td>['Single-player', 'Multi-player', 'Co-op', 'Cr...</td>\n",
       "      <td>Tripwire Interactive</td>\n",
       "      <td>2009.0</td>\n",
       "    </tr>\n",
       "    <tr>\n",
       "      <th>1</th>\n",
       "      <td>22200</td>\n",
       "      <td>True</td>\n",
       "      <td>2011</td>\n",
       "      <td>2</td>\n",
       "      <td>Action</td>\n",
       "      <td>Zeno Clash</td>\n",
       "      <td>['Single-player', 'Steam Achievements', 'Steam...</td>\n",
       "      <td>ACE Team</td>\n",
       "      <td>2009.0</td>\n",
       "    </tr>\n",
       "    <tr>\n",
       "      <th>2</th>\n",
       "      <td>22200</td>\n",
       "      <td>True</td>\n",
       "      <td>2011</td>\n",
       "      <td>2</td>\n",
       "      <td>Indie</td>\n",
       "      <td>Zeno Clash</td>\n",
       "      <td>['Single-player', 'Steam Achievements', 'Steam...</td>\n",
       "      <td>ACE Team</td>\n",
       "      <td>2009.0</td>\n",
       "    </tr>\n",
       "    <tr>\n",
       "      <th>3</th>\n",
       "      <td>43110</td>\n",
       "      <td>True</td>\n",
       "      <td>2011</td>\n",
       "      <td>2</td>\n",
       "      <td>NaN</td>\n",
       "      <td>NaN</td>\n",
       "      <td>NaN</td>\n",
       "      <td>NaN</td>\n",
       "      <td>NaN</td>\n",
       "    </tr>\n",
       "    <tr>\n",
       "      <th>4</th>\n",
       "      <td>251610</td>\n",
       "      <td>True</td>\n",
       "      <td>2014</td>\n",
       "      <td>2</td>\n",
       "      <td>NaN</td>\n",
       "      <td>NaN</td>\n",
       "      <td>NaN</td>\n",
       "      <td>NaN</td>\n",
       "      <td>NaN</td>\n",
       "    </tr>\n",
       "  </tbody>\n",
       "</table>\n",
       "</div>"
      ],
      "text/plain": [
       "   item_id  recommend  posted_year  sentiment  genres       app_name  \\\n",
       "0     1250       True         2011          2  Action  Killing Floor   \n",
       "1    22200       True         2011          2  Action     Zeno Clash   \n",
       "2    22200       True         2011          2   Indie     Zeno Clash   \n",
       "3    43110       True         2011          2     NaN            NaN   \n",
       "4   251610       True         2014          2     NaN            NaN   \n",
       "\n",
       "                                               specs             developer  \\\n",
       "0  ['Single-player', 'Multi-player', 'Co-op', 'Cr...  Tripwire Interactive   \n",
       "1  ['Single-player', 'Steam Achievements', 'Steam...              ACE Team   \n",
       "2  ['Single-player', 'Steam Achievements', 'Steam...              ACE Team   \n",
       "3                                                NaN                   NaN   \n",
       "4                                                NaN                   NaN   \n",
       "\n",
       "   released_year  \n",
       "0         2009.0  \n",
       "1         2009.0  \n",
       "2         2009.0  \n",
       "3            NaN  \n",
       "4            NaN  "
      ]
     },
     "execution_count": 31,
     "metadata": {},
     "output_type": "execute_result"
    }
   ],
   "source": [
    "# ---> A Merge of the DataFrames: df_reviews, df_games, on the column 'item_id' is performed\n",
    "df_reviews_games4 = pd.merge(df_reviews, df_games, on='item_id', how='left')\n",
    "df_reviews_games4.head()"
   ]
  },
  {
   "cell_type": "code",
   "execution_count": 32,
   "id": "19a35f78",
   "metadata": {},
   "outputs": [],
   "source": [
    "# ---> Filter a new DataFrame by columns: 'recommend' and 'sentiment' (negative score)\n",
    "df_reviews_games41 = df_reviews_games4.loc[(df_reviews_games4['recommend'] == False) & (df_reviews_games4['sentiment'] == 0), ['released_year', 'developer']]"
   ]
  },
  {
   "cell_type": "code",
   "execution_count": 33,
   "id": "436aa0e0",
   "metadata": {},
   "outputs": [
    {
     "data": {
      "text/html": [
       "<div>\n",
       "<style scoped>\n",
       "    .dataframe tbody tr th:only-of-type {\n",
       "        vertical-align: middle;\n",
       "    }\n",
       "\n",
       "    .dataframe tbody tr th {\n",
       "        vertical-align: top;\n",
       "    }\n",
       "\n",
       "    .dataframe thead th {\n",
       "        text-align: right;\n",
       "    }\n",
       "</style>\n",
       "<table border=\"1\" class=\"dataframe\">\n",
       "  <thead>\n",
       "    <tr style=\"text-align: right;\">\n",
       "      <th></th>\n",
       "      <th>released_year</th>\n",
       "      <th>developer</th>\n",
       "    </tr>\n",
       "  </thead>\n",
       "  <tbody>\n",
       "    <tr>\n",
       "      <th>112</th>\n",
       "      <td>NaN</td>\n",
       "      <td>NaN</td>\n",
       "    </tr>\n",
       "    <tr>\n",
       "      <th>249</th>\n",
       "      <td>2015.0</td>\n",
       "      <td>Code}{atch</td>\n",
       "    </tr>\n",
       "    <tr>\n",
       "      <th>250</th>\n",
       "      <td>2015.0</td>\n",
       "      <td>Code}{atch</td>\n",
       "    </tr>\n",
       "    <tr>\n",
       "      <th>251</th>\n",
       "      <td>2015.0</td>\n",
       "      <td>Code}{atch</td>\n",
       "    </tr>\n",
       "    <tr>\n",
       "      <th>252</th>\n",
       "      <td>2015.0</td>\n",
       "      <td>Code}{atch</td>\n",
       "    </tr>\n",
       "  </tbody>\n",
       "</table>\n",
       "</div>"
      ],
      "text/plain": [
       "     released_year   developer\n",
       "112            NaN         NaN\n",
       "249         2015.0  Code}{atch\n",
       "250         2015.0  Code}{atch\n",
       "251         2015.0  Code}{atch\n",
       "252         2015.0  Code}{atch"
      ]
     },
     "execution_count": 33,
     "metadata": {},
     "output_type": "execute_result"
    }
   ],
   "source": [
    "df_reviews_games41.head()"
   ]
  },
  {
   "cell_type": "code",
   "execution_count": 34,
   "id": "6eba0995",
   "metadata": {},
   "outputs": [
    {
     "name": "stdout",
     "output_type": "stream",
     "text": [
      "<class 'pandas.core.frame.DataFrame'>\n",
      "Index: 5074 entries, 112 to 109367\n",
      "Data columns (total 2 columns):\n",
      " #   Column         Non-Null Count  Dtype  \n",
      "---  ------         --------------  -----  \n",
      " 0   released_year  4575 non-null   float64\n",
      " 1   developer      4575 non-null   object \n",
      "dtypes: float64(1), object(1)\n",
      "memory usage: 118.9+ KB\n"
     ]
    }
   ],
   "source": [
    "df_reviews_games41.info()"
   ]
  },
  {
   "cell_type": "code",
   "execution_count": 35,
   "id": "43748f8c",
   "metadata": {},
   "outputs": [
    {
     "data": {
      "text/html": [
       "<div>\n",
       "<style scoped>\n",
       "    .dataframe tbody tr th:only-of-type {\n",
       "        vertical-align: middle;\n",
       "    }\n",
       "\n",
       "    .dataframe tbody tr th {\n",
       "        vertical-align: top;\n",
       "    }\n",
       "\n",
       "    .dataframe thead th {\n",
       "        text-align: right;\n",
       "    }\n",
       "</style>\n",
       "<table border=\"1\" class=\"dataframe\">\n",
       "  <thead>\n",
       "    <tr style=\"text-align: right;\">\n",
       "      <th></th>\n",
       "      <th>released_year</th>\n",
       "      <th>developer</th>\n",
       "      <th>count</th>\n",
       "    </tr>\n",
       "  </thead>\n",
       "  <tbody>\n",
       "    <tr>\n",
       "      <th>0</th>\n",
       "      <td>1990.0</td>\n",
       "      <td>id Software</td>\n",
       "      <td>1</td>\n",
       "    </tr>\n",
       "    <tr>\n",
       "      <th>1</th>\n",
       "      <td>1998.0</td>\n",
       "      <td>Jackbox Games, Inc.</td>\n",
       "      <td>2</td>\n",
       "    </tr>\n",
       "    <tr>\n",
       "      <th>2</th>\n",
       "      <td>1999.0</td>\n",
       "      <td>Chris Sawyer Productions</td>\n",
       "      <td>2</td>\n",
       "    </tr>\n",
       "    <tr>\n",
       "      <th>3</th>\n",
       "      <td>1999.0</td>\n",
       "      <td>Valve</td>\n",
       "      <td>1</td>\n",
       "    </tr>\n",
       "    <tr>\n",
       "      <th>4</th>\n",
       "      <td>2000.0</td>\n",
       "      <td>Ion Storm</td>\n",
       "      <td>1</td>\n",
       "    </tr>\n",
       "  </tbody>\n",
       "</table>\n",
       "</div>"
      ],
      "text/plain": [
       "   released_year                 developer  count\n",
       "0         1990.0               id Software      1\n",
       "1         1998.0       Jackbox Games, Inc.      2\n",
       "2         1999.0  Chris Sawyer Productions      2\n",
       "3         1999.0                     Valve      1\n",
       "4         2000.0                 Ion Storm      1"
      ]
     },
     "execution_count": 35,
     "metadata": {},
     "output_type": "execute_result"
    }
   ],
   "source": [
    "# ---> Calculation of the occurrences of each developer per year\n",
    "df_reviews_games42 = df_reviews_games41.groupby(['released_year', 'developer']).size().reset_index(name='count')\n",
    "df_reviews_games42.head()"
   ]
  },
  {
   "cell_type": "code",
   "execution_count": 36,
   "id": "59fa8b6d",
   "metadata": {},
   "outputs": [],
   "source": [
    "# ---> Conversion from Float to Integer\n",
    "df_reviews_games42['released_year'] = df_reviews_games42['released_year'].astype('int64')"
   ]
  },
  {
   "cell_type": "code",
   "execution_count": 37,
   "id": "f34bf292",
   "metadata": {},
   "outputs": [
    {
     "data": {
      "text/html": [
       "<div>\n",
       "<style scoped>\n",
       "    .dataframe tbody tr th:only-of-type {\n",
       "        vertical-align: middle;\n",
       "    }\n",
       "\n",
       "    .dataframe tbody tr th {\n",
       "        vertical-align: top;\n",
       "    }\n",
       "\n",
       "    .dataframe thead th {\n",
       "        text-align: right;\n",
       "    }\n",
       "</style>\n",
       "<table border=\"1\" class=\"dataframe\">\n",
       "  <thead>\n",
       "    <tr style=\"text-align: right;\">\n",
       "      <th></th>\n",
       "      <th>released_year</th>\n",
       "      <th>developer</th>\n",
       "      <th>count</th>\n",
       "    </tr>\n",
       "  </thead>\n",
       "  <tbody>\n",
       "    <tr>\n",
       "      <th>583</th>\n",
       "      <td>2017</td>\n",
       "      <td>Smartly Dressed Games</td>\n",
       "      <td>190</td>\n",
       "    </tr>\n",
       "    <tr>\n",
       "      <th>580</th>\n",
       "      <td>2017</td>\n",
       "      <td>Freejam</td>\n",
       "      <td>144</td>\n",
       "    </tr>\n",
       "    <tr>\n",
       "      <th>584</th>\n",
       "      <td>2017</td>\n",
       "      <td>Studio Wildcard,Instinct Games,Efecto Studios,...</td>\n",
       "      <td>95</td>\n",
       "    </tr>\n",
       "    <tr>\n",
       "      <th>581</th>\n",
       "      <td>2017</td>\n",
       "      <td>Hoobalugalar_X</td>\n",
       "      <td>10</td>\n",
       "    </tr>\n",
       "    <tr>\n",
       "      <th>586</th>\n",
       "      <td>2017</td>\n",
       "      <td>Trendy Entertainment</td>\n",
       "      <td>10</td>\n",
       "    </tr>\n",
       "  </tbody>\n",
       "</table>\n",
       "</div>"
      ],
      "text/plain": [
       "     released_year                                          developer  count\n",
       "583           2017                              Smartly Dressed Games    190\n",
       "580           2017                                            Freejam    144\n",
       "584           2017  Studio Wildcard,Instinct Games,Efecto Studios,...     95\n",
       "581           2017                                     Hoobalugalar_X     10\n",
       "586           2017                               Trendy Entertainment     10"
      ]
     },
     "execution_count": 37,
     "metadata": {},
     "output_type": "execute_result"
    }
   ],
   "source": [
    "# ---> Sort by columns: 'released_year' and 'count' in descending order\n",
    "df_reviews_games42 = df_reviews_games42.sort_values(by=['released_year', 'count'], ascending=[False, False])\n",
    "df_reviews_games42.head()"
   ]
  },
  {
   "cell_type": "code",
   "execution_count": 38,
   "id": "8827a241",
   "metadata": {},
   "outputs": [],
   "source": [
    "# ---> Top 3 of worst developers by year\n",
    "df_top_worstdev = df_reviews_games42.groupby('released_year').head(3)    "
   ]
  },
  {
   "cell_type": "code",
   "execution_count": 39,
   "id": "b026060d",
   "metadata": {},
   "outputs": [
    {
     "name": "stdout",
     "output_type": "stream",
     "text": [
      "<class 'pandas.core.frame.DataFrame'>\n",
      "Index: 53 entries, 583 to 0\n",
      "Data columns (total 3 columns):\n",
      " #   Column         Non-Null Count  Dtype \n",
      "---  ------         --------------  ----- \n",
      " 0   released_year  53 non-null     int64 \n",
      " 1   developer      53 non-null     object\n",
      " 2   count          53 non-null     int64 \n",
      "dtypes: int64(2), object(1)\n",
      "memory usage: 1.7+ KB\n"
     ]
    }
   ],
   "source": [
    "df_top_worstdev.info()"
   ]
  },
  {
   "cell_type": "code",
   "execution_count": 40,
   "id": "9acf2042",
   "metadata": {},
   "outputs": [],
   "source": [
    "# ---> Upload results to a CSV file\n",
    "df_top_worstdev.to_csv('./Datasets/api/worstdeveloper.csv', encoding='utf-8', index=False)"
   ]
  },
  {
   "cell_type": "markdown",
   "id": "8b993638",
   "metadata": {},
   "source": [
    "### 5. Data preparation to answer 'Endpoint5 = Sentiment_analysis'"
   ]
  },
  {
   "cell_type": "code",
   "execution_count": 41,
   "id": "69126bff",
   "metadata": {},
   "outputs": [
    {
     "data": {
      "text/html": [
       "<div>\n",
       "<style scoped>\n",
       "    .dataframe tbody tr th:only-of-type {\n",
       "        vertical-align: middle;\n",
       "    }\n",
       "\n",
       "    .dataframe tbody tr th {\n",
       "        vertical-align: top;\n",
       "    }\n",
       "\n",
       "    .dataframe thead th {\n",
       "        text-align: right;\n",
       "    }\n",
       "</style>\n",
       "<table border=\"1\" class=\"dataframe\">\n",
       "  <thead>\n",
       "    <tr style=\"text-align: right;\">\n",
       "      <th></th>\n",
       "      <th>genres</th>\n",
       "      <th>app_name</th>\n",
       "      <th>specs</th>\n",
       "      <th>item_id</th>\n",
       "      <th>developer</th>\n",
       "      <th>released_year</th>\n",
       "      <th>recommend</th>\n",
       "      <th>posted_year</th>\n",
       "      <th>sentiment</th>\n",
       "    </tr>\n",
       "  </thead>\n",
       "  <tbody>\n",
       "    <tr>\n",
       "      <th>0</th>\n",
       "      <td>Action</td>\n",
       "      <td>Half-Life</td>\n",
       "      <td>['Single-player', 'Multi-player', 'Valve Anti-...</td>\n",
       "      <td>70</td>\n",
       "      <td>Valve</td>\n",
       "      <td>1998</td>\n",
       "      <td>True</td>\n",
       "      <td>2015</td>\n",
       "      <td>2</td>\n",
       "    </tr>\n",
       "    <tr>\n",
       "      <th>1</th>\n",
       "      <td>Action</td>\n",
       "      <td>Half-Life</td>\n",
       "      <td>['Single-player', 'Multi-player', 'Valve Anti-...</td>\n",
       "      <td>70</td>\n",
       "      <td>Valve</td>\n",
       "      <td>1998</td>\n",
       "      <td>True</td>\n",
       "      <td>2011</td>\n",
       "      <td>0</td>\n",
       "    </tr>\n",
       "    <tr>\n",
       "      <th>2</th>\n",
       "      <td>Action</td>\n",
       "      <td>Half-Life</td>\n",
       "      <td>['Single-player', 'Multi-player', 'Valve Anti-...</td>\n",
       "      <td>70</td>\n",
       "      <td>Valve</td>\n",
       "      <td>1998</td>\n",
       "      <td>True</td>\n",
       "      <td>2014</td>\n",
       "      <td>2</td>\n",
       "    </tr>\n",
       "    <tr>\n",
       "      <th>3</th>\n",
       "      <td>Action</td>\n",
       "      <td>Half-Life</td>\n",
       "      <td>['Single-player', 'Multi-player', 'Valve Anti-...</td>\n",
       "      <td>70</td>\n",
       "      <td>Valve</td>\n",
       "      <td>1998</td>\n",
       "      <td>True</td>\n",
       "      <td>2013</td>\n",
       "      <td>2</td>\n",
       "    </tr>\n",
       "    <tr>\n",
       "      <th>4</th>\n",
       "      <td>Action</td>\n",
       "      <td>Half-Life</td>\n",
       "      <td>['Single-player', 'Multi-player', 'Valve Anti-...</td>\n",
       "      <td>70</td>\n",
       "      <td>Valve</td>\n",
       "      <td>1998</td>\n",
       "      <td>True</td>\n",
       "      <td>2013</td>\n",
       "      <td>2</td>\n",
       "    </tr>\n",
       "  </tbody>\n",
       "</table>\n",
       "</div>"
      ],
      "text/plain": [
       "   genres   app_name                                              specs  \\\n",
       "0  Action  Half-Life  ['Single-player', 'Multi-player', 'Valve Anti-...   \n",
       "1  Action  Half-Life  ['Single-player', 'Multi-player', 'Valve Anti-...   \n",
       "2  Action  Half-Life  ['Single-player', 'Multi-player', 'Valve Anti-...   \n",
       "3  Action  Half-Life  ['Single-player', 'Multi-player', 'Valve Anti-...   \n",
       "4  Action  Half-Life  ['Single-player', 'Multi-player', 'Valve Anti-...   \n",
       "\n",
       "   item_id developer  released_year  recommend  posted_year  sentiment  \n",
       "0       70     Valve           1998       True         2015          2  \n",
       "1       70     Valve           1998       True         2011          0  \n",
       "2       70     Valve           1998       True         2014          2  \n",
       "3       70     Valve           1998       True         2013          2  \n",
       "4       70     Valve           1998       True         2013          2  "
      ]
     },
     "execution_count": 41,
     "metadata": {},
     "output_type": "execute_result"
    }
   ],
   "source": [
    "# ---> A Merge of the DataFrames: df_reviews, df_games, on the column 'item_id' is performed\n",
    "df_reviews_games5 = pd.merge(df_games, df_reviews, on='item_id', how='inner')\n",
    "df_reviews_games5.head()"
   ]
  },
  {
   "cell_type": "code",
   "execution_count": 42,
   "id": "844fafa0",
   "metadata": {},
   "outputs": [],
   "source": [
    "# ---> Group by ''developer' and 'sentiment' columns, and count occurrences\n",
    "df_reviews_games51 = df_reviews_games5.groupby(['developer', 'sentiment']).size().reset_index(name='count')"
   ]
  },
  {
   "cell_type": "code",
   "execution_count": 43,
   "id": "3d122b1e",
   "metadata": {},
   "outputs": [
    {
     "data": {
      "text/html": [
       "<div>\n",
       "<style scoped>\n",
       "    .dataframe tbody tr th:only-of-type {\n",
       "        vertical-align: middle;\n",
       "    }\n",
       "\n",
       "    .dataframe tbody tr th {\n",
       "        vertical-align: top;\n",
       "    }\n",
       "\n",
       "    .dataframe thead th {\n",
       "        text-align: right;\n",
       "    }\n",
       "</style>\n",
       "<table border=\"1\" class=\"dataframe\">\n",
       "  <thead>\n",
       "    <tr style=\"text-align: right;\">\n",
       "      <th></th>\n",
       "      <th>developer</th>\n",
       "      <th>sentiment</th>\n",
       "      <th>count</th>\n",
       "    </tr>\n",
       "  </thead>\n",
       "  <tbody>\n",
       "    <tr>\n",
       "      <th>0</th>\n",
       "      <td>07th Expansion</td>\n",
       "      <td>0</td>\n",
       "      <td>1</td>\n",
       "    </tr>\n",
       "    <tr>\n",
       "      <th>1</th>\n",
       "      <td>07th Expansion</td>\n",
       "      <td>1</td>\n",
       "      <td>1</td>\n",
       "    </tr>\n",
       "    <tr>\n",
       "      <th>2</th>\n",
       "      <td>10th Art Studio,Adventure Productions</td>\n",
       "      <td>0</td>\n",
       "      <td>2</td>\n",
       "    </tr>\n",
       "    <tr>\n",
       "      <th>3</th>\n",
       "      <td>10th Art Studio,Adventure Productions</td>\n",
       "      <td>2</td>\n",
       "      <td>2</td>\n",
       "    </tr>\n",
       "    <tr>\n",
       "      <th>4</th>\n",
       "      <td>11 bit studios</td>\n",
       "      <td>0</td>\n",
       "      <td>63</td>\n",
       "    </tr>\n",
       "  </tbody>\n",
       "</table>\n",
       "</div>"
      ],
      "text/plain": [
       "                               developer  sentiment  count\n",
       "0                         07th Expansion          0      1\n",
       "1                         07th Expansion          1      1\n",
       "2  10th Art Studio,Adventure Productions          0      2\n",
       "3  10th Art Studio,Adventure Productions          2      2\n",
       "4                         11 bit studios          0     63"
      ]
     },
     "execution_count": 43,
     "metadata": {},
     "output_type": "execute_result"
    }
   ],
   "source": [
    "df_reviews_games51.head()"
   ]
  },
  {
   "cell_type": "code",
   "execution_count": 44,
   "id": "be61a329",
   "metadata": {},
   "outputs": [],
   "source": [
    "# ---> Pivot the DataFrame to have sentiments (score) as columns\n",
    "df_reviews_games51 = df_reviews_games51.pivot(index='developer', columns='sentiment', values='count').reset_index()"
   ]
  },
  {
   "cell_type": "code",
   "execution_count": 45,
   "id": "7d880e39",
   "metadata": {},
   "outputs": [
    {
     "data": {
      "text/html": [
       "<div>\n",
       "<style scoped>\n",
       "    .dataframe tbody tr th:only-of-type {\n",
       "        vertical-align: middle;\n",
       "    }\n",
       "\n",
       "    .dataframe tbody tr th {\n",
       "        vertical-align: top;\n",
       "    }\n",
       "\n",
       "    .dataframe thead th {\n",
       "        text-align: right;\n",
       "    }\n",
       "</style>\n",
       "<table border=\"1\" class=\"dataframe\">\n",
       "  <thead>\n",
       "    <tr style=\"text-align: right;\">\n",
       "      <th>sentiment</th>\n",
       "      <th>developer</th>\n",
       "      <th>0</th>\n",
       "      <th>1</th>\n",
       "      <th>2</th>\n",
       "    </tr>\n",
       "  </thead>\n",
       "  <tbody>\n",
       "    <tr>\n",
       "      <th>0</th>\n",
       "      <td>07th Expansion</td>\n",
       "      <td>1.0</td>\n",
       "      <td>1.0</td>\n",
       "      <td>NaN</td>\n",
       "    </tr>\n",
       "    <tr>\n",
       "      <th>1</th>\n",
       "      <td>10th Art Studio,Adventure Productions</td>\n",
       "      <td>2.0</td>\n",
       "      <td>NaN</td>\n",
       "      <td>2.0</td>\n",
       "    </tr>\n",
       "    <tr>\n",
       "      <th>2</th>\n",
       "      <td>11 bit studios</td>\n",
       "      <td>63.0</td>\n",
       "      <td>15.0</td>\n",
       "      <td>60.0</td>\n",
       "    </tr>\n",
       "    <tr>\n",
       "      <th>3</th>\n",
       "      <td>14° East</td>\n",
       "      <td>1.0</td>\n",
       "      <td>NaN</td>\n",
       "      <td>1.0</td>\n",
       "    </tr>\n",
       "    <tr>\n",
       "      <th>4</th>\n",
       "      <td>17-BIT</td>\n",
       "      <td>NaN</td>\n",
       "      <td>NaN</td>\n",
       "      <td>4.0</td>\n",
       "    </tr>\n",
       "  </tbody>\n",
       "</table>\n",
       "</div>"
      ],
      "text/plain": [
       "sentiment                              developer     0     1     2\n",
       "0                                 07th Expansion   1.0   1.0   NaN\n",
       "1          10th Art Studio,Adventure Productions   2.0   NaN   2.0\n",
       "2                                 11 bit studios  63.0  15.0  60.0\n",
       "3                                       14° East   1.0   NaN   1.0\n",
       "4                                         17-BIT   NaN   NaN   4.0"
      ]
     },
     "execution_count": 45,
     "metadata": {},
     "output_type": "execute_result"
    }
   ],
   "source": [
    "df_reviews_games51.head()"
   ]
  },
  {
   "cell_type": "code",
   "execution_count": 46,
   "id": "da558ed4",
   "metadata": {},
   "outputs": [],
   "source": [
    "df_reviews_games51.columns = ['developer', 'Negative', 'Neutral', 'Positive']"
   ]
  },
  {
   "cell_type": "code",
   "execution_count": 47,
   "id": "4967dcf5",
   "metadata": {},
   "outputs": [
    {
     "name": "stdout",
     "output_type": "stream",
     "text": [
      "developer      0\n",
      "Negative     794\n",
      "Neutral      896\n",
      "Positive     208\n",
      "dtype: int64\n"
     ]
    }
   ],
   "source": [
    "print(df_reviews_games51.isna().sum())"
   ]
  },
  {
   "cell_type": "code",
   "execution_count": 48,
   "id": "1ba61f39",
   "metadata": {},
   "outputs": [],
   "source": [
    "# ---> Fill NaN with 0\n",
    "df_sentiment = df_reviews_games51.fillna(0)"
   ]
  },
  {
   "cell_type": "code",
   "execution_count": 49,
   "id": "b610d61b",
   "metadata": {},
   "outputs": [],
   "source": [
    "# ---> Conversion from Float to Integer\n",
    "df_sentiment[['Negative', 'Neutral', 'Positive']] = df_sentiment[['Negative', 'Neutral', 'Positive']].astype('int64')"
   ]
  },
  {
   "cell_type": "code",
   "execution_count": 50,
   "id": "2af2d390",
   "metadata": {},
   "outputs": [
    {
     "data": {
      "text/html": [
       "<div>\n",
       "<style scoped>\n",
       "    .dataframe tbody tr th:only-of-type {\n",
       "        vertical-align: middle;\n",
       "    }\n",
       "\n",
       "    .dataframe tbody tr th {\n",
       "        vertical-align: top;\n",
       "    }\n",
       "\n",
       "    .dataframe thead th {\n",
       "        text-align: right;\n",
       "    }\n",
       "</style>\n",
       "<table border=\"1\" class=\"dataframe\">\n",
       "  <thead>\n",
       "    <tr style=\"text-align: right;\">\n",
       "      <th></th>\n",
       "      <th>developer</th>\n",
       "      <th>Negative</th>\n",
       "      <th>Neutral</th>\n",
       "      <th>Positive</th>\n",
       "    </tr>\n",
       "  </thead>\n",
       "  <tbody>\n",
       "    <tr>\n",
       "      <th>0</th>\n",
       "      <td>07th Expansion</td>\n",
       "      <td>1</td>\n",
       "      <td>1</td>\n",
       "      <td>0</td>\n",
       "    </tr>\n",
       "    <tr>\n",
       "      <th>1</th>\n",
       "      <td>10th Art Studio,Adventure Productions</td>\n",
       "      <td>2</td>\n",
       "      <td>0</td>\n",
       "      <td>2</td>\n",
       "    </tr>\n",
       "    <tr>\n",
       "      <th>2</th>\n",
       "      <td>11 bit studios</td>\n",
       "      <td>63</td>\n",
       "      <td>15</td>\n",
       "      <td>60</td>\n",
       "    </tr>\n",
       "    <tr>\n",
       "      <th>3</th>\n",
       "      <td>14° East</td>\n",
       "      <td>1</td>\n",
       "      <td>0</td>\n",
       "      <td>1</td>\n",
       "    </tr>\n",
       "    <tr>\n",
       "      <th>4</th>\n",
       "      <td>17-BIT</td>\n",
       "      <td>0</td>\n",
       "      <td>0</td>\n",
       "      <td>4</td>\n",
       "    </tr>\n",
       "  </tbody>\n",
       "</table>\n",
       "</div>"
      ],
      "text/plain": [
       "                               developer  Negative  Neutral  Positive\n",
       "0                         07th Expansion         1        1         0\n",
       "1  10th Art Studio,Adventure Productions         2        0         2\n",
       "2                         11 bit studios        63       15        60\n",
       "3                               14° East         1        0         1\n",
       "4                                 17-BIT         0        0         4"
      ]
     },
     "execution_count": 50,
     "metadata": {},
     "output_type": "execute_result"
    }
   ],
   "source": [
    "df_sentiment.head()"
   ]
  },
  {
   "cell_type": "code",
   "execution_count": 51,
   "id": "c511ee07",
   "metadata": {},
   "outputs": [
    {
     "name": "stdout",
     "output_type": "stream",
     "text": [
      "<class 'pandas.core.frame.DataFrame'>\n",
      "RangeIndex: 1673 entries, 0 to 1672\n",
      "Data columns (total 4 columns):\n",
      " #   Column     Non-Null Count  Dtype \n",
      "---  ------     --------------  ----- \n",
      " 0   developer  1673 non-null   object\n",
      " 1   Negative   1673 non-null   int64 \n",
      " 2   Neutral    1673 non-null   int64 \n",
      " 3   Positive   1673 non-null   int64 \n",
      "dtypes: int64(3), object(1)\n",
      "memory usage: 52.4+ KB\n"
     ]
    }
   ],
   "source": [
    "df_sentiment.info()"
   ]
  },
  {
   "cell_type": "code",
   "execution_count": 52,
   "id": "effcc828",
   "metadata": {},
   "outputs": [],
   "source": [
    "# ---> Upload results to a CSV file\n",
    "df_sentiment.to_csv('./Datasets/api/sentiment_analysis.csv', index=False)"
   ]
  }
 ],
 "metadata": {
  "kernelspec": {
   "display_name": "Python 3 (ipykernel)",
   "language": "python",
   "name": "python3"
  },
  "language_info": {
   "codemirror_mode": {
    "name": "ipython",
    "version": 3
   },
   "file_extension": ".py",
   "mimetype": "text/x-python",
   "name": "python",
   "nbconvert_exporter": "python",
   "pygments_lexer": "ipython3",
   "version": "3.11.7"
  }
 },
 "nbformat": 4,
 "nbformat_minor": 5
}
