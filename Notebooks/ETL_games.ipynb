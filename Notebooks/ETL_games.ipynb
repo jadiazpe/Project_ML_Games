{
 "cells": [
  {
   "cell_type": "markdown",
   "metadata": {},
   "source": [
    "# ---- ETL FOR FILE OUTPUT_STEAM_GAMES ----"
   ]
  },
  {
   "cell_type": "code",
   "execution_count": 1,
   "metadata": {},
   "outputs": [],
   "source": [
    "import pandas as pd                                     # ---> Libraries to be used\n",
    "import ast\n",
    "import json                                             \n",
    "import warnings\n",
    "warnings.filterwarnings('ignore')\n",
    "\n",
    "path_games = './Datasets/output_steam_games.json'       # ---> Path to JSON file"
   ]
  },
  {
   "cell_type": "markdown",
   "metadata": {},
   "source": [
    "# I. EXTRACTION"
   ]
  },
  {
   "cell_type": "markdown",
   "metadata": {},
   "source": [
    "### 1.1  Conversion of the file 'output_steam_games.json' to a python-recognizable structure"
   ]
  },
  {
   "cell_type": "code",
   "execution_count": 2,
   "metadata": {},
   "outputs": [],
   "source": [
    "lst_games = []\n",
    "with open(path_games, 'r', encoding='utf-8') as f:      # ---> Opening the JSON file\n",
    "    for l in f.readlines():                             # ---> Reading and iteration of each line of the file\n",
    "        elemento = json.loads(l)                        # ---> Conversion of elements(strings) to JSON objects\n",
    "        lst_games.append(elemento)                      # ---> Load JSON objects to list: 'lst_games'"
   ]
  },
  {
   "cell_type": "code",
   "execution_count": 3,
   "metadata": {},
   "outputs": [
    {
     "data": {
      "text/html": [
       "<div>\n",
       "<style scoped>\n",
       "    .dataframe tbody tr th:only-of-type {\n",
       "        vertical-align: middle;\n",
       "    }\n",
       "\n",
       "    .dataframe tbody tr th {\n",
       "        vertical-align: top;\n",
       "    }\n",
       "\n",
       "    .dataframe thead th {\n",
       "        text-align: right;\n",
       "    }\n",
       "</style>\n",
       "<table border=\"1\" class=\"dataframe\">\n",
       "  <thead>\n",
       "    <tr style=\"text-align: right;\">\n",
       "      <th></th>\n",
       "      <th>publisher</th>\n",
       "      <th>genres</th>\n",
       "      <th>app_name</th>\n",
       "      <th>title</th>\n",
       "      <th>url</th>\n",
       "      <th>release_date</th>\n",
       "      <th>tags</th>\n",
       "      <th>reviews_url</th>\n",
       "      <th>specs</th>\n",
       "      <th>price</th>\n",
       "      <th>early_access</th>\n",
       "      <th>id</th>\n",
       "      <th>developer</th>\n",
       "    </tr>\n",
       "  </thead>\n",
       "  <tbody>\n",
       "    <tr>\n",
       "      <th>0</th>\n",
       "      <td>NaN</td>\n",
       "      <td>NaN</td>\n",
       "      <td>NaN</td>\n",
       "      <td>NaN</td>\n",
       "      <td>NaN</td>\n",
       "      <td>NaN</td>\n",
       "      <td>NaN</td>\n",
       "      <td>NaN</td>\n",
       "      <td>NaN</td>\n",
       "      <td>NaN</td>\n",
       "      <td>NaN</td>\n",
       "      <td>NaN</td>\n",
       "      <td>NaN</td>\n",
       "    </tr>\n",
       "    <tr>\n",
       "      <th>1</th>\n",
       "      <td>NaN</td>\n",
       "      <td>NaN</td>\n",
       "      <td>NaN</td>\n",
       "      <td>NaN</td>\n",
       "      <td>NaN</td>\n",
       "      <td>NaN</td>\n",
       "      <td>NaN</td>\n",
       "      <td>NaN</td>\n",
       "      <td>NaN</td>\n",
       "      <td>NaN</td>\n",
       "      <td>NaN</td>\n",
       "      <td>NaN</td>\n",
       "      <td>NaN</td>\n",
       "    </tr>\n",
       "    <tr>\n",
       "      <th>2</th>\n",
       "      <td>NaN</td>\n",
       "      <td>NaN</td>\n",
       "      <td>NaN</td>\n",
       "      <td>NaN</td>\n",
       "      <td>NaN</td>\n",
       "      <td>NaN</td>\n",
       "      <td>NaN</td>\n",
       "      <td>NaN</td>\n",
       "      <td>NaN</td>\n",
       "      <td>NaN</td>\n",
       "      <td>NaN</td>\n",
       "      <td>NaN</td>\n",
       "      <td>NaN</td>\n",
       "    </tr>\n",
       "    <tr>\n",
       "      <th>3</th>\n",
       "      <td>NaN</td>\n",
       "      <td>NaN</td>\n",
       "      <td>NaN</td>\n",
       "      <td>NaN</td>\n",
       "      <td>NaN</td>\n",
       "      <td>NaN</td>\n",
       "      <td>NaN</td>\n",
       "      <td>NaN</td>\n",
       "      <td>NaN</td>\n",
       "      <td>NaN</td>\n",
       "      <td>NaN</td>\n",
       "      <td>NaN</td>\n",
       "      <td>NaN</td>\n",
       "    </tr>\n",
       "    <tr>\n",
       "      <th>4</th>\n",
       "      <td>NaN</td>\n",
       "      <td>NaN</td>\n",
       "      <td>NaN</td>\n",
       "      <td>NaN</td>\n",
       "      <td>NaN</td>\n",
       "      <td>NaN</td>\n",
       "      <td>NaN</td>\n",
       "      <td>NaN</td>\n",
       "      <td>NaN</td>\n",
       "      <td>NaN</td>\n",
       "      <td>NaN</td>\n",
       "      <td>NaN</td>\n",
       "      <td>NaN</td>\n",
       "    </tr>\n",
       "  </tbody>\n",
       "</table>\n",
       "</div>"
      ],
      "text/plain": [
       "  publisher genres app_name title  url release_date tags reviews_url specs  \\\n",
       "0       NaN    NaN      NaN   NaN  NaN          NaN  NaN         NaN   NaN   \n",
       "1       NaN    NaN      NaN   NaN  NaN          NaN  NaN         NaN   NaN   \n",
       "2       NaN    NaN      NaN   NaN  NaN          NaN  NaN         NaN   NaN   \n",
       "3       NaN    NaN      NaN   NaN  NaN          NaN  NaN         NaN   NaN   \n",
       "4       NaN    NaN      NaN   NaN  NaN          NaN  NaN         NaN   NaN   \n",
       "\n",
       "  price early_access   id developer  \n",
       "0   NaN          NaN  NaN       NaN  \n",
       "1   NaN          NaN  NaN       NaN  \n",
       "2   NaN          NaN  NaN       NaN  \n",
       "3   NaN          NaN  NaN       NaN  \n",
       "4   NaN          NaN  NaN       NaN  "
      ]
     },
     "execution_count": 3,
     "metadata": {},
     "output_type": "execute_result"
    }
   ],
   "source": [
    "df_games = pd.DataFrame(lst_games)                      # ---> Creation of DataFrame 'df_games'\n",
    "pd.set_option('display.max_colwidth', None)             # ---> Option to allow maximun content visualization\n",
    "df_games.head()"
   ]
  },
  {
   "cell_type": "markdown",
   "metadata": {},
   "source": [
    "### 1.2  DataFrame overview"
   ]
  },
  {
   "cell_type": "code",
   "execution_count": 4,
   "metadata": {},
   "outputs": [
    {
     "data": {
      "text/plain": [
       "(120445, 13)"
      ]
     },
     "execution_count": 4,
     "metadata": {},
     "output_type": "execute_result"
    }
   ],
   "source": [
    "df_games.shape"
   ]
  },
  {
   "cell_type": "code",
   "execution_count": 5,
   "metadata": {},
   "outputs": [
    {
     "name": "stdout",
     "output_type": "stream",
     "text": [
      "<class 'pandas.core.frame.DataFrame'>\n",
      "RangeIndex: 120445 entries, 0 to 120444\n",
      "Data columns (total 13 columns):\n",
      " #   Column        Non-Null Count  Dtype \n",
      "---  ------        --------------  ----- \n",
      " 0   publisher     24083 non-null  object\n",
      " 1   genres        28852 non-null  object\n",
      " 2   app_name      32133 non-null  object\n",
      " 3   title         30085 non-null  object\n",
      " 4   url           32135 non-null  object\n",
      " 5   release_date  30068 non-null  object\n",
      " 6   tags          31972 non-null  object\n",
      " 7   reviews_url   32133 non-null  object\n",
      " 8   specs         31465 non-null  object\n",
      " 9   price         30758 non-null  object\n",
      " 10  early_access  32135 non-null  object\n",
      " 11  id            32133 non-null  object\n",
      " 12  developer     28836 non-null  object\n",
      "dtypes: object(13)\n",
      "memory usage: 11.9+ MB\n"
     ]
    }
   ],
   "source": [
    "df_games.info()"
   ]
  },
  {
   "cell_type": "markdown",
   "metadata": {},
   "source": [
    "# II. TRANSFORMATION"
   ]
  },
  {
   "cell_type": "markdown",
   "metadata": {},
   "source": [
    "### 2.1 Clean-up actions"
   ]
  },
  {
   "cell_type": "code",
   "execution_count": 6,
   "metadata": {},
   "outputs": [
    {
     "data": {
      "text/plain": [
       "(32135, 13)"
      ]
     },
     "execution_count": 6,
     "metadata": {},
     "output_type": "execute_result"
    }
   ],
   "source": [
    "df_games = df_games.dropna(how='all')                   # ---> Removal of complete rows without information (first round)\n",
    "df_games.shape"
   ]
  },
  {
   "cell_type": "code",
   "execution_count": 7,
   "metadata": {},
   "outputs": [
    {
     "name": "stdout",
     "output_type": "stream",
     "text": [
      "<class 'pandas.core.frame.DataFrame'>\n",
      "Index: 32135 entries, 88310 to 120444\n",
      "Data columns (total 7 columns):\n",
      " #   Column        Non-Null Count  Dtype \n",
      "---  ------        --------------  ----- \n",
      " 0   genres        28852 non-null  object\n",
      " 1   app_name      32133 non-null  object\n",
      " 2   release_date  30068 non-null  object\n",
      " 3   reviews_url   32133 non-null  object\n",
      " 4   specs         31465 non-null  object\n",
      " 5   id            32133 non-null  object\n",
      " 6   developer     28836 non-null  object\n",
      "dtypes: object(7)\n",
      "memory usage: 2.0+ MB\n"
     ]
    }
   ],
   "source": [
    "df_games1 = df_games.drop(['publisher', 'title', 'url', 'tags', 'price', 'early_access'], axis=1) # ---> Removal of complete columns without relevant information (first round)\n",
    "df_games1.info()"
   ]
  },
  {
   "cell_type": "code",
   "execution_count": 8,
   "metadata": {},
   "outputs": [
    {
     "data": {
      "text/html": [
       "<div>\n",
       "<style scoped>\n",
       "    .dataframe tbody tr th:only-of-type {\n",
       "        vertical-align: middle;\n",
       "    }\n",
       "\n",
       "    .dataframe tbody tr th {\n",
       "        vertical-align: top;\n",
       "    }\n",
       "\n",
       "    .dataframe thead th {\n",
       "        text-align: right;\n",
       "    }\n",
       "</style>\n",
       "<table border=\"1\" class=\"dataframe\">\n",
       "  <thead>\n",
       "    <tr style=\"text-align: right;\">\n",
       "      <th></th>\n",
       "      <th>genres</th>\n",
       "      <th>app_name</th>\n",
       "      <th>release_date</th>\n",
       "      <th>reviews_url</th>\n",
       "      <th>specs</th>\n",
       "      <th>id</th>\n",
       "      <th>developer</th>\n",
       "    </tr>\n",
       "  </thead>\n",
       "  <tbody>\n",
       "    <tr>\n",
       "      <th>88310</th>\n",
       "      <td>[Action, Casual, Indie, Simulation, Strategy]</td>\n",
       "      <td>Lost Summoner Kitty</td>\n",
       "      <td>2018-01-04</td>\n",
       "      <td>http://steamcommunity.com/app/761140/reviews/?browsefilter=mostrecent&amp;p=1</td>\n",
       "      <td>[Single-player]</td>\n",
       "      <td>761140</td>\n",
       "      <td>Kotoshiro</td>\n",
       "    </tr>\n",
       "    <tr>\n",
       "      <th>88311</th>\n",
       "      <td>[Free to Play, Indie, RPG, Strategy]</td>\n",
       "      <td>Ironbound</td>\n",
       "      <td>2018-01-04</td>\n",
       "      <td>http://steamcommunity.com/app/643980/reviews/?browsefilter=mostrecent&amp;p=1</td>\n",
       "      <td>[Single-player, Multi-player, Online Multi-Player, Cross-Platform Multiplayer, Steam Achievements, Steam Trading Cards, In-App Purchases]</td>\n",
       "      <td>643980</td>\n",
       "      <td>Secret Level SRL</td>\n",
       "    </tr>\n",
       "    <tr>\n",
       "      <th>88312</th>\n",
       "      <td>[Casual, Free to Play, Indie, Simulation, Sports]</td>\n",
       "      <td>Real Pool 3D - Poolians</td>\n",
       "      <td>2017-07-24</td>\n",
       "      <td>http://steamcommunity.com/app/670290/reviews/?browsefilter=mostrecent&amp;p=1</td>\n",
       "      <td>[Single-player, Multi-player, Online Multi-Player, In-App Purchases, Stats]</td>\n",
       "      <td>670290</td>\n",
       "      <td>Poolians.com</td>\n",
       "    </tr>\n",
       "    <tr>\n",
       "      <th>88313</th>\n",
       "      <td>[Action, Adventure, Casual]</td>\n",
       "      <td>弹炸人2222</td>\n",
       "      <td>2017-12-07</td>\n",
       "      <td>http://steamcommunity.com/app/767400/reviews/?browsefilter=mostrecent&amp;p=1</td>\n",
       "      <td>[Single-player]</td>\n",
       "      <td>767400</td>\n",
       "      <td>彼岸领域</td>\n",
       "    </tr>\n",
       "    <tr>\n",
       "      <th>88314</th>\n",
       "      <td>NaN</td>\n",
       "      <td>Log Challenge</td>\n",
       "      <td>NaN</td>\n",
       "      <td>http://steamcommunity.com/app/773570/reviews/?browsefilter=mostrecent&amp;p=1</td>\n",
       "      <td>[Single-player, Full controller support, HTC Vive, Oculus Rift, Tracked Motion Controllers, Room-Scale]</td>\n",
       "      <td>773570</td>\n",
       "      <td>NaN</td>\n",
       "    </tr>\n",
       "  </tbody>\n",
       "</table>\n",
       "</div>"
      ],
      "text/plain": [
       "                                                  genres  \\\n",
       "88310      [Action, Casual, Indie, Simulation, Strategy]   \n",
       "88311               [Free to Play, Indie, RPG, Strategy]   \n",
       "88312  [Casual, Free to Play, Indie, Simulation, Sports]   \n",
       "88313                        [Action, Adventure, Casual]   \n",
       "88314                                                NaN   \n",
       "\n",
       "                      app_name release_date  \\\n",
       "88310      Lost Summoner Kitty   2018-01-04   \n",
       "88311                Ironbound   2018-01-04   \n",
       "88312  Real Pool 3D - Poolians   2017-07-24   \n",
       "88313                  弹炸人2222   2017-12-07   \n",
       "88314            Log Challenge          NaN   \n",
       "\n",
       "                                                                     reviews_url  \\\n",
       "88310  http://steamcommunity.com/app/761140/reviews/?browsefilter=mostrecent&p=1   \n",
       "88311  http://steamcommunity.com/app/643980/reviews/?browsefilter=mostrecent&p=1   \n",
       "88312  http://steamcommunity.com/app/670290/reviews/?browsefilter=mostrecent&p=1   \n",
       "88313  http://steamcommunity.com/app/767400/reviews/?browsefilter=mostrecent&p=1   \n",
       "88314  http://steamcommunity.com/app/773570/reviews/?browsefilter=mostrecent&p=1   \n",
       "\n",
       "                                                                                                                                           specs  \\\n",
       "88310                                                                                                                            [Single-player]   \n",
       "88311  [Single-player, Multi-player, Online Multi-Player, Cross-Platform Multiplayer, Steam Achievements, Steam Trading Cards, In-App Purchases]   \n",
       "88312                                                                [Single-player, Multi-player, Online Multi-Player, In-App Purchases, Stats]   \n",
       "88313                                                                                                                            [Single-player]   \n",
       "88314                                    [Single-player, Full controller support, HTC Vive, Oculus Rift, Tracked Motion Controllers, Room-Scale]   \n",
       "\n",
       "           id         developer  \n",
       "88310  761140         Kotoshiro  \n",
       "88311  643980  Secret Level SRL  \n",
       "88312  670290      Poolians.com  \n",
       "88313  767400              彼岸领域  \n",
       "88314  773570               NaN  "
      ]
     },
     "execution_count": 8,
     "metadata": {},
     "output_type": "execute_result"
    }
   ],
   "source": [
    "df_games1.head()"
   ]
  },
  {
   "cell_type": "code",
   "execution_count": 9,
   "metadata": {},
   "outputs": [
    {
     "data": {
      "text/html": [
       "<div>\n",
       "<style scoped>\n",
       "    .dataframe tbody tr th:only-of-type {\n",
       "        vertical-align: middle;\n",
       "    }\n",
       "\n",
       "    .dataframe tbody tr th {\n",
       "        vertical-align: top;\n",
       "    }\n",
       "\n",
       "    .dataframe thead th {\n",
       "        text-align: right;\n",
       "    }\n",
       "</style>\n",
       "<table border=\"1\" class=\"dataframe\">\n",
       "  <thead>\n",
       "    <tr style=\"text-align: right;\">\n",
       "      <th></th>\n",
       "      <th>app_name</th>\n",
       "      <th>specs</th>\n",
       "      <th>id</th>\n",
       "    </tr>\n",
       "  </thead>\n",
       "  <tbody>\n",
       "    <tr>\n",
       "      <th>88310</th>\n",
       "      <td>Lost Summoner Kitty</td>\n",
       "      <td>[Single-player]</td>\n",
       "      <td>761140</td>\n",
       "    </tr>\n",
       "    <tr>\n",
       "      <th>88311</th>\n",
       "      <td>Ironbound</td>\n",
       "      <td>[Single-player, Multi-player, Online Multi-Player, Cross-Platform Multiplayer, Steam Achievements, Steam Trading Cards, In-App Purchases]</td>\n",
       "      <td>643980</td>\n",
       "    </tr>\n",
       "    <tr>\n",
       "      <th>88312</th>\n",
       "      <td>Real Pool 3D - Poolians</td>\n",
       "      <td>[Single-player, Multi-player, Online Multi-Player, In-App Purchases, Stats]</td>\n",
       "      <td>670290</td>\n",
       "    </tr>\n",
       "    <tr>\n",
       "      <th>88313</th>\n",
       "      <td>弹炸人2222</td>\n",
       "      <td>[Single-player]</td>\n",
       "      <td>767400</td>\n",
       "    </tr>\n",
       "    <tr>\n",
       "      <th>88314</th>\n",
       "      <td>Log Challenge</td>\n",
       "      <td>[Single-player, Full controller support, HTC Vive, Oculus Rift, Tracked Motion Controllers, Room-Scale]</td>\n",
       "      <td>773570</td>\n",
       "    </tr>\n",
       "  </tbody>\n",
       "</table>\n",
       "</div>"
      ],
      "text/plain": [
       "                      app_name  \\\n",
       "88310      Lost Summoner Kitty   \n",
       "88311                Ironbound   \n",
       "88312  Real Pool 3D - Poolians   \n",
       "88313                  弹炸人2222   \n",
       "88314            Log Challenge   \n",
       "\n",
       "                                                                                                                                           specs  \\\n",
       "88310                                                                                                                            [Single-player]   \n",
       "88311  [Single-player, Multi-player, Online Multi-Player, Cross-Platform Multiplayer, Steam Achievements, Steam Trading Cards, In-App Purchases]   \n",
       "88312                                                                [Single-player, Multi-player, Online Multi-Player, In-App Purchases, Stats]   \n",
       "88313                                                                                                                            [Single-player]   \n",
       "88314                                    [Single-player, Full controller support, HTC Vive, Oculus Rift, Tracked Motion Controllers, Room-Scale]   \n",
       "\n",
       "           id  \n",
       "88310  761140  \n",
       "88311  643980  \n",
       "88312  670290  \n",
       "88313  767400  \n",
       "88314  773570  "
      ]
     },
     "execution_count": 9,
     "metadata": {},
     "output_type": "execute_result"
    }
   ],
   "source": [
    "df_games_raw = df_games1.drop(columns=['genres', 'release_date', 'reviews_url', 'developer'])   # ---> Creation of the DataFrame 'df_games_raw' to develop the recommendation model (item-item) \n",
    "df_games_raw.head()"
   ]
  },
  {
   "cell_type": "code",
   "execution_count": 10,
   "metadata": {},
   "outputs": [
    {
     "name": "stdout",
     "output_type": "stream",
     "text": [
      "<class 'pandas.core.frame.DataFrame'>\n",
      "Index: 32135 entries, 88310 to 120444\n",
      "Data columns (total 3 columns):\n",
      " #   Column    Non-Null Count  Dtype \n",
      "---  ------    --------------  ----- \n",
      " 0   app_name  32133 non-null  object\n",
      " 1   specs     31465 non-null  object\n",
      " 2   id        32133 non-null  object\n",
      "dtypes: object(3)\n",
      "memory usage: 1004.2+ KB\n"
     ]
    }
   ],
   "source": [
    "df_games_raw.info()"
   ]
  },
  {
   "cell_type": "markdown",
   "metadata": {},
   "source": [
    "### 2.2  Process for unnesting column 'genres' from python DataFrame 'df_games1'"
   ]
  },
  {
   "cell_type": "code",
   "execution_count": 11,
   "metadata": {},
   "outputs": [],
   "source": [
    "df_games2 = df_games1.explode('genres')                 # ---> Unnesting column 'genres' from 'df_games1'"
   ]
  },
  {
   "cell_type": "code",
   "execution_count": 12,
   "metadata": {},
   "outputs": [
    {
     "data": {
      "text/html": [
       "<div>\n",
       "<style scoped>\n",
       "    .dataframe tbody tr th:only-of-type {\n",
       "        vertical-align: middle;\n",
       "    }\n",
       "\n",
       "    .dataframe tbody tr th {\n",
       "        vertical-align: top;\n",
       "    }\n",
       "\n",
       "    .dataframe thead th {\n",
       "        text-align: right;\n",
       "    }\n",
       "</style>\n",
       "<table border=\"1\" class=\"dataframe\">\n",
       "  <thead>\n",
       "    <tr style=\"text-align: right;\">\n",
       "      <th></th>\n",
       "      <th>genres</th>\n",
       "      <th>app_name</th>\n",
       "      <th>release_date</th>\n",
       "      <th>reviews_url</th>\n",
       "      <th>specs</th>\n",
       "      <th>id</th>\n",
       "      <th>developer</th>\n",
       "    </tr>\n",
       "  </thead>\n",
       "  <tbody>\n",
       "    <tr>\n",
       "      <th>88310</th>\n",
       "      <td>Action</td>\n",
       "      <td>Lost Summoner Kitty</td>\n",
       "      <td>2018-01-04</td>\n",
       "      <td>http://steamcommunity.com/app/761140/reviews/?browsefilter=mostrecent&amp;p=1</td>\n",
       "      <td>[Single-player]</td>\n",
       "      <td>761140</td>\n",
       "      <td>Kotoshiro</td>\n",
       "    </tr>\n",
       "    <tr>\n",
       "      <th>88310</th>\n",
       "      <td>Casual</td>\n",
       "      <td>Lost Summoner Kitty</td>\n",
       "      <td>2018-01-04</td>\n",
       "      <td>http://steamcommunity.com/app/761140/reviews/?browsefilter=mostrecent&amp;p=1</td>\n",
       "      <td>[Single-player]</td>\n",
       "      <td>761140</td>\n",
       "      <td>Kotoshiro</td>\n",
       "    </tr>\n",
       "    <tr>\n",
       "      <th>88310</th>\n",
       "      <td>Indie</td>\n",
       "      <td>Lost Summoner Kitty</td>\n",
       "      <td>2018-01-04</td>\n",
       "      <td>http://steamcommunity.com/app/761140/reviews/?browsefilter=mostrecent&amp;p=1</td>\n",
       "      <td>[Single-player]</td>\n",
       "      <td>761140</td>\n",
       "      <td>Kotoshiro</td>\n",
       "    </tr>\n",
       "    <tr>\n",
       "      <th>88310</th>\n",
       "      <td>Simulation</td>\n",
       "      <td>Lost Summoner Kitty</td>\n",
       "      <td>2018-01-04</td>\n",
       "      <td>http://steamcommunity.com/app/761140/reviews/?browsefilter=mostrecent&amp;p=1</td>\n",
       "      <td>[Single-player]</td>\n",
       "      <td>761140</td>\n",
       "      <td>Kotoshiro</td>\n",
       "    </tr>\n",
       "    <tr>\n",
       "      <th>88310</th>\n",
       "      <td>Strategy</td>\n",
       "      <td>Lost Summoner Kitty</td>\n",
       "      <td>2018-01-04</td>\n",
       "      <td>http://steamcommunity.com/app/761140/reviews/?browsefilter=mostrecent&amp;p=1</td>\n",
       "      <td>[Single-player]</td>\n",
       "      <td>761140</td>\n",
       "      <td>Kotoshiro</td>\n",
       "    </tr>\n",
       "  </tbody>\n",
       "</table>\n",
       "</div>"
      ],
      "text/plain": [
       "           genres             app_name release_date  \\\n",
       "88310      Action  Lost Summoner Kitty   2018-01-04   \n",
       "88310      Casual  Lost Summoner Kitty   2018-01-04   \n",
       "88310       Indie  Lost Summoner Kitty   2018-01-04   \n",
       "88310  Simulation  Lost Summoner Kitty   2018-01-04   \n",
       "88310    Strategy  Lost Summoner Kitty   2018-01-04   \n",
       "\n",
       "                                                                     reviews_url  \\\n",
       "88310  http://steamcommunity.com/app/761140/reviews/?browsefilter=mostrecent&p=1   \n",
       "88310  http://steamcommunity.com/app/761140/reviews/?browsefilter=mostrecent&p=1   \n",
       "88310  http://steamcommunity.com/app/761140/reviews/?browsefilter=mostrecent&p=1   \n",
       "88310  http://steamcommunity.com/app/761140/reviews/?browsefilter=mostrecent&p=1   \n",
       "88310  http://steamcommunity.com/app/761140/reviews/?browsefilter=mostrecent&p=1   \n",
       "\n",
       "                 specs      id  developer  \n",
       "88310  [Single-player]  761140  Kotoshiro  \n",
       "88310  [Single-player]  761140  Kotoshiro  \n",
       "88310  [Single-player]  761140  Kotoshiro  \n",
       "88310  [Single-player]  761140  Kotoshiro  \n",
       "88310  [Single-player]  761140  Kotoshiro  "
      ]
     },
     "execution_count": 12,
     "metadata": {},
     "output_type": "execute_result"
    }
   ],
   "source": [
    "df_games2.head()"
   ]
  },
  {
   "cell_type": "code",
   "execution_count": 13,
   "metadata": {},
   "outputs": [
    {
     "data": {
      "text/plain": [
       "(74837, 7)"
      ]
     },
     "execution_count": 13,
     "metadata": {},
     "output_type": "execute_result"
    }
   ],
   "source": [
    "df_games2.shape"
   ]
  },
  {
   "cell_type": "markdown",
   "metadata": {},
   "source": [
    "### 2.3  Formatting and type handling for data"
   ]
  },
  {
   "cell_type": "code",
   "execution_count": 14,
   "metadata": {},
   "outputs": [],
   "source": [
    "df_games2 = df_games2.dropna(how='all')                                         # ---> Removal of complete rows without information (second round)"
   ]
  },
  {
   "cell_type": "code",
   "execution_count": 15,
   "metadata": {},
   "outputs": [],
   "source": [
    "df_games2['released_year'] = df_games2['release_date'].str.extract(r'(\\d{4})')  # ---> Creation of 'released_year' column from 'release_date' column"
   ]
  },
  {
   "cell_type": "code",
   "execution_count": 16,
   "metadata": {},
   "outputs": [
    {
     "data": {
      "text/html": [
       "<div>\n",
       "<style scoped>\n",
       "    .dataframe tbody tr th:only-of-type {\n",
       "        vertical-align: middle;\n",
       "    }\n",
       "\n",
       "    .dataframe tbody tr th {\n",
       "        vertical-align: top;\n",
       "    }\n",
       "\n",
       "    .dataframe thead th {\n",
       "        text-align: right;\n",
       "    }\n",
       "</style>\n",
       "<table border=\"1\" class=\"dataframe\">\n",
       "  <thead>\n",
       "    <tr style=\"text-align: right;\">\n",
       "      <th></th>\n",
       "      <th>genres</th>\n",
       "      <th>app_name</th>\n",
       "      <th>release_date</th>\n",
       "      <th>reviews_url</th>\n",
       "      <th>specs</th>\n",
       "      <th>id</th>\n",
       "      <th>developer</th>\n",
       "      <th>released_year</th>\n",
       "    </tr>\n",
       "  </thead>\n",
       "  <tbody>\n",
       "    <tr>\n",
       "      <th>88310</th>\n",
       "      <td>Action</td>\n",
       "      <td>Lost Summoner Kitty</td>\n",
       "      <td>2018-01-04</td>\n",
       "      <td>http://steamcommunity.com/app/761140/reviews/?browsefilter=mostrecent&amp;p=1</td>\n",
       "      <td>[Single-player]</td>\n",
       "      <td>761140</td>\n",
       "      <td>Kotoshiro</td>\n",
       "      <td>2018</td>\n",
       "    </tr>\n",
       "    <tr>\n",
       "      <th>88310</th>\n",
       "      <td>Casual</td>\n",
       "      <td>Lost Summoner Kitty</td>\n",
       "      <td>2018-01-04</td>\n",
       "      <td>http://steamcommunity.com/app/761140/reviews/?browsefilter=mostrecent&amp;p=1</td>\n",
       "      <td>[Single-player]</td>\n",
       "      <td>761140</td>\n",
       "      <td>Kotoshiro</td>\n",
       "      <td>2018</td>\n",
       "    </tr>\n",
       "    <tr>\n",
       "      <th>88310</th>\n",
       "      <td>Indie</td>\n",
       "      <td>Lost Summoner Kitty</td>\n",
       "      <td>2018-01-04</td>\n",
       "      <td>http://steamcommunity.com/app/761140/reviews/?browsefilter=mostrecent&amp;p=1</td>\n",
       "      <td>[Single-player]</td>\n",
       "      <td>761140</td>\n",
       "      <td>Kotoshiro</td>\n",
       "      <td>2018</td>\n",
       "    </tr>\n",
       "    <tr>\n",
       "      <th>88310</th>\n",
       "      <td>Simulation</td>\n",
       "      <td>Lost Summoner Kitty</td>\n",
       "      <td>2018-01-04</td>\n",
       "      <td>http://steamcommunity.com/app/761140/reviews/?browsefilter=mostrecent&amp;p=1</td>\n",
       "      <td>[Single-player]</td>\n",
       "      <td>761140</td>\n",
       "      <td>Kotoshiro</td>\n",
       "      <td>2018</td>\n",
       "    </tr>\n",
       "    <tr>\n",
       "      <th>88310</th>\n",
       "      <td>Strategy</td>\n",
       "      <td>Lost Summoner Kitty</td>\n",
       "      <td>2018-01-04</td>\n",
       "      <td>http://steamcommunity.com/app/761140/reviews/?browsefilter=mostrecent&amp;p=1</td>\n",
       "      <td>[Single-player]</td>\n",
       "      <td>761140</td>\n",
       "      <td>Kotoshiro</td>\n",
       "      <td>2018</td>\n",
       "    </tr>\n",
       "    <tr>\n",
       "      <th>88311</th>\n",
       "      <td>Free to Play</td>\n",
       "      <td>Ironbound</td>\n",
       "      <td>2018-01-04</td>\n",
       "      <td>http://steamcommunity.com/app/643980/reviews/?browsefilter=mostrecent&amp;p=1</td>\n",
       "      <td>[Single-player, Multi-player, Online Multi-Player, Cross-Platform Multiplayer, Steam Achievements, Steam Trading Cards, In-App Purchases]</td>\n",
       "      <td>643980</td>\n",
       "      <td>Secret Level SRL</td>\n",
       "      <td>2018</td>\n",
       "    </tr>\n",
       "    <tr>\n",
       "      <th>88311</th>\n",
       "      <td>Indie</td>\n",
       "      <td>Ironbound</td>\n",
       "      <td>2018-01-04</td>\n",
       "      <td>http://steamcommunity.com/app/643980/reviews/?browsefilter=mostrecent&amp;p=1</td>\n",
       "      <td>[Single-player, Multi-player, Online Multi-Player, Cross-Platform Multiplayer, Steam Achievements, Steam Trading Cards, In-App Purchases]</td>\n",
       "      <td>643980</td>\n",
       "      <td>Secret Level SRL</td>\n",
       "      <td>2018</td>\n",
       "    </tr>\n",
       "    <tr>\n",
       "      <th>88311</th>\n",
       "      <td>RPG</td>\n",
       "      <td>Ironbound</td>\n",
       "      <td>2018-01-04</td>\n",
       "      <td>http://steamcommunity.com/app/643980/reviews/?browsefilter=mostrecent&amp;p=1</td>\n",
       "      <td>[Single-player, Multi-player, Online Multi-Player, Cross-Platform Multiplayer, Steam Achievements, Steam Trading Cards, In-App Purchases]</td>\n",
       "      <td>643980</td>\n",
       "      <td>Secret Level SRL</td>\n",
       "      <td>2018</td>\n",
       "    </tr>\n",
       "    <tr>\n",
       "      <th>88311</th>\n",
       "      <td>Strategy</td>\n",
       "      <td>Ironbound</td>\n",
       "      <td>2018-01-04</td>\n",
       "      <td>http://steamcommunity.com/app/643980/reviews/?browsefilter=mostrecent&amp;p=1</td>\n",
       "      <td>[Single-player, Multi-player, Online Multi-Player, Cross-Platform Multiplayer, Steam Achievements, Steam Trading Cards, In-App Purchases]</td>\n",
       "      <td>643980</td>\n",
       "      <td>Secret Level SRL</td>\n",
       "      <td>2018</td>\n",
       "    </tr>\n",
       "    <tr>\n",
       "      <th>88312</th>\n",
       "      <td>Casual</td>\n",
       "      <td>Real Pool 3D - Poolians</td>\n",
       "      <td>2017-07-24</td>\n",
       "      <td>http://steamcommunity.com/app/670290/reviews/?browsefilter=mostrecent&amp;p=1</td>\n",
       "      <td>[Single-player, Multi-player, Online Multi-Player, In-App Purchases, Stats]</td>\n",
       "      <td>670290</td>\n",
       "      <td>Poolians.com</td>\n",
       "      <td>2017</td>\n",
       "    </tr>\n",
       "  </tbody>\n",
       "</table>\n",
       "</div>"
      ],
      "text/plain": [
       "             genres                 app_name release_date  \\\n",
       "88310        Action      Lost Summoner Kitty   2018-01-04   \n",
       "88310        Casual      Lost Summoner Kitty   2018-01-04   \n",
       "88310         Indie      Lost Summoner Kitty   2018-01-04   \n",
       "88310    Simulation      Lost Summoner Kitty   2018-01-04   \n",
       "88310      Strategy      Lost Summoner Kitty   2018-01-04   \n",
       "88311  Free to Play                Ironbound   2018-01-04   \n",
       "88311         Indie                Ironbound   2018-01-04   \n",
       "88311           RPG                Ironbound   2018-01-04   \n",
       "88311      Strategy                Ironbound   2018-01-04   \n",
       "88312        Casual  Real Pool 3D - Poolians   2017-07-24   \n",
       "\n",
       "                                                                     reviews_url  \\\n",
       "88310  http://steamcommunity.com/app/761140/reviews/?browsefilter=mostrecent&p=1   \n",
       "88310  http://steamcommunity.com/app/761140/reviews/?browsefilter=mostrecent&p=1   \n",
       "88310  http://steamcommunity.com/app/761140/reviews/?browsefilter=mostrecent&p=1   \n",
       "88310  http://steamcommunity.com/app/761140/reviews/?browsefilter=mostrecent&p=1   \n",
       "88310  http://steamcommunity.com/app/761140/reviews/?browsefilter=mostrecent&p=1   \n",
       "88311  http://steamcommunity.com/app/643980/reviews/?browsefilter=mostrecent&p=1   \n",
       "88311  http://steamcommunity.com/app/643980/reviews/?browsefilter=mostrecent&p=1   \n",
       "88311  http://steamcommunity.com/app/643980/reviews/?browsefilter=mostrecent&p=1   \n",
       "88311  http://steamcommunity.com/app/643980/reviews/?browsefilter=mostrecent&p=1   \n",
       "88312  http://steamcommunity.com/app/670290/reviews/?browsefilter=mostrecent&p=1   \n",
       "\n",
       "                                                                                                                                           specs  \\\n",
       "88310                                                                                                                            [Single-player]   \n",
       "88310                                                                                                                            [Single-player]   \n",
       "88310                                                                                                                            [Single-player]   \n",
       "88310                                                                                                                            [Single-player]   \n",
       "88310                                                                                                                            [Single-player]   \n",
       "88311  [Single-player, Multi-player, Online Multi-Player, Cross-Platform Multiplayer, Steam Achievements, Steam Trading Cards, In-App Purchases]   \n",
       "88311  [Single-player, Multi-player, Online Multi-Player, Cross-Platform Multiplayer, Steam Achievements, Steam Trading Cards, In-App Purchases]   \n",
       "88311  [Single-player, Multi-player, Online Multi-Player, Cross-Platform Multiplayer, Steam Achievements, Steam Trading Cards, In-App Purchases]   \n",
       "88311  [Single-player, Multi-player, Online Multi-Player, Cross-Platform Multiplayer, Steam Achievements, Steam Trading Cards, In-App Purchases]   \n",
       "88312                                                                [Single-player, Multi-player, Online Multi-Player, In-App Purchases, Stats]   \n",
       "\n",
       "           id         developer released_year  \n",
       "88310  761140         Kotoshiro          2018  \n",
       "88310  761140         Kotoshiro          2018  \n",
       "88310  761140         Kotoshiro          2018  \n",
       "88310  761140         Kotoshiro          2018  \n",
       "88310  761140         Kotoshiro          2018  \n",
       "88311  643980  Secret Level SRL          2018  \n",
       "88311  643980  Secret Level SRL          2018  \n",
       "88311  643980  Secret Level SRL          2018  \n",
       "88311  643980  Secret Level SRL          2018  \n",
       "88312  670290      Poolians.com          2017  "
      ]
     },
     "execution_count": 16,
     "metadata": {},
     "output_type": "execute_result"
    }
   ],
   "source": [
    "df_games2.head(10)"
   ]
  },
  {
   "cell_type": "code",
   "execution_count": 17,
   "metadata": {},
   "outputs": [
    {
     "data": {
      "text/html": [
       "<div>\n",
       "<style scoped>\n",
       "    .dataframe tbody tr th:only-of-type {\n",
       "        vertical-align: middle;\n",
       "    }\n",
       "\n",
       "    .dataframe tbody tr th {\n",
       "        vertical-align: top;\n",
       "    }\n",
       "\n",
       "    .dataframe thead th {\n",
       "        text-align: right;\n",
       "    }\n",
       "</style>\n",
       "<table border=\"1\" class=\"dataframe\">\n",
       "  <thead>\n",
       "    <tr style=\"text-align: right;\">\n",
       "      <th></th>\n",
       "      <th>genres</th>\n",
       "      <th>app_name</th>\n",
       "      <th>release_date</th>\n",
       "      <th>reviews_url</th>\n",
       "      <th>specs</th>\n",
       "      <th>id</th>\n",
       "      <th>developer</th>\n",
       "      <th>released_year</th>\n",
       "    </tr>\n",
       "  </thead>\n",
       "  <tbody>\n",
       "    <tr>\n",
       "      <th>88310</th>\n",
       "      <td>Action</td>\n",
       "      <td>Lost Summoner Kitty</td>\n",
       "      <td>2018-01-04</td>\n",
       "      <td>http://steamcommunity.com/app/761140/reviews/?browsefilter=mostrecent&amp;p=1</td>\n",
       "      <td>[Single-player]</td>\n",
       "      <td>761140</td>\n",
       "      <td>Kotoshiro</td>\n",
       "      <td>2018</td>\n",
       "    </tr>\n",
       "    <tr>\n",
       "      <th>88310</th>\n",
       "      <td>Casual</td>\n",
       "      <td>Lost Summoner Kitty</td>\n",
       "      <td>2018-01-04</td>\n",
       "      <td>http://steamcommunity.com/app/761140/reviews/?browsefilter=mostrecent&amp;p=1</td>\n",
       "      <td>[Single-player]</td>\n",
       "      <td>761140</td>\n",
       "      <td>Kotoshiro</td>\n",
       "      <td>2018</td>\n",
       "    </tr>\n",
       "    <tr>\n",
       "      <th>88310</th>\n",
       "      <td>Indie</td>\n",
       "      <td>Lost Summoner Kitty</td>\n",
       "      <td>2018-01-04</td>\n",
       "      <td>http://steamcommunity.com/app/761140/reviews/?browsefilter=mostrecent&amp;p=1</td>\n",
       "      <td>[Single-player]</td>\n",
       "      <td>761140</td>\n",
       "      <td>Kotoshiro</td>\n",
       "      <td>2018</td>\n",
       "    </tr>\n",
       "    <tr>\n",
       "      <th>88310</th>\n",
       "      <td>Simulation</td>\n",
       "      <td>Lost Summoner Kitty</td>\n",
       "      <td>2018-01-04</td>\n",
       "      <td>http://steamcommunity.com/app/761140/reviews/?browsefilter=mostrecent&amp;p=1</td>\n",
       "      <td>[Single-player]</td>\n",
       "      <td>761140</td>\n",
       "      <td>Kotoshiro</td>\n",
       "      <td>2018</td>\n",
       "    </tr>\n",
       "    <tr>\n",
       "      <th>88310</th>\n",
       "      <td>Strategy</td>\n",
       "      <td>Lost Summoner Kitty</td>\n",
       "      <td>2018-01-04</td>\n",
       "      <td>http://steamcommunity.com/app/761140/reviews/?browsefilter=mostrecent&amp;p=1</td>\n",
       "      <td>[Single-player]</td>\n",
       "      <td>761140</td>\n",
       "      <td>Kotoshiro</td>\n",
       "      <td>2018</td>\n",
       "    </tr>\n",
       "    <tr>\n",
       "      <th>88311</th>\n",
       "      <td>Free to Play</td>\n",
       "      <td>Ironbound</td>\n",
       "      <td>2018-01-04</td>\n",
       "      <td>http://steamcommunity.com/app/643980/reviews/?browsefilter=mostrecent&amp;p=1</td>\n",
       "      <td>[Single-player, Multi-player, Online Multi-Player, Cross-Platform Multiplayer, Steam Achievements, Steam Trading Cards, In-App Purchases]</td>\n",
       "      <td>643980</td>\n",
       "      <td>Secret Level SRL</td>\n",
       "      <td>2018</td>\n",
       "    </tr>\n",
       "    <tr>\n",
       "      <th>88311</th>\n",
       "      <td>Indie</td>\n",
       "      <td>Ironbound</td>\n",
       "      <td>2018-01-04</td>\n",
       "      <td>http://steamcommunity.com/app/643980/reviews/?browsefilter=mostrecent&amp;p=1</td>\n",
       "      <td>[Single-player, Multi-player, Online Multi-Player, Cross-Platform Multiplayer, Steam Achievements, Steam Trading Cards, In-App Purchases]</td>\n",
       "      <td>643980</td>\n",
       "      <td>Secret Level SRL</td>\n",
       "      <td>2018</td>\n",
       "    </tr>\n",
       "    <tr>\n",
       "      <th>88311</th>\n",
       "      <td>RPG</td>\n",
       "      <td>Ironbound</td>\n",
       "      <td>2018-01-04</td>\n",
       "      <td>http://steamcommunity.com/app/643980/reviews/?browsefilter=mostrecent&amp;p=1</td>\n",
       "      <td>[Single-player, Multi-player, Online Multi-Player, Cross-Platform Multiplayer, Steam Achievements, Steam Trading Cards, In-App Purchases]</td>\n",
       "      <td>643980</td>\n",
       "      <td>Secret Level SRL</td>\n",
       "      <td>2018</td>\n",
       "    </tr>\n",
       "    <tr>\n",
       "      <th>88311</th>\n",
       "      <td>Strategy</td>\n",
       "      <td>Ironbound</td>\n",
       "      <td>2018-01-04</td>\n",
       "      <td>http://steamcommunity.com/app/643980/reviews/?browsefilter=mostrecent&amp;p=1</td>\n",
       "      <td>[Single-player, Multi-player, Online Multi-Player, Cross-Platform Multiplayer, Steam Achievements, Steam Trading Cards, In-App Purchases]</td>\n",
       "      <td>643980</td>\n",
       "      <td>Secret Level SRL</td>\n",
       "      <td>2018</td>\n",
       "    </tr>\n",
       "    <tr>\n",
       "      <th>88312</th>\n",
       "      <td>Casual</td>\n",
       "      <td>Real Pool 3D - Poolians</td>\n",
       "      <td>2017-07-24</td>\n",
       "      <td>http://steamcommunity.com/app/670290/reviews/?browsefilter=mostrecent&amp;p=1</td>\n",
       "      <td>[Single-player, Multi-player, Online Multi-Player, In-App Purchases, Stats]</td>\n",
       "      <td>670290</td>\n",
       "      <td>Poolians.com</td>\n",
       "      <td>2017</td>\n",
       "    </tr>\n",
       "  </tbody>\n",
       "</table>\n",
       "</div>"
      ],
      "text/plain": [
       "             genres                 app_name release_date  \\\n",
       "88310        Action      Lost Summoner Kitty   2018-01-04   \n",
       "88310        Casual      Lost Summoner Kitty   2018-01-04   \n",
       "88310         Indie      Lost Summoner Kitty   2018-01-04   \n",
       "88310    Simulation      Lost Summoner Kitty   2018-01-04   \n",
       "88310      Strategy      Lost Summoner Kitty   2018-01-04   \n",
       "88311  Free to Play                Ironbound   2018-01-04   \n",
       "88311         Indie                Ironbound   2018-01-04   \n",
       "88311           RPG                Ironbound   2018-01-04   \n",
       "88311      Strategy                Ironbound   2018-01-04   \n",
       "88312        Casual  Real Pool 3D - Poolians   2017-07-24   \n",
       "\n",
       "                                                                     reviews_url  \\\n",
       "88310  http://steamcommunity.com/app/761140/reviews/?browsefilter=mostrecent&p=1   \n",
       "88310  http://steamcommunity.com/app/761140/reviews/?browsefilter=mostrecent&p=1   \n",
       "88310  http://steamcommunity.com/app/761140/reviews/?browsefilter=mostrecent&p=1   \n",
       "88310  http://steamcommunity.com/app/761140/reviews/?browsefilter=mostrecent&p=1   \n",
       "88310  http://steamcommunity.com/app/761140/reviews/?browsefilter=mostrecent&p=1   \n",
       "88311  http://steamcommunity.com/app/643980/reviews/?browsefilter=mostrecent&p=1   \n",
       "88311  http://steamcommunity.com/app/643980/reviews/?browsefilter=mostrecent&p=1   \n",
       "88311  http://steamcommunity.com/app/643980/reviews/?browsefilter=mostrecent&p=1   \n",
       "88311  http://steamcommunity.com/app/643980/reviews/?browsefilter=mostrecent&p=1   \n",
       "88312  http://steamcommunity.com/app/670290/reviews/?browsefilter=mostrecent&p=1   \n",
       "\n",
       "                                                                                                                                           specs  \\\n",
       "88310                                                                                                                            [Single-player]   \n",
       "88310                                                                                                                            [Single-player]   \n",
       "88310                                                                                                                            [Single-player]   \n",
       "88310                                                                                                                            [Single-player]   \n",
       "88310                                                                                                                            [Single-player]   \n",
       "88311  [Single-player, Multi-player, Online Multi-Player, Cross-Platform Multiplayer, Steam Achievements, Steam Trading Cards, In-App Purchases]   \n",
       "88311  [Single-player, Multi-player, Online Multi-Player, Cross-Platform Multiplayer, Steam Achievements, Steam Trading Cards, In-App Purchases]   \n",
       "88311  [Single-player, Multi-player, Online Multi-Player, Cross-Platform Multiplayer, Steam Achievements, Steam Trading Cards, In-App Purchases]   \n",
       "88311  [Single-player, Multi-player, Online Multi-Player, Cross-Platform Multiplayer, Steam Achievements, Steam Trading Cards, In-App Purchases]   \n",
       "88312                                                                [Single-player, Multi-player, Online Multi-Player, In-App Purchases, Stats]   \n",
       "\n",
       "           id         developer released_year  \n",
       "88310  761140         Kotoshiro          2018  \n",
       "88310  761140         Kotoshiro          2018  \n",
       "88310  761140         Kotoshiro          2018  \n",
       "88310  761140         Kotoshiro          2018  \n",
       "88310  761140         Kotoshiro          2018  \n",
       "88311  643980  Secret Level SRL          2018  \n",
       "88311  643980  Secret Level SRL          2018  \n",
       "88311  643980  Secret Level SRL          2018  \n",
       "88311  643980  Secret Level SRL          2018  \n",
       "88312  670290      Poolians.com          2017  "
      ]
     },
     "execution_count": 17,
     "metadata": {},
     "output_type": "execute_result"
    }
   ],
   "source": [
    "df_games2 = df_games2.map(lambda x: x.strip() if isinstance(x, str) else x) # ---> Aplying strip function to eliminate blank spaces (start,end)\n",
    "df_games2.head(10)"
   ]
  },
  {
   "cell_type": "code",
   "execution_count": 18,
   "metadata": {},
   "outputs": [
    {
     "data": {
      "text/html": [
       "<div>\n",
       "<style scoped>\n",
       "    .dataframe tbody tr th:only-of-type {\n",
       "        vertical-align: middle;\n",
       "    }\n",
       "\n",
       "    .dataframe tbody tr th {\n",
       "        vertical-align: top;\n",
       "    }\n",
       "\n",
       "    .dataframe thead th {\n",
       "        text-align: right;\n",
       "    }\n",
       "</style>\n",
       "<table border=\"1\" class=\"dataframe\">\n",
       "  <thead>\n",
       "    <tr style=\"text-align: right;\">\n",
       "      <th></th>\n",
       "      <th>genres</th>\n",
       "      <th>app_name</th>\n",
       "      <th>release_date</th>\n",
       "      <th>reviews_url</th>\n",
       "      <th>specs</th>\n",
       "      <th>item_id</th>\n",
       "      <th>developer</th>\n",
       "      <th>released_year</th>\n",
       "    </tr>\n",
       "  </thead>\n",
       "  <tbody>\n",
       "    <tr>\n",
       "      <th>88310</th>\n",
       "      <td>Action</td>\n",
       "      <td>Lost Summoner Kitty</td>\n",
       "      <td>2018-01-04</td>\n",
       "      <td>http://steamcommunity.com/app/761140/reviews/?browsefilter=mostrecent&amp;p=1</td>\n",
       "      <td>[Single-player]</td>\n",
       "      <td>761140</td>\n",
       "      <td>Kotoshiro</td>\n",
       "      <td>2018</td>\n",
       "    </tr>\n",
       "    <tr>\n",
       "      <th>88310</th>\n",
       "      <td>Casual</td>\n",
       "      <td>Lost Summoner Kitty</td>\n",
       "      <td>2018-01-04</td>\n",
       "      <td>http://steamcommunity.com/app/761140/reviews/?browsefilter=mostrecent&amp;p=1</td>\n",
       "      <td>[Single-player]</td>\n",
       "      <td>761140</td>\n",
       "      <td>Kotoshiro</td>\n",
       "      <td>2018</td>\n",
       "    </tr>\n",
       "    <tr>\n",
       "      <th>88310</th>\n",
       "      <td>Indie</td>\n",
       "      <td>Lost Summoner Kitty</td>\n",
       "      <td>2018-01-04</td>\n",
       "      <td>http://steamcommunity.com/app/761140/reviews/?browsefilter=mostrecent&amp;p=1</td>\n",
       "      <td>[Single-player]</td>\n",
       "      <td>761140</td>\n",
       "      <td>Kotoshiro</td>\n",
       "      <td>2018</td>\n",
       "    </tr>\n",
       "  </tbody>\n",
       "</table>\n",
       "</div>"
      ],
      "text/plain": [
       "       genres             app_name release_date  \\\n",
       "88310  Action  Lost Summoner Kitty   2018-01-04   \n",
       "88310  Casual  Lost Summoner Kitty   2018-01-04   \n",
       "88310   Indie  Lost Summoner Kitty   2018-01-04   \n",
       "\n",
       "                                                                     reviews_url  \\\n",
       "88310  http://steamcommunity.com/app/761140/reviews/?browsefilter=mostrecent&p=1   \n",
       "88310  http://steamcommunity.com/app/761140/reviews/?browsefilter=mostrecent&p=1   \n",
       "88310  http://steamcommunity.com/app/761140/reviews/?browsefilter=mostrecent&p=1   \n",
       "\n",
       "                 specs item_id  developer released_year  \n",
       "88310  [Single-player]  761140  Kotoshiro          2018  \n",
       "88310  [Single-player]  761140  Kotoshiro          2018  \n",
       "88310  [Single-player]  761140  Kotoshiro          2018  "
      ]
     },
     "execution_count": 18,
     "metadata": {},
     "output_type": "execute_result"
    }
   ],
   "source": [
    "df_games2.rename(columns={'id': 'item_id'}, inplace=True)       # ---> update the name of the column 'id' to 'item_id'\n",
    "df_games2.head(3)"
   ]
  },
  {
   "cell_type": "markdown",
   "metadata": {},
   "source": [
    "### 2.4  Handling of 'NaN and Empty' values"
   ]
  },
  {
   "cell_type": "code",
   "execution_count": 19,
   "metadata": {},
   "outputs": [],
   "source": [
    "df_games2.drop(['reviews_url','release_date'], axis=1, inplace=True)    # ---> Review and removal of complete columns without relevant information (second round)"
   ]
  },
  {
   "cell_type": "code",
   "execution_count": 20,
   "metadata": {},
   "outputs": [
    {
     "name": "stdout",
     "output_type": "stream",
     "text": [
      "genres           3282\n",
      "app_name            2\n",
      "specs             940\n",
      "item_id             2\n",
      "developer        3478\n",
      "released_year    2386\n",
      "dtype: int64\n"
     ]
    }
   ],
   "source": [
    "print(df_games2.isna().sum())                                           # ---> Number of NaN fields in 'df_games2' by column"
   ]
  },
  {
   "cell_type": "code",
   "execution_count": 21,
   "metadata": {},
   "outputs": [
    {
     "name": "stdout",
     "output_type": "stream",
     "text": [
      "genres           0\n",
      "app_name         0\n",
      "specs            0\n",
      "item_id          0\n",
      "developer        0\n",
      "released_year    0\n",
      "dtype: int64\n"
     ]
    }
   ],
   "source": [
    "print((df_games2 == '').sum())                                          # ---> Number of empty fields in 'df_games2' by column"
   ]
  },
  {
   "cell_type": "code",
   "execution_count": 22,
   "metadata": {},
   "outputs": [
    {
     "name": "stdout",
     "output_type": "stream",
     "text": [
      "genres             0\n",
      "app_name           0\n",
      "specs            557\n",
      "item_id            0\n",
      "developer          0\n",
      "released_year      0\n",
      "dtype: int64\n"
     ]
    }
   ],
   "source": [
    "df_games3 = df_games2.dropna(subset=['developer', 'released_year', 'genres', 'item_id'])     # ---> Removal of NaN rows from columns: 'developer', 'released_year', 'genres' and 'item_id'\n",
    "print(df_games3.isna().sum())     "
   ]
  },
  {
   "cell_type": "code",
   "execution_count": 23,
   "metadata": {},
   "outputs": [],
   "source": [
    "df_games3['released_year'] = df_games3['released_year'].astype('int64')     # ---> Conversion of 'released_year' column to int64 type"
   ]
  },
  {
   "cell_type": "code",
   "execution_count": 24,
   "metadata": {},
   "outputs": [
    {
     "name": "stdout",
     "output_type": "stream",
     "text": [
      "89303      Animation &amp; Modeling\n",
      "89404      Animation &amp; Modeling\n",
      "89692     Design &amp; Illustration\n",
      "89701     Design &amp; Illustration\n",
      "89709     Design &amp; Illustration\n",
      "                    ...            \n",
      "118761     Animation &amp; Modeling\n",
      "118787    Design &amp; Illustration\n",
      "120229     Animation &amp; Modeling\n",
      "120229    Design &amp; Illustration\n",
      "120385    Design &amp; Illustration\n",
      "Name: genres, Length: 643, dtype: object\n"
     ]
    }
   ],
   "source": [
    "amp_files = df_games3.loc[df_games3['genres'].str.contains('&')]\n",
    "print(amp_files['genres'])"
   ]
  },
  {
   "cell_type": "code",
   "execution_count": 25,
   "metadata": {},
   "outputs": [],
   "source": [
    "df_games3['genres'] = df_games3['genres'].str.replace('&amp;', '')"
   ]
  },
  {
   "cell_type": "code",
   "execution_count": 26,
   "metadata": {},
   "outputs": [
    {
     "data": {
      "text/html": [
       "<div>\n",
       "<style scoped>\n",
       "    .dataframe tbody tr th:only-of-type {\n",
       "        vertical-align: middle;\n",
       "    }\n",
       "\n",
       "    .dataframe tbody tr th {\n",
       "        vertical-align: top;\n",
       "    }\n",
       "\n",
       "    .dataframe thead th {\n",
       "        text-align: right;\n",
       "    }\n",
       "</style>\n",
       "<table border=\"1\" class=\"dataframe\">\n",
       "  <thead>\n",
       "    <tr style=\"text-align: right;\">\n",
       "      <th></th>\n",
       "      <th>genres</th>\n",
       "      <th>app_name</th>\n",
       "      <th>specs</th>\n",
       "      <th>item_id</th>\n",
       "      <th>developer</th>\n",
       "      <th>released_year</th>\n",
       "    </tr>\n",
       "  </thead>\n",
       "  <tbody>\n",
       "    <tr>\n",
       "      <th>88310</th>\n",
       "      <td>Action</td>\n",
       "      <td>Lost Summoner Kitty</td>\n",
       "      <td>[Single-player]</td>\n",
       "      <td>761140</td>\n",
       "      <td>Kotoshiro</td>\n",
       "      <td>2018</td>\n",
       "    </tr>\n",
       "    <tr>\n",
       "      <th>88310</th>\n",
       "      <td>Casual</td>\n",
       "      <td>Lost Summoner Kitty</td>\n",
       "      <td>[Single-player]</td>\n",
       "      <td>761140</td>\n",
       "      <td>Kotoshiro</td>\n",
       "      <td>2018</td>\n",
       "    </tr>\n",
       "    <tr>\n",
       "      <th>88310</th>\n",
       "      <td>Indie</td>\n",
       "      <td>Lost Summoner Kitty</td>\n",
       "      <td>[Single-player]</td>\n",
       "      <td>761140</td>\n",
       "      <td>Kotoshiro</td>\n",
       "      <td>2018</td>\n",
       "    </tr>\n",
       "    <tr>\n",
       "      <th>88310</th>\n",
       "      <td>Simulation</td>\n",
       "      <td>Lost Summoner Kitty</td>\n",
       "      <td>[Single-player]</td>\n",
       "      <td>761140</td>\n",
       "      <td>Kotoshiro</td>\n",
       "      <td>2018</td>\n",
       "    </tr>\n",
       "    <tr>\n",
       "      <th>88310</th>\n",
       "      <td>Strategy</td>\n",
       "      <td>Lost Summoner Kitty</td>\n",
       "      <td>[Single-player]</td>\n",
       "      <td>761140</td>\n",
       "      <td>Kotoshiro</td>\n",
       "      <td>2018</td>\n",
       "    </tr>\n",
       "  </tbody>\n",
       "</table>\n",
       "</div>"
      ],
      "text/plain": [
       "           genres             app_name            specs item_id  developer  \\\n",
       "88310      Action  Lost Summoner Kitty  [Single-player]  761140  Kotoshiro   \n",
       "88310      Casual  Lost Summoner Kitty  [Single-player]  761140  Kotoshiro   \n",
       "88310       Indie  Lost Summoner Kitty  [Single-player]  761140  Kotoshiro   \n",
       "88310  Simulation  Lost Summoner Kitty  [Single-player]  761140  Kotoshiro   \n",
       "88310    Strategy  Lost Summoner Kitty  [Single-player]  761140  Kotoshiro   \n",
       "\n",
       "       released_year  \n",
       "88310           2018  \n",
       "88310           2018  \n",
       "88310           2018  \n",
       "88310           2018  \n",
       "88310           2018  "
      ]
     },
     "execution_count": 26,
     "metadata": {},
     "output_type": "execute_result"
    }
   ],
   "source": [
    "df_games3.head()"
   ]
  },
  {
   "cell_type": "code",
   "execution_count": 27,
   "metadata": {},
   "outputs": [
    {
     "data": {
      "text/plain": [
       "(70864, 6)"
      ]
     },
     "execution_count": 27,
     "metadata": {},
     "output_type": "execute_result"
    }
   ],
   "source": [
    "df_games3.shape"
   ]
  },
  {
   "cell_type": "code",
   "execution_count": 28,
   "metadata": {},
   "outputs": [
    {
     "name": "stdout",
     "output_type": "stream",
     "text": [
      "<class 'pandas.core.frame.DataFrame'>\n",
      "Index: 70864 entries, 88310 to 120443\n",
      "Data columns (total 6 columns):\n",
      " #   Column         Non-Null Count  Dtype \n",
      "---  ------         --------------  ----- \n",
      " 0   genres         70864 non-null  object\n",
      " 1   app_name       70864 non-null  object\n",
      " 2   specs          70307 non-null  object\n",
      " 3   item_id        70864 non-null  object\n",
      " 4   developer      70864 non-null  object\n",
      " 5   released_year  70864 non-null  int64 \n",
      "dtypes: int64(1), object(5)\n",
      "memory usage: 3.8+ MB\n"
     ]
    }
   ],
   "source": [
    "df_games3.info()"
   ]
  },
  {
   "cell_type": "markdown",
   "metadata": {},
   "source": [
    "# III. LOAD"
   ]
  },
  {
   "cell_type": "code",
   "execution_count": 29,
   "metadata": {},
   "outputs": [],
   "source": [
    "df_games3.to_csv('./Datasets/processing/games.csv', encoding='utf-8', index=False)\n",
    "df_games_raw.to_csv('./Datasets/processing/games_raw.csv', encoding='utf-8', index=False)"
   ]
  }
 ],
 "metadata": {
  "kernelspec": {
   "display_name": "Python 3",
   "language": "python",
   "name": "python3"
  },
  "language_info": {
   "codemirror_mode": {
    "name": "ipython",
    "version": 3
   },
   "file_extension": ".py",
   "mimetype": "text/x-python",
   "name": "python",
   "nbconvert_exporter": "python",
   "pygments_lexer": "ipython3",
   "version": "3.11.7"
  }
 },
 "nbformat": 4,
 "nbformat_minor": 2
}
